{
 "cells": [
  {
   "cell_type": "code",
   "execution_count": 138,
   "metadata": {},
   "outputs": [],
   "source": [
    "import pandas as pd\n",
    "import numpy as np\n",
    "from pennylane import numpy as np\n",
    "from sklearn.preprocessing import normalize\n",
    "from sklearn.preprocessing import StandardScaler\n",
    "\n",
    "import pennylane as qml\n",
    "from pennylane_qiskit import IBMQDevice\n",
    "from pennylane_qiskit import BasicAerDevice\n",
    "from pennylane.templates.embeddings import AngleEmbedding, AmplitudeEmbedding\n",
    "from pennylane.optimize import AdamOptimizer\n",
    "from sklearn.decomposition import PCA\n",
    "from sklearn.preprocessing import StandardScaler\n",
    "from sklearn import metrics\n",
    "from sklearn.model_selection import train_test_split\n",
    "from sklearn.preprocessing import MinMaxScaler\n",
    "from sklearn.discriminant_analysis import LinearDiscriminantAnalysis as LDA\n",
    "\n",
    "\n",
    "import time\n",
    "start = time.time()"
   ]
  },
  {
   "cell_type": "code",
   "execution_count": 139,
   "metadata": {},
   "outputs": [],
   "source": [
    "# Read out CSV and sets/samples creation\n",
    "\n",
    "df = pd.read_csv('fraud_detection_bank_dataset.csv', sep=',')\n",
    "df = df.astype(float)\n",
    "df = df.drop(['Unnamed: 0'], axis = 1)\n",
    "df_sample = df.sample(2000)\n",
    "train,test = train_test_split(df_sample, test_size=0.30, random_state=10)\n",
    "train_set = train\n",
    "test_set = test\n",
    "np.random.seed(42)"
   ]
  },
  {
   "cell_type": "code",
   "execution_count": 140,
   "metadata": {},
   "outputs": [
    {
     "name": "stdout",
     "output_type": "stream",
     "text": [
      "<class 'pandas.core.frame.DataFrame'>\n",
      "Int64Index: 2000 entries, 10214 to 13822\n",
      "Columns: 113 entries, col_0 to targets\n",
      "dtypes: float64(113)\n",
      "memory usage: 1.7 MB\n"
     ]
    }
   ],
   "source": [
    "# Review the information related to the dataframe\n",
    "\n",
    "df_sample.info()"
   ]
  },
  {
   "cell_type": "code",
   "execution_count": 141,
   "metadata": {},
   "outputs": [
    {
     "data": {
      "text/html": [
       "<div>\n",
       "<style scoped>\n",
       "    .dataframe tbody tr th:only-of-type {\n",
       "        vertical-align: middle;\n",
       "    }\n",
       "\n",
       "    .dataframe tbody tr th {\n",
       "        vertical-align: top;\n",
       "    }\n",
       "\n",
       "    .dataframe thead th {\n",
       "        text-align: right;\n",
       "    }\n",
       "</style>\n",
       "<table border=\"1\" class=\"dataframe\">\n",
       "  <thead>\n",
       "    <tr style=\"text-align: right;\">\n",
       "      <th></th>\n",
       "      <th>col_0</th>\n",
       "      <th>col_1</th>\n",
       "      <th>col_2</th>\n",
       "      <th>col_3</th>\n",
       "      <th>col_4</th>\n",
       "      <th>col_5</th>\n",
       "      <th>col_6</th>\n",
       "      <th>col_7</th>\n",
       "      <th>col_8</th>\n",
       "      <th>col_9</th>\n",
       "      <th>...</th>\n",
       "      <th>col_103</th>\n",
       "      <th>col_104</th>\n",
       "      <th>col_105</th>\n",
       "      <th>col_106</th>\n",
       "      <th>col_107</th>\n",
       "      <th>col_108</th>\n",
       "      <th>col_109</th>\n",
       "      <th>col_110</th>\n",
       "      <th>col_111</th>\n",
       "      <th>targets</th>\n",
       "    </tr>\n",
       "  </thead>\n",
       "  <tbody>\n",
       "    <tr>\n",
       "      <th>count</th>\n",
       "      <td>2000.000000</td>\n",
       "      <td>2000.000000</td>\n",
       "      <td>2000.000000</td>\n",
       "      <td>2000.000000</td>\n",
       "      <td>2000.000000</td>\n",
       "      <td>2000.000000</td>\n",
       "      <td>2000.000000</td>\n",
       "      <td>2000.000000</td>\n",
       "      <td>2000.0</td>\n",
       "      <td>2000.0</td>\n",
       "      <td>...</td>\n",
       "      <td>2000.000000</td>\n",
       "      <td>2000.00000</td>\n",
       "      <td>2000.00000</td>\n",
       "      <td>2000.000000</td>\n",
       "      <td>2000.000000</td>\n",
       "      <td>2000.0</td>\n",
       "      <td>2000.000000</td>\n",
       "      <td>2000.000000</td>\n",
       "      <td>2000.000000</td>\n",
       "      <td>2000.000000</td>\n",
       "    </tr>\n",
       "    <tr>\n",
       "      <th>mean</th>\n",
       "      <td>3.288000</td>\n",
       "      <td>292.928000</td>\n",
       "      <td>0.300000</td>\n",
       "      <td>2.379000</td>\n",
       "      <td>0.085500</td>\n",
       "      <td>0.974500</td>\n",
       "      <td>2.290000</td>\n",
       "      <td>3.288000</td>\n",
       "      <td>0.0</td>\n",
       "      <td>0.0</td>\n",
       "      <td>...</td>\n",
       "      <td>0.004000</td>\n",
       "      <td>0.36600</td>\n",
       "      <td>0.00150</td>\n",
       "      <td>0.307000</td>\n",
       "      <td>0.197000</td>\n",
       "      <td>0.0</td>\n",
       "      <td>0.046500</td>\n",
       "      <td>0.033000</td>\n",
       "      <td>45.092500</td>\n",
       "      <td>0.277500</td>\n",
       "    </tr>\n",
       "    <tr>\n",
       "      <th>std</th>\n",
       "      <td>14.770584</td>\n",
       "      <td>722.829477</td>\n",
       "      <td>2.342166</td>\n",
       "      <td>8.138641</td>\n",
       "      <td>0.741933</td>\n",
       "      <td>3.368757</td>\n",
       "      <td>2.997564</td>\n",
       "      <td>14.770584</td>\n",
       "      <td>0.0</td>\n",
       "      <td>0.0</td>\n",
       "      <td>...</td>\n",
       "      <td>0.063135</td>\n",
       "      <td>0.48183</td>\n",
       "      <td>0.03871</td>\n",
       "      <td>0.461365</td>\n",
       "      <td>0.397832</td>\n",
       "      <td>0.0</td>\n",
       "      <td>0.210618</td>\n",
       "      <td>0.382079</td>\n",
       "      <td>59.864654</td>\n",
       "      <td>0.447877</td>\n",
       "    </tr>\n",
       "    <tr>\n",
       "      <th>min</th>\n",
       "      <td>0.000000</td>\n",
       "      <td>0.000000</td>\n",
       "      <td>0.000000</td>\n",
       "      <td>0.000000</td>\n",
       "      <td>0.000000</td>\n",
       "      <td>0.000000</td>\n",
       "      <td>-1.000000</td>\n",
       "      <td>0.000000</td>\n",
       "      <td>0.0</td>\n",
       "      <td>0.0</td>\n",
       "      <td>...</td>\n",
       "      <td>0.000000</td>\n",
       "      <td>0.00000</td>\n",
       "      <td>0.00000</td>\n",
       "      <td>0.000000</td>\n",
       "      <td>0.000000</td>\n",
       "      <td>0.0</td>\n",
       "      <td>0.000000</td>\n",
       "      <td>0.000000</td>\n",
       "      <td>0.000000</td>\n",
       "      <td>0.000000</td>\n",
       "    </tr>\n",
       "    <tr>\n",
       "      <th>25%</th>\n",
       "      <td>0.000000</td>\n",
       "      <td>37.750000</td>\n",
       "      <td>0.000000</td>\n",
       "      <td>0.000000</td>\n",
       "      <td>0.000000</td>\n",
       "      <td>0.000000</td>\n",
       "      <td>0.000000</td>\n",
       "      <td>0.000000</td>\n",
       "      <td>0.0</td>\n",
       "      <td>0.0</td>\n",
       "      <td>...</td>\n",
       "      <td>0.000000</td>\n",
       "      <td>0.00000</td>\n",
       "      <td>0.00000</td>\n",
       "      <td>0.000000</td>\n",
       "      <td>0.000000</td>\n",
       "      <td>0.0</td>\n",
       "      <td>0.000000</td>\n",
       "      <td>0.000000</td>\n",
       "      <td>5.000000</td>\n",
       "      <td>0.000000</td>\n",
       "    </tr>\n",
       "    <tr>\n",
       "      <th>50%</th>\n",
       "      <td>0.000000</td>\n",
       "      <td>93.000000</td>\n",
       "      <td>0.000000</td>\n",
       "      <td>1.000000</td>\n",
       "      <td>0.000000</td>\n",
       "      <td>0.000000</td>\n",
       "      <td>2.000000</td>\n",
       "      <td>0.000000</td>\n",
       "      <td>0.0</td>\n",
       "      <td>0.0</td>\n",
       "      <td>...</td>\n",
       "      <td>0.000000</td>\n",
       "      <td>0.00000</td>\n",
       "      <td>0.00000</td>\n",
       "      <td>0.000000</td>\n",
       "      <td>0.000000</td>\n",
       "      <td>0.0</td>\n",
       "      <td>0.000000</td>\n",
       "      <td>0.000000</td>\n",
       "      <td>20.000000</td>\n",
       "      <td>0.000000</td>\n",
       "    </tr>\n",
       "    <tr>\n",
       "      <th>75%</th>\n",
       "      <td>1.000000</td>\n",
       "      <td>270.500000</td>\n",
       "      <td>0.000000</td>\n",
       "      <td>2.000000</td>\n",
       "      <td>0.000000</td>\n",
       "      <td>1.000000</td>\n",
       "      <td>6.000000</td>\n",
       "      <td>1.000000</td>\n",
       "      <td>0.0</td>\n",
       "      <td>0.0</td>\n",
       "      <td>...</td>\n",
       "      <td>0.000000</td>\n",
       "      <td>1.00000</td>\n",
       "      <td>0.00000</td>\n",
       "      <td>1.000000</td>\n",
       "      <td>0.000000</td>\n",
       "      <td>0.0</td>\n",
       "      <td>0.000000</td>\n",
       "      <td>0.000000</td>\n",
       "      <td>62.000000</td>\n",
       "      <td>1.000000</td>\n",
       "    </tr>\n",
       "    <tr>\n",
       "      <th>max</th>\n",
       "      <td>368.000000</td>\n",
       "      <td>19687.000000</td>\n",
       "      <td>86.000000</td>\n",
       "      <td>183.000000</td>\n",
       "      <td>26.000000</td>\n",
       "      <td>78.000000</td>\n",
       "      <td>11.000000</td>\n",
       "      <td>368.000000</td>\n",
       "      <td>0.0</td>\n",
       "      <td>0.0</td>\n",
       "      <td>...</td>\n",
       "      <td>1.000000</td>\n",
       "      <td>1.00000</td>\n",
       "      <td>1.00000</td>\n",
       "      <td>1.000000</td>\n",
       "      <td>1.000000</td>\n",
       "      <td>0.0</td>\n",
       "      <td>1.000000</td>\n",
       "      <td>10.000000</td>\n",
       "      <td>502.000000</td>\n",
       "      <td>1.000000</td>\n",
       "    </tr>\n",
       "  </tbody>\n",
       "</table>\n",
       "<p>8 rows × 113 columns</p>\n",
       "</div>"
      ],
      "text/plain": [
       "             col_0         col_1        col_2        col_3        col_4  \\\n",
       "count  2000.000000   2000.000000  2000.000000  2000.000000  2000.000000   \n",
       "mean      3.288000    292.928000     0.300000     2.379000     0.085500   \n",
       "std      14.770584    722.829477     2.342166     8.138641     0.741933   \n",
       "min       0.000000      0.000000     0.000000     0.000000     0.000000   \n",
       "25%       0.000000     37.750000     0.000000     0.000000     0.000000   \n",
       "50%       0.000000     93.000000     0.000000     1.000000     0.000000   \n",
       "75%       1.000000    270.500000     0.000000     2.000000     0.000000   \n",
       "max     368.000000  19687.000000    86.000000   183.000000    26.000000   \n",
       "\n",
       "             col_5        col_6        col_7   col_8   col_9  ...  \\\n",
       "count  2000.000000  2000.000000  2000.000000  2000.0  2000.0  ...   \n",
       "mean      0.974500     2.290000     3.288000     0.0     0.0  ...   \n",
       "std       3.368757     2.997564    14.770584     0.0     0.0  ...   \n",
       "min       0.000000    -1.000000     0.000000     0.0     0.0  ...   \n",
       "25%       0.000000     0.000000     0.000000     0.0     0.0  ...   \n",
       "50%       0.000000     2.000000     0.000000     0.0     0.0  ...   \n",
       "75%       1.000000     6.000000     1.000000     0.0     0.0  ...   \n",
       "max      78.000000    11.000000   368.000000     0.0     0.0  ...   \n",
       "\n",
       "           col_103     col_104     col_105      col_106      col_107  col_108  \\\n",
       "count  2000.000000  2000.00000  2000.00000  2000.000000  2000.000000   2000.0   \n",
       "mean      0.004000     0.36600     0.00150     0.307000     0.197000      0.0   \n",
       "std       0.063135     0.48183     0.03871     0.461365     0.397832      0.0   \n",
       "min       0.000000     0.00000     0.00000     0.000000     0.000000      0.0   \n",
       "25%       0.000000     0.00000     0.00000     0.000000     0.000000      0.0   \n",
       "50%       0.000000     0.00000     0.00000     0.000000     0.000000      0.0   \n",
       "75%       0.000000     1.00000     0.00000     1.000000     0.000000      0.0   \n",
       "max       1.000000     1.00000     1.00000     1.000000     1.000000      0.0   \n",
       "\n",
       "           col_109      col_110      col_111      targets  \n",
       "count  2000.000000  2000.000000  2000.000000  2000.000000  \n",
       "mean      0.046500     0.033000    45.092500     0.277500  \n",
       "std       0.210618     0.382079    59.864654     0.447877  \n",
       "min       0.000000     0.000000     0.000000     0.000000  \n",
       "25%       0.000000     0.000000     5.000000     0.000000  \n",
       "50%       0.000000     0.000000    20.000000     0.000000  \n",
       "75%       0.000000     0.000000    62.000000     1.000000  \n",
       "max       1.000000    10.000000   502.000000     1.000000  \n",
       "\n",
       "[8 rows x 113 columns]"
      ]
     },
     "execution_count": 141,
     "metadata": {},
     "output_type": "execute_result"
    }
   ],
   "source": [
    "# Table of the description of the dataframe related to fixed parameters\n",
    "\n",
    "df_sample.describe()"
   ]
  },
  {
   "cell_type": "code",
   "execution_count": 142,
   "metadata": {},
   "outputs": [],
   "source": [
    "# Separation of labels\n",
    "\n",
    "x_train = train_set\n",
    "y_train = train_set[['targets']]\n",
    "\n",
    "x_test = test_set\n",
    "y_test = test_set[['targets']]"
   ]
  },
  {
   "cell_type": "code",
   "execution_count": 143,
   "metadata": {},
   "outputs": [],
   "source": [
    "features_a = x_train.iloc[:,:55]\n",
    "features_b = x_train.iloc[:,55:]"
   ]
  },
  {
   "cell_type": "code",
   "execution_count": 144,
   "metadata": {},
   "outputs": [],
   "source": [
    "features_a_test = x_test.iloc[:,:55]\n",
    "features_b_test = x_test.iloc[:,55:]"
   ]
  },
  {
   "cell_type": "code",
   "execution_count": 145,
   "metadata": {},
   "outputs": [],
   "source": [
    "lda = LDA(n_components=1)\n",
    "features_lda_1 = lda.fit_transform(features_a, y_train)\n",
    "features_lda_2 = lda.fit_transform(features_b, y_train)"
   ]
  },
  {
   "cell_type": "code",
   "execution_count": 146,
   "metadata": {},
   "outputs": [],
   "source": [
    "features_lda_1_test = lda.fit_transform(features_a_test, y_test)\n",
    "features_lda_2_test = lda.fit_transform(features_b_test, y_test)"
   ]
  },
  {
   "cell_type": "code",
   "execution_count": 147,
   "metadata": {},
   "outputs": [],
   "source": [
    "features_lda_1 = pd.DataFrame(features_lda_1)\n",
    "features_lda_2 = pd.DataFrame(features_lda_2)\n",
    "features_lda_1_test = pd.DataFrame(features_lda_1_test)\n",
    "features_lda_2_test = pd.DataFrame(features_lda_2_test)"
   ]
  },
  {
   "cell_type": "code",
   "execution_count": 148,
   "metadata": {},
   "outputs": [],
   "source": [
    "x_train_lda = features_lda_1.join(features_lda_2, lsuffix=\"_left\", rsuffix=\"_right\")\n",
    "x_test_lda = features_lda_1_test.join(features_lda_2_test, lsuffix=\"_left\", rsuffix=\"_right\")"
   ]
  },
  {
   "cell_type": "code",
   "execution_count": 149,
   "metadata": {},
   "outputs": [
    {
     "data": {
      "text/html": [
       "<div>\n",
       "<style scoped>\n",
       "    .dataframe tbody tr th:only-of-type {\n",
       "        vertical-align: middle;\n",
       "    }\n",
       "\n",
       "    .dataframe tbody tr th {\n",
       "        vertical-align: top;\n",
       "    }\n",
       "\n",
       "    .dataframe thead th {\n",
       "        text-align: right;\n",
       "    }\n",
       "</style>\n",
       "<table border=\"1\" class=\"dataframe\">\n",
       "  <thead>\n",
       "    <tr style=\"text-align: right;\">\n",
       "      <th></th>\n",
       "      <th>0_left</th>\n",
       "      <th>0_right</th>\n",
       "    </tr>\n",
       "  </thead>\n",
       "  <tbody>\n",
       "    <tr>\n",
       "      <th>0</th>\n",
       "      <td>0.477842</td>\n",
       "      <td>-0.286121</td>\n",
       "    </tr>\n",
       "    <tr>\n",
       "      <th>1</th>\n",
       "      <td>-0.876101</td>\n",
       "      <td>-0.603912</td>\n",
       "    </tr>\n",
       "    <tr>\n",
       "      <th>2</th>\n",
       "      <td>-1.039679</td>\n",
       "      <td>-0.840358</td>\n",
       "    </tr>\n",
       "    <tr>\n",
       "      <th>3</th>\n",
       "      <td>1.789524</td>\n",
       "      <td>3.625557</td>\n",
       "    </tr>\n",
       "    <tr>\n",
       "      <th>4</th>\n",
       "      <td>-0.827172</td>\n",
       "      <td>-1.663958</td>\n",
       "    </tr>\n",
       "    <tr>\n",
       "      <th>...</th>\n",
       "      <td>...</td>\n",
       "      <td>...</td>\n",
       "    </tr>\n",
       "    <tr>\n",
       "      <th>1395</th>\n",
       "      <td>2.047377</td>\n",
       "      <td>-0.173438</td>\n",
       "    </tr>\n",
       "    <tr>\n",
       "      <th>1396</th>\n",
       "      <td>-0.684520</td>\n",
       "      <td>-1.561943</td>\n",
       "    </tr>\n",
       "    <tr>\n",
       "      <th>1397</th>\n",
       "      <td>-0.367997</td>\n",
       "      <td>0.290284</td>\n",
       "    </tr>\n",
       "    <tr>\n",
       "      <th>1398</th>\n",
       "      <td>-0.945484</td>\n",
       "      <td>-0.603912</td>\n",
       "    </tr>\n",
       "    <tr>\n",
       "      <th>1399</th>\n",
       "      <td>0.687198</td>\n",
       "      <td>-0.865416</td>\n",
       "    </tr>\n",
       "  </tbody>\n",
       "</table>\n",
       "<p>1400 rows × 2 columns</p>\n",
       "</div>"
      ],
      "text/plain": [
       "        0_left   0_right\n",
       "0     0.477842 -0.286121\n",
       "1    -0.876101 -0.603912\n",
       "2    -1.039679 -0.840358\n",
       "3     1.789524  3.625557\n",
       "4    -0.827172 -1.663958\n",
       "...        ...       ...\n",
       "1395  2.047377 -0.173438\n",
       "1396 -0.684520 -1.561943\n",
       "1397 -0.367997  0.290284\n",
       "1398 -0.945484 -0.603912\n",
       "1399  0.687198 -0.865416\n",
       "\n",
       "[1400 rows x 2 columns]"
      ]
     },
     "execution_count": 149,
     "metadata": {},
     "output_type": "execute_result"
    }
   ],
   "source": [
    "x_train_lda"
   ]
  },
  {
   "cell_type": "code",
   "execution_count": 150,
   "metadata": {},
   "outputs": [
    {
     "data": {
      "text/html": [
       "<div>\n",
       "<style scoped>\n",
       "    .dataframe tbody tr th:only-of-type {\n",
       "        vertical-align: middle;\n",
       "    }\n",
       "\n",
       "    .dataframe tbody tr th {\n",
       "        vertical-align: top;\n",
       "    }\n",
       "\n",
       "    .dataframe thead th {\n",
       "        text-align: right;\n",
       "    }\n",
       "</style>\n",
       "<table border=\"1\" class=\"dataframe\">\n",
       "  <thead>\n",
       "    <tr style=\"text-align: right;\">\n",
       "      <th></th>\n",
       "      <th>0_left</th>\n",
       "      <th>0_right</th>\n",
       "    </tr>\n",
       "  </thead>\n",
       "  <tbody>\n",
       "    <tr>\n",
       "      <th>0</th>\n",
       "      <td>-0.549145</td>\n",
       "      <td>-1.277229</td>\n",
       "    </tr>\n",
       "    <tr>\n",
       "      <th>1</th>\n",
       "      <td>-1.386657</td>\n",
       "      <td>0.107849</td>\n",
       "    </tr>\n",
       "    <tr>\n",
       "      <th>2</th>\n",
       "      <td>0.833744</td>\n",
       "      <td>0.011079</td>\n",
       "    </tr>\n",
       "    <tr>\n",
       "      <th>3</th>\n",
       "      <td>-0.091864</td>\n",
       "      <td>-1.277316</td>\n",
       "    </tr>\n",
       "    <tr>\n",
       "      <th>4</th>\n",
       "      <td>-1.353161</td>\n",
       "      <td>0.107849</td>\n",
       "    </tr>\n",
       "    <tr>\n",
       "      <th>...</th>\n",
       "      <td>...</td>\n",
       "      <td>...</td>\n",
       "    </tr>\n",
       "    <tr>\n",
       "      <th>595</th>\n",
       "      <td>0.895299</td>\n",
       "      <td>0.102784</td>\n",
       "    </tr>\n",
       "    <tr>\n",
       "      <th>596</th>\n",
       "      <td>-1.027923</td>\n",
       "      <td>-0.286958</td>\n",
       "    </tr>\n",
       "    <tr>\n",
       "      <th>597</th>\n",
       "      <td>-1.057668</td>\n",
       "      <td>-0.806670</td>\n",
       "    </tr>\n",
       "    <tr>\n",
       "      <th>598</th>\n",
       "      <td>-1.679386</td>\n",
       "      <td>-0.714452</td>\n",
       "    </tr>\n",
       "    <tr>\n",
       "      <th>599</th>\n",
       "      <td>0.423589</td>\n",
       "      <td>0.107849</td>\n",
       "    </tr>\n",
       "  </tbody>\n",
       "</table>\n",
       "<p>600 rows × 2 columns</p>\n",
       "</div>"
      ],
      "text/plain": [
       "       0_left   0_right\n",
       "0   -0.549145 -1.277229\n",
       "1   -1.386657  0.107849\n",
       "2    0.833744  0.011079\n",
       "3   -0.091864 -1.277316\n",
       "4   -1.353161  0.107849\n",
       "..        ...       ...\n",
       "595  0.895299  0.102784\n",
       "596 -1.027923 -0.286958\n",
       "597 -1.057668 -0.806670\n",
       "598 -1.679386 -0.714452\n",
       "599  0.423589  0.107849\n",
       "\n",
       "[600 rows x 2 columns]"
      ]
     },
     "execution_count": 150,
     "metadata": {},
     "output_type": "execute_result"
    }
   ],
   "source": [
    "x_test_lda"
   ]
  },
  {
   "cell_type": "code",
   "execution_count": 151,
   "metadata": {},
   "outputs": [],
   "source": [
    "# Normalize\n",
    "\n",
    "std_scale = StandardScaler().fit(x_train_lda)\n",
    "data = std_scale.transform(x_train_lda)\n",
    "\n",
    "std_scale = StandardScaler().fit(x_test_lda)\n",
    "x_test_lda_n = std_scale.transform(x_test_lda)"
   ]
  },
  {
   "cell_type": "code",
   "execution_count": 152,
   "metadata": {},
   "outputs": [
    {
     "data": {
      "text/plain": [
       "array([[-0.49520369, -0.94852857],\n",
       "       [-1.25044871,  0.08009347],\n",
       "       [ 0.75184743,  0.00822801],\n",
       "       ...,\n",
       "       [-0.9537753 , -0.59907011],\n",
       "       [-1.51442363, -0.53058467],\n",
       "       [ 0.38198046,  0.08009347]])"
      ]
     },
     "execution_count": 152,
     "metadata": {},
     "output_type": "execute_result"
    }
   ],
   "source": [
    "x_test_lda_n"
   ]
  },
  {
   "cell_type": "code",
   "execution_count": 153,
   "metadata": {},
   "outputs": [],
   "source": [
    "n_dim = 2"
   ]
  },
  {
   "cell_type": "code",
   "execution_count": 154,
   "metadata": {},
   "outputs": [
    {
     "data": {
      "text/plain": [
       "targets\n",
       "0.0        72.714286\n",
       "1.0        27.285714\n",
       "dtype: float64"
      ]
     },
     "execution_count": 154,
     "metadata": {},
     "output_type": "execute_result"
    }
   ],
   "source": [
    "# Review the balance of the target variable in train\n",
    "\n",
    "y_train.value_counts(normalize=True)*100"
   ]
  },
  {
   "cell_type": "code",
   "execution_count": 155,
   "metadata": {},
   "outputs": [
    {
     "data": {
      "text/plain": [
       "targets\n",
       "0.0        71.166667\n",
       "1.0        28.833333\n",
       "dtype: float64"
      ]
     },
     "execution_count": 155,
     "metadata": {},
     "output_type": "execute_result"
    }
   ],
   "source": [
    "# Review the balance of the target variable in test\n",
    "\n",
    "y_test.value_counts(normalize=True)*100"
   ]
  },
  {
   "cell_type": "code",
   "execution_count": 156,
   "metadata": {},
   "outputs": [],
   "source": [
    "# Angle Encoding\n",
    "\n",
    "num_qubits = n_dim\n",
    "\n",
    "dev = qml.device('default.qubit', wires = num_qubits, shots=1024)\n",
    "#dev = qml.device('default.qubit.tf', wires = num_qubits, shots=1024)\n",
    "#dev = qml.device('qiskit.ibmq', wires = num_qubits, backend='ibmq_manila', ibmqx_token=\"6cc75c58fc80fea56cb8dd391f8fbcfdb676a3dc7005493728bc9da7ea753e31a2110a01e3a0cc83f1a98f5ca79e32956fc66c11b5eea4cae163b3fa996be356\", shots=256)\n",
    "#dev = qml.device('qiskit.basicaer', wires = num_qubits, shots = 256)\n",
    "\n",
    "@qml.qnode(dev)\n",
    "def circuit(parameters, data):\n",
    "    for i in range(num_qubits):\n",
    "        qml.Hadamard(wires = i)\n",
    "    \n",
    "    AngleEmbedding(features = data, wires = range(num_qubits), rotation = 'Y')\n",
    "    \n",
    "    qml.StronglyEntanglingLayers(weights = parameters, wires = range(num_qubits))\n",
    "    \n",
    "    return qml.expval(qml.PauliZ(0))"
   ]
  },
  {
   "cell_type": "code",
   "execution_count": 157,
   "metadata": {},
   "outputs": [
    {
     "name": "stdout",
     "output_type": "stream",
     "text": [
      "[[[ 0.00496714 -0.00138264  0.00647689]\n",
      "  [ 0.0152303  -0.00234153 -0.00234137]]\n",
      "\n",
      " [[ 0.01579213  0.00767435 -0.00469474]\n",
      "  [ 0.0054256  -0.00463418 -0.0046573 ]]\n",
      "\n",
      " [[ 0.00241962 -0.0191328  -0.01724918]\n",
      "  [-0.00562288 -0.01012831  0.00314247]]\n",
      "\n",
      " [[-0.00908024 -0.01412304  0.01465649]\n",
      "  [-0.00225776  0.00067528 -0.01424748]]\n",
      "\n",
      " [[-0.00544383  0.00110923 -0.01150994]\n",
      "  [ 0.00375698 -0.00600639 -0.00291694]]] 0.0\n"
     ]
    }
   ],
   "source": [
    "num_layers = 5\n",
    "weights_init = 0.01 * np.random.randn(num_layers, num_qubits, 3, requires_grad=True)\n",
    "bias_init = np.array(0.0, requires_grad=True)\n",
    "\n",
    "print(weights_init, bias_init)"
   ]
  },
  {
   "cell_type": "code",
   "execution_count": 158,
   "metadata": {},
   "outputs": [
    {
     "data": {
      "text/plain": [
       "tensor(-0.06445312, requires_grad=True)"
      ]
     },
     "execution_count": 158,
     "metadata": {},
     "output_type": "execute_result"
    }
   ],
   "source": [
    "circuit(weights_init, data[0])"
   ]
  },
  {
   "cell_type": "code",
   "execution_count": 159,
   "metadata": {},
   "outputs": [],
   "source": [
    "def variational_classifier(weights, bias, x):\n",
    "    return circuit(weights, x) + bias"
   ]
  },
  {
   "cell_type": "code",
   "execution_count": 160,
   "metadata": {},
   "outputs": [],
   "source": [
    "def square_loss(labels, predictions):\n",
    "    loss = 0\n",
    "    for l, p in zip(labels, predictions):\n",
    "        loss = loss + (l - p) ** 2\n",
    "\n",
    "    loss = loss / len(labels)\n",
    "    return loss"
   ]
  },
  {
   "cell_type": "code",
   "execution_count": 161,
   "metadata": {},
   "outputs": [],
   "source": [
    "def accuracy(labels, predictions):\n",
    "\n",
    "    loss = 0\n",
    "    for l, p in zip(labels, predictions):\n",
    "        if abs(l - p) < 1e-5:\n",
    "            loss = loss + 1\n",
    "    loss = loss / len(labels)\n",
    "\n",
    "    return loss"
   ]
  },
  {
   "cell_type": "code",
   "execution_count": 162,
   "metadata": {},
   "outputs": [],
   "source": [
    "def cost(weights, bias, X, Y):\n",
    "    predictions = [variational_classifier(weights, bias, x) for x in X]\n",
    "    return square_loss(Y, predictions)"
   ]
  },
  {
   "cell_type": "code",
   "execution_count": 163,
   "metadata": {},
   "outputs": [
    {
     "name": "stdout",
     "output_type": "stream",
     "text": [
      "X = [tensor(0.43425169, requires_grad=False), tensor(-0.21131303, requires_grad=False)], Y = -1\n",
      "X = [tensor(-0.79617925, requires_grad=False), tensor(-0.44601562, requires_grad=False)], Y = -1\n",
      "X = [tensor(-0.94483513, requires_grad=False), tensor(-0.62064063, requires_grad=False)], Y = -1\n",
      "X = [tensor(1.62627636, requires_grad=False), tensor(2.67763153, requires_grad=False)], Y =  1\n",
      "X = [tensor(-0.75171383, requires_grad=False), tensor(-1.22890557, requires_grad=False)], Y = -1\n"
     ]
    }
   ],
   "source": [
    "Y = np.array(y_train.values[:,0] * 2 - np.ones(len(y_train.values[:,0])), requires_grad = False)  # shift label from {0, 1} to {-1, 1}\n",
    "X = np.array(data, requires_grad=False)\n",
    "\n",
    "for i in range(5):\n",
    "    print(\"X = {}, Y = {: d}\".format(list(X[i]), int(Y[i])))"
   ]
  },
  {
   "cell_type": "code",
   "execution_count": 164,
   "metadata": {},
   "outputs": [],
   "source": [
    "opt = AdamOptimizer(stepsize=0.1, beta1=0.9, beta2=0.99, eps=1e-08)\n",
    "batch_size = 10"
   ]
  },
  {
   "cell_type": "code",
   "execution_count": 165,
   "metadata": {},
   "outputs": [
    {
     "name": "stdout",
     "output_type": "stream",
     "text": [
      "New best\n",
      "Iter:     1 | Cost: 0.7766051 | Accuracy: 0.7250000 \n",
      "New best\n",
      "Iter:     2 | Cost: 0.6020277 | Accuracy: 0.8000000 \n",
      "New best\n",
      "Iter:     3 | Cost: 0.5430088 | Accuracy: 0.8200000 \n",
      "New best\n",
      "Iter:     4 | Cost: 0.6133099 | Accuracy: 0.8242857 \n",
      "New best\n",
      "Iter:     5 | Cost: 0.5682896 | Accuracy: 0.8328571 \n",
      "New best\n",
      "Iter:     6 | Cost: 0.5139809 | Accuracy: 0.8385714 \n",
      "New best\n",
      "Iter:     7 | Cost: 0.4862393 | Accuracy: 0.8457143 \n",
      "New best\n",
      "Iter:     8 | Cost: 0.4849819 | Accuracy: 0.8485714 \n",
      "New best\n",
      "Iter:     9 | Cost: 0.4730128 | Accuracy: 0.8492857 \n",
      "New best\n",
      "Iter:    10 | Cost: 0.4595886 | Accuracy: 0.8535714 \n",
      "Iter:    11 | Cost: 0.4523207 | Accuracy: 0.8478571 \n",
      "Iter:    12 | Cost: 0.4455806 | Accuracy: 0.8507143 \n",
      "Iter:    13 | Cost: 0.4476530 | Accuracy: 0.8528571 \n",
      "New best\n",
      "Iter:    14 | Cost: 0.4501227 | Accuracy: 0.8550000 \n",
      "New best\n",
      "Iter:    15 | Cost: 0.4498906 | Accuracy: 0.8571429 \n",
      "Iter:    16 | Cost: 0.4526023 | Accuracy: 0.8571429 \n",
      "Iter:    17 | Cost: 0.4800448 | Accuracy: 0.8564286 \n",
      "Iter:    18 | Cost: 0.4578922 | Accuracy: 0.8521429 \n",
      "Iter:    19 | Cost: 0.4361061 | Accuracy: 0.8542857 \n",
      "Iter:    20 | Cost: 0.4270024 | Accuracy: 0.8564286 \n",
      "Iter:    21 | Cost: 0.4299489 | Accuracy: 0.8528571 \n",
      "Iter:    22 | Cost: 0.4461888 | Accuracy: 0.8485714 \n",
      "Iter:    23 | Cost: 0.4546085 | Accuracy: 0.8485714 \n",
      "Iter:    24 | Cost: 0.4470947 | Accuracy: 0.8500000 \n",
      "Iter:    25 | Cost: 0.4406860 | Accuracy: 0.8500000 \n",
      "Iter:    26 | Cost: 0.4348689 | Accuracy: 0.8485714 \n",
      "Iter:    27 | Cost: 0.4416649 | Accuracy: 0.8485714 \n",
      "Iter:    28 | Cost: 0.4581730 | Accuracy: 0.8478571 \n",
      "Iter:    29 | Cost: 0.4735164 | Accuracy: 0.8485714 \n",
      "Iter:    30 | Cost: 0.4735897 | Accuracy: 0.8478571 \n",
      "Iter:    31 | Cost: 0.4453789 | Accuracy: 0.8500000 \n",
      "Iter:    32 | Cost: 0.4232235 | Accuracy: 0.8542857 \n",
      "New best\n",
      "Iter:    33 | Cost: 0.4522567 | Accuracy: 0.8628571 \n",
      "Iter:    34 | Cost: 0.6122500 | Accuracy: 0.8385714 \n",
      "Iter:    35 | Cost: 0.7930322 | Accuracy: 0.7078571 \n",
      "Iter:    36 | Cost: 0.6229256 | Accuracy: 0.8214286 \n",
      "New best\n",
      "Iter:    37 | Cost: 0.5148708 | Accuracy: 0.8671429 \n",
      "Iter:    38 | Cost: 0.4319905 | Accuracy: 0.8650000 \n",
      "Iter:    39 | Cost: 0.4170537 | Accuracy: 0.8657143 \n",
      "Iter:    40 | Cost: 0.4161079 | Accuracy: 0.8600000 \n",
      "Iter:    41 | Cost: 0.4340515 | Accuracy: 0.8635714 \n",
      "Iter:    42 | Cost: 0.4476147 | Accuracy: 0.8657143 \n",
      "Iter:    43 | Cost: 0.4551047 | Accuracy: 0.8664286 \n",
      "Iter:    44 | Cost: 0.4369361 | Accuracy: 0.8600000 \n",
      "Iter:    45 | Cost: 0.4175058 | Accuracy: 0.8542857 \n",
      "Iter:    46 | Cost: 0.4198623 | Accuracy: 0.8507143 \n",
      "Iter:    47 | Cost: 0.4327565 | Accuracy: 0.8528571 \n",
      "Iter:    48 | Cost: 0.4348296 | Accuracy: 0.8500000 \n",
      "Iter:    49 | Cost: 0.4199491 | Accuracy: 0.8535714 \n",
      "Iter:    50 | Cost: 0.4101626 | Accuracy: 0.8557143 \n"
     ]
    }
   ],
   "source": [
    "weights = weights_init\n",
    "bias = bias_init\n",
    "\n",
    "wbest = 0\n",
    "bbest = 0\n",
    "abest = 0\n",
    "\n",
    "for it in range(50):\n",
    "\n",
    "    # weights update by one optimizer step\n",
    "\n",
    "    batch_index = np.random.randint(0, len(X), (batch_size,))\n",
    "    X_batch = X[batch_index]\n",
    "    Y_batch = Y[batch_index]\n",
    "    weights, bias, _, _ = opt.step(cost, weights, bias, X_batch, Y_batch)\n",
    "\n",
    "    # Compute the accuracy\n",
    "    predictions = [np.sign(variational_classifier(weights, bias, x)) for x in X]\n",
    "    \n",
    "    if accuracy(Y, predictions) > abest:\n",
    "        wbest = weights\n",
    "        bbest = bias\n",
    "        abest = accuracy(Y, predictions)\n",
    "        print('New best')\n",
    "\n",
    "    acc = accuracy(Y, predictions)\n",
    "\n",
    "    print(\n",
    "        \"Iter: {:5d} | Cost: {:0.7f} | Accuracy: {:0.7f} \".format(\n",
    "            it + 1, cost(weights, bias, X, Y), acc\n",
    "        )\n",
    "    )"
   ]
  },
  {
   "cell_type": "code",
   "execution_count": 166,
   "metadata": {},
   "outputs": [],
   "source": [
    "Yte = np.array(y_test.values[:,0] * 2 - np.ones(len(y_test.values[:,0])), requires_grad = False)\n",
    "Xte = np.array(normalize(x_test_lda_n), requires_grad=False)"
   ]
  },
  {
   "cell_type": "code",
   "execution_count": 167,
   "metadata": {},
   "outputs": [
    {
     "name": "stdout",
     "output_type": "stream",
     "text": [
      "Cost: 0.5347601293965113, Accuracy: 83.0%\n"
     ]
    }
   ],
   "source": [
    "predictions = [np.sign(variational_classifier(wbest, bbest, x)) for x in Xte]\n",
    "pred = [np.sign(variational_classifier(wbest, bbest, x)) for x in X]\n",
    "acc = accuracy(Yte, predictions)\n",
    "\n",
    "print(f'Cost: {cost(wbest, bbest, Xte, Yte)}, Accuracy: {np.round(acc, 2) * 100}%')"
   ]
  },
  {
   "cell_type": "code",
   "execution_count": 168,
   "metadata": {},
   "outputs": [
    {
     "data": {
      "text/html": [
       "<div>\n",
       "<style scoped>\n",
       "    .dataframe tbody tr th:only-of-type {\n",
       "        vertical-align: middle;\n",
       "    }\n",
       "\n",
       "    .dataframe tbody tr th {\n",
       "        vertical-align: top;\n",
       "    }\n",
       "\n",
       "    .dataframe thead th {\n",
       "        text-align: right;\n",
       "    }\n",
       "</style>\n",
       "<table border=\"1\" class=\"dataframe\">\n",
       "  <thead>\n",
       "    <tr style=\"text-align: right;\">\n",
       "      <th></th>\n",
       "      <th>Predictions</th>\n",
       "      <th>Test</th>\n",
       "    </tr>\n",
       "  </thead>\n",
       "  <tbody>\n",
       "    <tr>\n",
       "      <th>0</th>\n",
       "      <td>-1.0</td>\n",
       "      <td>-1.0</td>\n",
       "    </tr>\n",
       "    <tr>\n",
       "      <th>1</th>\n",
       "      <td>-1.0</td>\n",
       "      <td>-1.0</td>\n",
       "    </tr>\n",
       "    <tr>\n",
       "      <th>2</th>\n",
       "      <td>1.0</td>\n",
       "      <td>-1.0</td>\n",
       "    </tr>\n",
       "    <tr>\n",
       "      <th>3</th>\n",
       "      <td>-1.0</td>\n",
       "      <td>-1.0</td>\n",
       "    </tr>\n",
       "    <tr>\n",
       "      <th>4</th>\n",
       "      <td>-1.0</td>\n",
       "      <td>-1.0</td>\n",
       "    </tr>\n",
       "    <tr>\n",
       "      <th>...</th>\n",
       "      <td>...</td>\n",
       "      <td>...</td>\n",
       "    </tr>\n",
       "    <tr>\n",
       "      <th>595</th>\n",
       "      <td>1.0</td>\n",
       "      <td>-1.0</td>\n",
       "    </tr>\n",
       "    <tr>\n",
       "      <th>596</th>\n",
       "      <td>-1.0</td>\n",
       "      <td>-1.0</td>\n",
       "    </tr>\n",
       "    <tr>\n",
       "      <th>597</th>\n",
       "      <td>-1.0</td>\n",
       "      <td>-1.0</td>\n",
       "    </tr>\n",
       "    <tr>\n",
       "      <th>598</th>\n",
       "      <td>-1.0</td>\n",
       "      <td>-1.0</td>\n",
       "    </tr>\n",
       "    <tr>\n",
       "      <th>599</th>\n",
       "      <td>1.0</td>\n",
       "      <td>-1.0</td>\n",
       "    </tr>\n",
       "  </tbody>\n",
       "</table>\n",
       "<p>600 rows × 2 columns</p>\n",
       "</div>"
      ],
      "text/plain": [
       "    Predictions  Test\n",
       "0          -1.0  -1.0\n",
       "1          -1.0  -1.0\n",
       "2           1.0  -1.0\n",
       "3          -1.0  -1.0\n",
       "4          -1.0  -1.0\n",
       "..          ...   ...\n",
       "595         1.0  -1.0\n",
       "596        -1.0  -1.0\n",
       "597        -1.0  -1.0\n",
       "598        -1.0  -1.0\n",
       "599         1.0  -1.0\n",
       "\n",
       "[600 rows x 2 columns]"
      ]
     },
     "execution_count": 168,
     "metadata": {},
     "output_type": "execute_result"
    }
   ],
   "source": [
    "pd.DataFrame((predictions, Yte), ('Predictions', 'Test')).T"
   ]
  },
  {
   "cell_type": "code",
   "execution_count": 169,
   "metadata": {},
   "outputs": [
    {
     "name": "stdout",
     "output_type": "stream",
     "text": [
      "              precision    recall  f1-score   support\n",
      "\n",
      "        -1.0       0.79      0.96      0.87       352\n",
      "         1.0       0.92      0.65      0.76       248\n",
      "\n",
      "    accuracy                           0.83       600\n",
      "   macro avg       0.86      0.80      0.82       600\n",
      "weighted avg       0.85      0.83      0.82       600\n",
      "\n",
      "0.9248554913294798\n",
      "0.6451612903225806\n",
      "0.7600950118764846\n",
      "0.8041147360703812\n",
      "[[339  13]\n",
      " [ 88 160]]\n"
     ]
    }
   ],
   "source": [
    "# Print the classification report and important metrics\n",
    "\n",
    "print(metrics.classification_report(predictions,Yte))\n",
    "print(metrics.precision_score(predictions,Yte))\n",
    "print(metrics.recall_score(predictions,Yte))\n",
    "print(metrics.f1_score(predictions,Yte))\n",
    "print(metrics.balanced_accuracy_score(predictions,Yte))\n",
    "print(metrics.confusion_matrix(predictions,Yte))"
   ]
  },
  {
   "cell_type": "code",
   "execution_count": 170,
   "metadata": {},
   "outputs": [],
   "source": [
    "#Classical ML approach\n",
    "\n",
    "import matplotlib.pyplot as plt\n",
    "from sklearn import model_selection\n",
    "from sklearn.linear_model import LogisticRegression\n",
    "from sklearn.tree import DecisionTreeClassifier\n",
    "from sklearn.ensemble import RandomForestClassifier\n",
    "from sklearn.neighbors import KNeighborsClassifier\n",
    "from sklearn.naive_bayes import GaussianNB\n",
    "from sklearn.svm import SVC\n",
    "from sklearn.ensemble import RandomForestClassifier\n",
    "from sklearn.model_selection import train_test_split\n",
    "from sklearn import datasets\n",
    "import matplotlib.pyplot as plt\n",
    "\n",
    "import warnings\n",
    "warnings.filterwarnings('ignore')\n",
    "\n",
    "plt.style.use('ggplot')"
   ]
  },
  {
   "cell_type": "code",
   "execution_count": 171,
   "metadata": {},
   "outputs": [],
   "source": [
    "models = []\n",
    "models.append(('LR', LogisticRegression()))\n",
    "models.append(('KNN', KNeighborsClassifier()))\n",
    "models.append(('CART', DecisionTreeClassifier()))\n",
    "models.append(('NB', GaussianNB()))\n",
    "models.append(('SVM', SVC()))"
   ]
  },
  {
   "cell_type": "code",
   "execution_count": 172,
   "metadata": {},
   "outputs": [
    {
     "name": "stdout",
     "output_type": "stream",
     "text": [
      "LR: 0.785000 (0.036485)\n",
      "KNN: 0.817857 (0.017276)\n",
      "CART: 1.000000 (0.000000)\n",
      "NB: 0.406429 (0.032016)\n",
      "SVM: 0.727143 (0.021381)\n"
     ]
    }
   ],
   "source": [
    "# Classic ML results\n",
    "\n",
    "results = []\n",
    "names = []\n",
    "scoring = 'accuracy'\n",
    "for name, model in models:\n",
    "    kfold = model_selection.KFold(n_splits=10)\n",
    "    cv_results = model_selection.cross_val_score(model, x_train, y_train, cv=kfold, scoring=scoring)\n",
    "    results.append(cv_results)\n",
    "    names.append(name)\n",
    "    msg = \"%s: %f (%f)\" % (name, cv_results.mean(), cv_results.std())\n",
    "    print(msg)"
   ]
  },
  {
   "cell_type": "code",
   "execution_count": 173,
   "metadata": {},
   "outputs": [
    {
     "name": "stdout",
     "output_type": "stream",
     "text": [
      "LR: 0.725856 (0.054155)\n",
      "KNN: 0.748267 (0.027442)\n",
      "CART: 1.000000 (0.000000)\n",
      "NB: 0.574042 (0.019213)\n",
      "SVM: 0.500000 (0.000000)\n"
     ]
    }
   ],
   "source": [
    "# Classic ML results\n",
    "\n",
    "results = []\n",
    "names = []\n",
    "scoring = 'balanced_accuracy'\n",
    "for name, model in models:\n",
    "    kfold = model_selection.KFold(n_splits=10)\n",
    "    cv_results = model_selection.cross_val_score(model, x_train, y_train, cv=kfold, scoring=scoring)\n",
    "    results.append(cv_results)\n",
    "    names.append(name)\n",
    "    msg = \"%s: %f (%f)\" % (name, cv_results.mean(), cv_results.std())\n",
    "    print(msg)"
   ]
  },
  {
   "cell_type": "code",
   "execution_count": 174,
   "metadata": {},
   "outputs": [
    {
     "name": "stdout",
     "output_type": "stream",
     "text": [
      "LR: 0.596823 (0.120502)\n",
      "KNN: 0.595380 (0.056029)\n",
      "CART: 1.000000 (0.000000)\n",
      "NB: 0.942471 (0.036170)\n",
      "SVM: 0.000000 (0.000000)\n"
     ]
    }
   ],
   "source": [
    "# Classic ML results\n",
    "\n",
    "results = []\n",
    "names = []\n",
    "scoring = 'recall'\n",
    "for name, model in models:\n",
    "    kfold = model_selection.KFold(n_splits=10)\n",
    "    cv_results = model_selection.cross_val_score(model, x_train, y_train, cv=kfold, scoring=scoring)\n",
    "    results.append(cv_results)\n",
    "    names.append(name)\n",
    "    msg = \"%s: %f (%f)\" % (name, cv_results.mean(), cv_results.std())\n",
    "    print(msg)"
   ]
  },
  {
   "cell_type": "code",
   "execution_count": 175,
   "metadata": {},
   "outputs": [
    {
     "name": "stdout",
     "output_type": "stream",
     "text": [
      "LR: 0.613604 (0.094372)\n",
      "KNN: 0.695107 (0.076148)\n",
      "CART: 1.000000 (0.000000)\n",
      "NB: 0.308200 (0.027662)\n",
      "SVM: 0.000000 (0.000000)\n"
     ]
    }
   ],
   "source": [
    "# Classic ML results\n",
    "\n",
    "results = []\n",
    "names = []\n",
    "scoring = 'precision'\n",
    "for name, model in models:\n",
    "    kfold = model_selection.KFold(n_splits=10)\n",
    "    cv_results = model_selection.cross_val_score(model, x_train, y_train, cv=kfold, scoring=scoring)\n",
    "    results.append(cv_results)\n",
    "    names.append(name)\n",
    "    msg = \"%s: %f (%f)\" % (name, cv_results.mean(), cv_results.std())\n",
    "    print(msg)"
   ]
  }
 ],
 "metadata": {
  "interpreter": {
   "hash": "09a2343d96e4209a5eb8971e1e9a0248c4f95d560a06ad86d050590524a525f8"
  },
  "kernelspec": {
   "display_name": "Python 3.9.12 ('qkt-tookit')",
   "language": "python",
   "name": "python3"
  },
  "language_info": {
   "codemirror_mode": {
    "name": "ipython",
    "version": 3
   },
   "file_extension": ".py",
   "mimetype": "text/x-python",
   "name": "python",
   "nbconvert_exporter": "python",
   "pygments_lexer": "ipython3",
   "version": "3.9.12"
  },
  "orig_nbformat": 4
 },
 "nbformat": 4,
 "nbformat_minor": 2
}
