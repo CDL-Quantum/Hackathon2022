{
 "cells": [
  {
   "cell_type": "markdown",
   "id": "8cc6d995-3852-4e44-99ad-f355ae584476",
   "metadata": {},
   "source": [
    "# Defining the VRP Hamiltonian"
   ]
  },
  {
   "cell_type": "code",
   "execution_count": 1,
   "id": "d077e279-9afd-4168-b7dd-5b56ab90ce34",
   "metadata": {},
   "outputs": [
    {
     "name": "stdout",
     "output_type": "stream",
     "text": [
      "Requirement already satisfied: cplex in /opt/conda/lib/python3.8/site-packages (22.1.0.0)\n"
     ]
    }
   ],
   "source": [
    "!pip install cplex"
   ]
  },
  {
   "cell_type": "code",
   "execution_count": 2,
   "id": "81be4f12-5353-4d8d-a9f3-75773dc24e81",
   "metadata": {},
   "outputs": [
    {
     "name": "stderr",
     "output_type": "stream",
     "text": [
      "<frozen importlib._bootstrap>:219: RuntimeWarning: scipy._lib.messagestream.MessageStream size changed, may indicate binary incompatibility. Expected 56 from C header, got 64 from PyObject\n"
     ]
    }
   ],
   "source": [
    "%run -i Hamiltonian_provider.py"
   ]
  },
  {
   "cell_type": "markdown",
   "id": "10cfa5be-b446-4acb-a8fc-eb820d407f43",
   "metadata": {},
   "source": [
    "In this example, we are going to test the filtering VQE with an instance of the vehicule routing problem with 6 qubits (so that we can run it on the OSLO quantum hardware with 7 qubits)."
   ]
  },
  {
   "cell_type": "code",
   "execution_count": 3,
   "id": "5da2cf9c-bff9-41fb-8e32-514dae688edb",
   "metadata": {},
   "outputs": [],
   "source": [
    "### Problem definition\n",
    "n= 3 # number of nodes + depot (n+1)\n",
    "K= 2 # number of vehicles\n",
    "b= 0\n",
    "H, offset=Hamilton(n,K,b)"
   ]
  },
  {
   "cell_type": "code",
   "execution_count": 4,
   "id": "ff7226cf-7a2c-460a-83d1-2aaf380434d6",
   "metadata": {},
   "outputs": [
    {
     "name": "stdout",
     "output_type": "stream",
     "text": [
      "78572.82126291405 * IIIIIZ\n",
      "+ 78331.99410854303 * IIIIZI\n",
      "+ 78572.82126291405 * IIIZII\n",
      "- 393.2104562109598 * IIZIII\n",
      "+ 78331.99410854303 * IZIIII\n",
      "- 393.2104562109598 * ZIIIII\n",
      "+ 39321.0456210975 * IIIIZZ\n",
      "+ 39321.0456210975 * IIZIZI\n",
      "+ 39321.0456210975 * IIZZII\n",
      "+ 39321.0456210975 * IZIZII\n",
      "+ 39321.0456210975 * ZIIIIZ\n",
      "+ 39321.0456210975 * ZZIIII\n"
     ]
    }
   ],
   "source": [
    "print(H)"
   ]
  },
  {
   "cell_type": "markdown",
   "id": "a7688555-2bed-4080-985f-aac9b8c17542",
   "metadata": {
    "id": "a7688555-2bed-4080-985f-aac9b8c17542"
   },
   "source": [
    "# [Filtering variational quantum algorithms for combinatorial optimization](https://arxiv.org/abs/2106.10055) (Implementation using Qiskit library)\n",
    "\n",
    "Warning: This code uses a filtering operator that was introduced in the first version of the paper. The other filtering operators are in construction (this notebook will be updated later)...\n",
    "\n",
    "* The filtering operator: $c1-H$ where $c\\geq E_{max}$  , $E_{max}$ is the maximum eigenvalue of the $Hamiltonian$\n",
    "\n",
    "* The filtering function: $c-E$ where $c\\geq E_{max}$"
   ]
  },
  {
   "cell_type": "code",
   "execution_count": 5,
   "id": "ed85b5f6-b755-411c-876b-bab2e9370506",
   "metadata": {
    "id": "ed85b5f6-b755-411c-876b-bab2e9370506"
   },
   "outputs": [],
   "source": [
    "import matplotlib.pyplot as plt\n",
    "import numpy as np\n",
    "import pandas as pd\n",
    "from math import isclose\n",
    "from qiskit import QuantumCircuit, execute, Aer\n",
    "from scipy.optimize import minimize\n",
    "from qiskit.opflow import I, X, Z, Y\n",
    "import itertools\n",
    "from qiskit.algorithms.optimizers import GradientDescent #,ADAM, CG, GSLS, NELDER_MEAD, NFT, POWELL, SPSA, TNC, COBYLA, L_BFGS_B, SLSQP, AQGD, P_BFGS\n",
    "from qiskit import QuantumCircuit, QuantumRegister, ClassicalRegister, IBMQ, execute, transpile, Aer, assemble\n",
    "from qiskit.tools.monitor import job_monitor"
   ]
  },
  {
   "cell_type": "code",
   "execution_count": 6,
   "id": "faa6a250-392e-4af2-bf42-b900d0b51372",
   "metadata": {
    "id": "faa6a250-392e-4af2-bf42-b900d0b51372"
   },
   "outputs": [],
   "source": [
    "def Ansatz(theta,n,l=1):\n",
    "    m=0\n",
    "    q=QuantumCircuit(n)\n",
    "    for i in range(n):\n",
    "        q.ry(theta[i],i)\n",
    "        m+=1\n",
    "    \n",
    "    for _ in range(l):\n",
    "        if (n % 2) == 0:\n",
    "            #Sub Layer1\n",
    "\n",
    "            for i, j in itertools.zip_longest(range(0,n-1,2), range(0,n,1)):\n",
    "                if i!=None:\n",
    "                    q.cx(i,i+1)\n",
    "                if j!=None:\n",
    "                    q.ry(theta[m],j)\n",
    "                    m+=1\n",
    "        #=========================\n",
    "            #Sub Layer2\n",
    "\n",
    "            for i, j in itertools.zip_longest(range(1,n-2,2), range(1,n-1,1)):\n",
    "                if i!=None:\n",
    "                    q.cx(i,i+1)\n",
    "                if j!=None:\n",
    "                    q.ry(theta[m],j)\n",
    "                    m+=1\n",
    "        else:\n",
    "            #SubLayer1\n",
    "\n",
    "            for i, j in itertools.zip_longest(range(0,n-1,2), range(0,n-1,1)):\n",
    "                if i!=None:\n",
    "                    q.cx(i,i+1)\n",
    "                if j!=None:\n",
    "                    q.ry(theta[m],j)\n",
    "                    m+=1\n",
    "            #==========================\n",
    "            #SubLayer2\n",
    "\n",
    "            for i, j in itertools.zip_longest(range(1,n-1,2), range(1,n,1)):\n",
    "                if i!=None:\n",
    "                    q.cx(i,i+1)\n",
    "                if j!=None:\n",
    "                    q.ry(theta[m],j)\n",
    "                    m+=1\n",
    "\n",
    "    return q"
   ]
  },
  {
   "cell_type": "code",
   "execution_count": 7,
   "id": "0e1fc45b-1f44-428d-8cab-e222d0178585",
   "metadata": {
    "id": "0e1fc45b-1f44-428d-8cab-e222d0178585"
   },
   "outputs": [],
   "source": [
    "def filtering_function6(E, c):\n",
    "    return (c-E)"
   ]
  },
  {
   "cell_type": "markdown",
   "id": "4527dbce-8b7b-4967-b912-22c1dfebfdeb",
   "metadata": {
    "id": "4527dbce-8b7b-4967-b912-22c1dfebfdeb"
   },
   "source": [
    "# Defining the functions to be utilized to solve our problem"
   ]
  },
  {
   "cell_type": "code",
   "execution_count": 8,
   "id": "7a9edf18-cb17-44b2-8872-03a8b62cff55",
   "metadata": {
    "id": "7a9edf18-cb17-44b2-8872-03a8b62cff55"
   },
   "outputs": [],
   "source": [
    "# A function to return the eigenvalue if the Pauli Z matrix depending on a binary state e.g. 1101\n",
    "def sign(measure,index):\n",
    "    if not index:\n",
    "        return 1\n",
    "    measure=np.array(list(measure))\n",
    "    p=1\n",
    "    for b in measure[index]:\n",
    "        p=p*(-1)**int(b)\n",
    "    return p\n",
    "# A function that returns the count of an executed experiment.\n",
    "def count(theta,n,l,shots, hardware=False):\n",
    "    \n",
    "    circuit = Ansatz(theta,n,l)\n",
    "    circuit.measure_all()\n",
    "    \n",
    "    if hardware==True:# & already_run==False:\n",
    "        IBMQ.save_account(\"your API\", overwrite=True) \n",
    "        provider = IBMQ.load_account()\n",
    "\n",
    "        provider = IBMQ.get_provider(hub='ibm-q', group='open', project='main')\n",
    "        backend = provider.get_backend('ibm_oslo')\n",
    "\n",
    "        # prepare the circuit for the backend\n",
    "        mapped_circuit = transpile(circuit, backend=backend)\n",
    "        qobj = assemble(mapped_circuit, backend=backend, shots=1024)\n",
    "\n",
    "        # execute the circuit\n",
    "        job = backend.run(qobj)\n",
    "        job.status()\n",
    "        jobid=job.job_id()\n",
    "        job = provider.get_backend('ibm_oslo').retrieve_job(jobid)\n",
    "        result = job.result()\n",
    "        counts = result.get_counts()\n",
    "    # elif hardware==True & already_run==False:\n",
    "    #     job = provider.get_backend('ibm_oslo').retrieve_job(jobid)\n",
    "    #     result = job.result()\n",
    "    #     counts = result.get_counts()\n",
    "        \n",
    "    else:\n",
    "    \n",
    "        backend = Aer.get_backend('qasm_simulator')\n",
    "        job = execute(circuit, backend, shots=shots)\n",
    "        result = job.result()\n",
    "        counts = result.get_counts()\n",
    "    return counts\n",
    "# A function that returns the expected value of a given filtering operator (or an operator in general)\n",
    "def expectation(theta,n,l,H,shots,tau,filtering,power,hardware):\n",
    "    counts_dict=count(theta,n,l,shots,hardware)\n",
    "    energies,probabilities=[],[]\n",
    "    for stri,proba in counts_dict.items():\n",
    "        sums=0\n",
    "        for i, coef in enumerate(H.coeffs):\n",
    "            weight = np.real(coef)\n",
    "            indices = np.where(H.primitive.table.Z[i])\n",
    "            sums += weight * sign(stri,indices)\n",
    "        energies.append(sums)\n",
    "        probabilities.append(proba)\n",
    "###########\n",
    "\n",
    "    F_exp=0\n",
    "    for i in range(len(energies)):\n",
    "        if filtering ==True:\n",
    "            if power==True:\n",
    "                F_exp+=(probabilities[i]*filtering_function6(energies[i], tau)**2)\n",
    "            else:\n",
    "                F_exp+=(probabilities[i]*filtering_function6(energies[i], tau))\n",
    "        else:\n",
    "            F_exp+=(probabilities[i]*energies[i])\n",
    "    if isclose(1.0, sum(probabilities), rel_tol=1e-1, abs_tol=0.0)==False:\n",
    "        F_exp=F_exp/shots\n",
    "    \n",
    "    return F_exp"
   ]
  },
  {
   "cell_type": "markdown",
   "id": "16470301-3cd3-458f-a658-36d81aa55445",
   "metadata": {
    "id": "16470301-3cd3-458f-a658-36d81aa55445"
   },
   "source": [
    "# Note:\n",
    "\n",
    "* `theta`: are the parameters that will be injected in the parametrized circuit\n",
    "\n",
    "* `n`: are the number of qubits\n",
    "\n",
    "* `l`: is the number of layers in our ansatz\n",
    "\n",
    "* `H`: is the Hamiltonian that we want to compute its lower energy\n",
    "\n",
    "* `shots`: total number of samples\n",
    "\n",
    "* `tho`: is the hyperparameter existing in each filtering operator. In this notebook $\\tau = c$ for the case of the `filtering_function6`\n",
    "\n",
    "* `filtering`: determine whether you want to apply the filtering function to the sampled energies\n",
    "\n",
    "* `power`: determine whether you want to raise the filtering function to the power of 2"
   ]
  },
  {
   "cell_type": "code",
   "execution_count": 9,
   "id": "7384689d-7e66-481a-b33d-07c42dcb6a22",
   "metadata": {
    "id": "7384689d-7e66-481a-b33d-07c42dcb6a22"
   },
   "outputs": [],
   "source": [
    "def usual_expectation(n,l,H,shots,hardware):\n",
    "    def sub_usual_expectation(theta):\n",
    "        counts_dict=count(theta,n,l,shots,hardware)\n",
    "        \n",
    "        energies,probabilities=[],[]\n",
    "        for stri,proba in counts_dict.items():\n",
    "            sums=0\n",
    "            for i, coef in enumerate(H.coeffs):\n",
    "                weight = np.real(coef)\n",
    "                indices = np.where(H.primitive.table.Z[i])\n",
    "                sums += weight * sign(stri,indices)\n",
    "            energies.append(sums)\n",
    "            probabilities.append(proba)\n",
    "    \n",
    "    \n",
    "        F_exp=0\n",
    "        for i in range(len(energies)):\n",
    "            F_exp+=(probabilities[i]*energies[i])\n",
    "        if isclose(1.0, sum(probabilities), rel_tol=1e-1, abs_tol=0.0)==False:\n",
    "            F_exp=F_exp/shots\n",
    "        \n",
    "        return F_exp\n",
    "    return sub_usual_expectation"
   ]
  },
  {
   "cell_type": "markdown",
   "id": "cdf2a49b-ad12-4e07-8f97-1d6334cb71c3",
   "metadata": {
    "id": "cdf2a49b-ad12-4e07-8f97-1d6334cb71c3"
   },
   "source": [
    "***"
   ]
  },
  {
   "cell_type": "markdown",
   "id": "1199b373-cb7b-42a4-8ace-17de54a59bf2",
   "metadata": {
    "id": "1199b373-cb7b-42a4-8ace-17de54a59bf2"
   },
   "source": [
    "Defining the gradient: $$\n",
    "\\left.\\frac{\\partial \\mathcal{C}_{t}(\\boldsymbol{\\theta})}{\\partial \\theta_{j}}\\right|_{\\boldsymbol{\\theta}_{t-1}}=-\\frac{\\left\\langle F_{t}\\right\\rangle_{\\psi_{t-1}^{j+}}-\\left\\langle F_{t}\\right\\rangle_{\\psi_{t-1}^{j-}}}{4 \\sqrt{\\left\\langle F_{t}^{2}\\right\\rangle_{\\psi_{t-1}}}}\n",
    "$$"
   ]
  },
  {
   "cell_type": "code",
   "execution_count": 10,
   "id": "8a2c7181-8779-422c-b8b2-5aa39e8eff32",
   "metadata": {
    "id": "8a2c7181-8779-422c-b8b2-5aa39e8eff32"
   },
   "outputs": [],
   "source": [
    "def gradient(tho,n,l,F_op,shots, hardware):\n",
    "    def sub_gradient(thetas):\n",
    "        list_gradient=[]\n",
    "        dominator=(4*np.sqrt(expectation(thetas,n,l,F_op,shots,tho,True,True,hardware)))\n",
    "        for j in range(len(thetas)):\n",
    "\n",
    "            theta_n=np.array(thetas)\n",
    "            theta_n[j]=theta_n[j]-np.pi/2\n",
    "            theta_p=np.array(thetas)\n",
    "            theta_p[j]=theta_p[j]+np.pi/2\n",
    "\n",
    "            grad=((expectation(theta_p,n,l,F_op,shots,tho,True,False,hardware)-expectation(theta_n,n,l,F_op,shots,tho,True,False,hardware)))/dominator\n",
    "\n",
    "            list_gradient.append(grad)\n",
    "        return np.array(list_gradient)\n",
    "    return sub_gradient"
   ]
  },
  {
   "cell_type": "markdown",
   "id": "96a06b3b-a7be-4bea-b39f-1e8fc9bf3de7",
   "metadata": {
    "id": "96a06b3b-a7be-4bea-b39f-1e8fc9bf3de7"
   },
   "source": [
    "***"
   ]
  },
  {
   "cell_type": "markdown",
   "id": "d1b3eacf-dee0-441b-a90f-e60e95f0ea6e",
   "metadata": {
    "id": "d1b3eacf-dee0-441b-a90f-e60e95f0ea6e"
   },
   "source": [
    "Testing with a 6 qubits hamiltonian which corresponds to a Traveling salesman problem with one vehicle and n=3 nodes. no. required=$(n-1)^2$"
   ]
  },
  {
   "cell_type": "markdown",
   "id": "2c84b936-7966-4b48-b709-09d76c32c523",
   "metadata": {
    "id": "2c84b936-7966-4b48-b709-09d76c32c523"
   },
   "source": [
    "# Classical Solution"
   ]
  },
  {
   "cell_type": "code",
   "execution_count": 11,
   "id": "aef533bd-42f5-400e-8af4-c98bc6977d38",
   "metadata": {
    "id": "aef533bd-42f5-400e-8af4-c98bc6977d38",
    "outputId": "74de2f58-0325-451c-939e-2f27dfbf2862"
   },
   "outputs": [
    {
     "name": "stdout",
     "output_type": "stream",
     "text": [
      "The maximum eigenvalue= 548949.4835570772\n",
      "The minimum eigenvalue= -393238.14289753104\n"
     ]
    }
   ],
   "source": [
    "# Here we get the value of the lower eigenvalue which will be our reference value, and also find the maximum eigenvalue to determine the constant c.\n",
    "#H=eval(convert_hamiltonian('Hamiltonian.txt'))\n",
    "#F=1800909*(I^I^I^I^I^I^I^I^I)-H\n",
    "a=H.to_matrix()\n",
    "w, v =np.linalg.eig(a)\n",
    "E_max,E_min=np.real(max(w)),np.real(min(w))\n",
    "print(r'The maximum eigenvalue=',E_max)\n",
    "print(r'The minimum eigenvalue=',E_min)"
   ]
  },
  {
   "cell_type": "markdown",
   "id": "49c736a9-655b-4f7d-a08e-963e5298ab5d",
   "metadata": {
    "id": "49c736a9-655b-4f7d-a08e-963e5298ab5d"
   },
   "source": [
    "***"
   ]
  },
  {
   "cell_type": "markdown",
   "id": "97e8dc0b-844e-48dd-b734-b42fab96d045",
   "metadata": {
    "id": "97e8dc0b-844e-48dd-b734-b42fab96d045"
   },
   "source": [
    "# Filtering VQE Solution"
   ]
  },
  {
   "cell_type": "code",
   "execution_count": 16,
   "id": "362464ab-a4ae-4adc-b3d0-b44fb536fcc2",
   "metadata": {
    "id": "362464ab-a4ae-4adc-b3d0-b44fb536fcc2"
   },
   "outputs": [],
   "source": [
    "fvqe_cost, fvqe_iter=[],[]\n",
    "def callback(nfevs, x_next, cost, stepsize):\n",
    "    fvqe_cost.append(cost)\n",
    "    fvqe_iter.append(nfevs)"
   ]
  },
  {
   "cell_type": "code",
   "execution_count": 17,
   "id": "cfe12962-8314-4527-9d8c-f7a4fb17b172",
   "metadata": {
    "id": "cfe12962-8314-4527-9d8c-f7a4fb17b172",
    "outputId": "49d523b2-6c03-4efc-aea4-94a05083cc05"
   },
   "outputs": [
    {
     "name": "stdout",
     "output_type": "stream",
     "text": [
      "{   'fun': -392860.4281422653,\n",
      "    'jac': None,\n",
      "    'nfev': 150,\n",
      "    'nit': None,\n",
      "    'njev': None,\n",
      "    'x': array([ 0.53067355,  1.6282146 ,  1.7173211 ,  1.57099924,  1.57622531,\n",
      "        1.57274696, -0.53300268,  1.38945878,  0.122506  ,  0.98412565,\n",
      "       -0.01315273,  1.57076669,  0.13127512, -1.29911239,  0.58573076,\n",
      "        1.56354416])}\n",
      "\n",
      "CPU times: user 4min 58s, sys: 1.82 s, total: 5min\n",
      "Wall time: 5min 4s\n"
     ]
    }
   ],
   "source": [
    "%%time\n",
    "\n",
    "num_qubits,layers,shots,c=H.num_qubits,1,5000,E_max+1\n",
    "Filtering_op = c * (I^H.num_qubits) - H\n",
    "\n",
    "theta= np.array([*((np.pi/2)*np.ones(num_qubits)),*(np.zeros(2*(num_qubits-1)*layers))])\n",
    "optimizer = GradientDescent(maxiter=150,learning_rate=1.0,callback = callback)\n",
    "obj=usual_expectation(num_qubits, layers, H, shots, hardware=False)\n",
    "\n",
    "grad_fun=gradient(c, num_qubits, layers, Filtering_op, shots, hardware=False)\n",
    "res=optimizer.minimize(fun=obj, x0=theta,jac=grad_fun)\n",
    "\n",
    "\n",
    "print(res)\n",
    "print()"
   ]
  },
  {
   "cell_type": "code",
   "execution_count": 18,
   "id": "b5e0a97c-4136-47a2-9825-67f3fb7dbe03",
   "metadata": {
    "id": "b5e0a97c-4136-47a2-9825-67f3fb7dbe03",
    "outputId": "24d1671c-c9bd-4de0-bf8a-0c949cd596a6"
   },
   "outputs": [
    {
     "data": {
      "image/png": "[encoded data removed]",
      "text/plain": [
       "<Figure size 720x432 with 1 Axes>"
      ]
     },
     "metadata": {
      "needs_background": "light"
     },
     "output_type": "display_data"
    }
   ],
   "source": [
    "# A function to normalize the cost values\n",
    "def normalize(list, exact):\n",
    "    lis=[abs(exact-list[i])/abs(exact) for i in range(len(list))]\n",
    "    return lis\n",
    "\n",
    "plt.rcParams['figure.figsize'] = (10, 6)\n",
    "plt.plot(fvqe_iter,normalize(fvqe_cost,E_min), linewidth=1, label='F_VQE')\n",
    "plt.plot(range(0, 150), 0.0*np.ones(150), 'k--', linewidth=1.5, label='E_0')\n",
    "\n",
    "plt.xlabel('Number of iterations')\n",
    "plt.ylabel(r'$|E_{exact}-E|/|E_{exact}|$')\n",
    "plt.legend(loc='upper right', fontsize=15)\n",
    "plt.show()"
   ]
  },
  {
   "cell_type": "markdown",
   "id": "7f43a897-140e-4cb8-88ec-f72904540955",
   "metadata": {
    "id": "7f43a897-140e-4cb8-88ec-f72904540955"
   },
   "source": [
    "As we can see, the Filtering VQE approach performs pretty well in finding the lowest energy of our Hamiltonian with a few number of iterations. I utilized the Filtering operator $c1-H$, which has the disadvantage of requiring the maximum eigenvalue of the Hamiltonian which with itself require a separate calculation using for instance the Subspace search VQE. However, there are other filtering operators which don't have this constraint and rely on a parameter $\\tau$ to be dynamically updated after each iteration. To name one: the inverse Filtering operator $H^{-\\tau}$ discussed in [this paper](https://www.nature.com/articles/s41534-019-0239-7). As mentioned this notebook will be updated with new filtering operators tested."
   ]
  },
  {
   "cell_type": "code",
   "execution_count": 40,
   "id": "607a964e-4492-4772-b51b-ecd6c1306f47",
   "metadata": {},
   "outputs": [
    {
     "data": {
      "image/png": "[encoded data removed]",
      "text/plain": [
       "<Figure size 504x360 with 1 Axes>"
      ]
     },
     "execution_count": 40,
     "metadata": {},
     "output_type": "execute_result"
    }
   ],
   "source": [
    "from qiskit.visualization import plot_histogram\n",
    "counts=count(res.x,num_qubits,layers,2000)\n",
    "plot_histogram(counts, color='green', title=\"Solution\")"
   ]
  },
  {
   "cell_type": "code",
   "execution_count": 49,
   "id": "a8bff4b2-23a0-4434-aff3-8af6fa34aeca",
   "metadata": {},
   "outputs": [
    {
     "name": "stdout",
     "output_type": "stream",
     "text": [
      "[1, 1, 1, 0, 1, 0]\n"
     ]
    }
   ],
   "source": [
    "optimal_state=[eval(i) for i in max(counts, key=counts.get)]\n",
    "print(optimal_state)"
   ]
  },
  {
   "cell_type": "code",
   "execution_count": 50,
   "id": "425f304b-5c30-4e87-a076-72e0a59e93ab",
   "metadata": {},
   "outputs": [
    {
     "data": {
      "image/png": "[encoded data removed]",
      "text/plain": [
       "<Figure size 720x432 with 1 Axes>"
      ]
     },
     "metadata": {
      "needs_background": "light"
     },
     "output_type": "display_data"
    }
   ],
   "source": [
    "# Visualize the solution\n",
    "def visualize_solution(xc, yc, x, C, n, K, title_str):\n",
    "    plt.figure()\n",
    "    plt.scatter(xc, yc, s=200)\n",
    "    for i in range(len(xc)):\n",
    "        plt.annotate(i, (xc[i] + 0.15, yc[i]), size=16, color=\"r\")\n",
    "    plt.plot(xc[0], yc[0], \"r*\", ms=20)\n",
    "\n",
    "    plt.grid()\n",
    "\n",
    "    for ii in range(0, n**2):\n",
    "\n",
    "        if x[ii] > 0:\n",
    "            ix = ii // n\n",
    "            iy = ii % n\n",
    "            plt.arrow(\n",
    "                xc[ix],\n",
    "                yc[ix],\n",
    "                xc[iy] - xc[ix],\n",
    "                yc[iy] - yc[ix],\n",
    "                length_includes_head=True,\n",
    "                head_width=0.25,\n",
    "            )\n",
    "\n",
    "    plt.title(title_str + \" cost = \" + str(int(C * 100) / 100.0))\n",
    "    plt.show()\n",
    "#########################################################\n",
    "# Initialize the problem by randomly generating the instance\n",
    "initializer = Initializer(3,2)\n",
    "xc, yc, instance = initializer.generate_instance()\n",
    "# Put the solution in a way that is compatible with the classical variables\n",
    "x_quantum = np.zeros(n**2)\n",
    "kk = 0\n",
    "for ii in range(n**2):\n",
    "    if ii // n != ii % n:\n",
    "        x_quantum[ii] = optimal_state[kk]\n",
    "        kk += 1\n",
    "\n",
    "\n",
    "# visualize the solution\n",
    "visualize_solution(xc, yc, x_quantum, E_min+offset, 3, 2, \"Quantum\")"
   ]
  },
  {
   "cell_type": "markdown",
   "id": "401ca501-96bf-4d6c-b7d7-11d21c8f485b",
   "metadata": {},
   "source": [
    "# On real computer `ibm_Oslo`"
   ]
  },
  {
   "cell_type": "code",
   "execution_count": null,
   "id": "0c61718a-7c55-45e4-9ae9-ee7c9b74a891",
   "metadata": {},
   "outputs": [],
   "source": [
    "fvqe_cost, fvqe_iter=[],[]\n",
    "def callback(nfevs, x_next, cost, stepsize):\n",
    "    fvqe_cost.append(cost)\n",
    "    fvqe_iter.append(nfevs)\n",
    "\n",
    "num_qubits,layers,shots,c=H.num_qubits,1,5000,E_max+1\n",
    "Filtering_op = c * (I^H.num_qubits) - H\n",
    "\n",
    "theta= np.array([*((np.pi/2)*np.ones(num_qubits)),*(np.zeros(2*(num_qubits-1)*layers))])\n",
    "optimizer = GradientDescent(maxiter=150,learning_rate=1.0,callback = callback)\n",
    "obj=usual_expectation(num_qubits, layers, H, shots,hardware=True)\n",
    "\n",
    "grad_fun=gradient(c, num_qubits, layers, Filtering_op, shots,hardware=True)\n",
    "res=optimizer.minimize(fun=obj, x0=theta,jac=grad_fun)\n",
    "\n",
    "print(res)\n",
    "print()"
   ]
  },
  {
   "cell_type": "code",
   "execution_count": null,
   "id": "57d098bb-86a0-425b-8f2b-fba9facd519c",
   "metadata": {},
   "outputs": [],
   "source": []
  },
  {
   "cell_type": "markdown",
   "id": "4ce7d5cb-f597-4ca9-b964-214a2c42ea46",
   "metadata": {
    "id": "40b37013-2d9d-4e9d-a325-30dd249ba65a",
    "tags": []
   },
   "source": [
    "# VQE solver\n",
    "https://qiskit.org/documentation/stubs/qiskit.algorithms.VQE.html\n",
    "\n",
    "https://qiskit.org/documentation/tutorials/algorithms/04_vqe_advanced.html"
   ]
  },
  {
   "cell_type": "code",
   "execution_count": 34,
   "id": "aa80fa67-994d-4198-81b5-1ccb3b98ea5d",
   "metadata": {},
   "outputs": [],
   "source": [
    "from qiskit.algorithms import VQE, QAOA\n",
    "from qiskit.circuit.library import TwoLocal"
   ]
  },
  {
   "cell_type": "code",
   "execution_count": 35,
   "id": "11b03706-b20c-443f-a5b8-00e06b280ae3",
   "metadata": {},
   "outputs": [],
   "source": [
    "def gradient_vqe(tho,n,l,F_op,shots, hardware):\n",
    "    def sub_gradient_vqe(thetas):\n",
    "        list_gradient=[]\n",
    "        dominator=2\n",
    "        for j in range(len(thetas)):\n",
    "\n",
    "            theta_n=np.array(thetas)\n",
    "            theta_n[j]=theta_n[j]-np.pi/2\n",
    "            theta_p=np.array(thetas)\n",
    "            theta_p[j]=theta_p[j]+np.pi/2\n",
    "\n",
    "            grad=((expectation(theta_p,n,l,H,shots,tho,False,False,hardware)-expectation(theta_n,n,l,H,shots,tho,False,False,hardware)))/dominator\n",
    "\n",
    "            list_gradient.append(grad)\n",
    "        return np.array(list_gradient)\n",
    "    return sub_gradient_vqe"
   ]
  },
  {
   "cell_type": "code",
   "execution_count": 36,
   "id": "ad8bc947-0d92-4c92-a315-164fdcde84a5",
   "metadata": {},
   "outputs": [],
   "source": [
    "vqe_cost, vqe_iter=[],[]\n",
    "def callback_vqe(nfevs, x_next, cost, stepsize):\n",
    "    vqe_cost.append(cost)\n",
    "    vqe_iter.append(nfevs)"
   ]
  },
  {
   "cell_type": "code",
   "execution_count": 37,
   "id": "aff05c69-22cb-4c9e-9003-c5b967ba123c",
   "metadata": {},
   "outputs": [
    {
     "name": "stdout",
     "output_type": "stream",
     "text": [
      "<qiskit.algorithms.minimum_eigen_solvers.vqe.VQE object at 0x7fc1756b7040>\n"
     ]
    }
   ],
   "source": [
    "qi = QuantumInstance(Aer.get_backend('qasm_simulator'), seed_transpiler=50, seed_simulator=50)\n",
    "ansatz = TwoLocal(rotation_blocks='ry', entanglement_blocks='cz')\n",
    "vqe=VQE(ansatz=ansatz, optimizer=optimizer, expectation=obj, callback=callback_vqe,quantum_instance=qi, gradient=gradient_vqe)#Ansatz(theta,num_qubits,layers),initial_point=theta\n",
    "print(vqe)"
   ]
  },
  {
   "cell_type": "code",
   "execution_count": 38,
   "id": "01014c6c-3bf7-43f5-a07e-f6ff4c263e20",
   "metadata": {},
   "outputs": [
    {
     "name": "stdout",
     "output_type": "stream",
     "text": [
      "Traceback \u001b[1;36m(most recent call last)\u001b[0m:\n",
      "  Input \u001b[0;32mIn [38]\u001b[0m in \u001b[0;35m<cell line: 1>\u001b[0m\n",
      "    result = vqe.compute_minimum_eigenvalue(operator=H)\n",
      "  File \u001b[0;32m/opt/conda/lib/python3.8/site-packages/qiskit/algorithms/minimum_eigen_solvers/vqe.py:519\u001b[0m in \u001b[0;35mcompute_minimum_eigenvalue\u001b[0m\n",
      "    energy_evaluation, expectation = self.get_energy_evaluation(\n",
      "  File \u001b[0;32m/opt/conda/lib/python3.8/site-packages/qiskit/algorithms/minimum_eigen_solvers/vqe.py:594\u001b[0m in \u001b[0;35mget_energy_evaluation\u001b[0m\n",
      "    expect_op, expectation = self.construct_expectation(\n",
      "\u001b[1;36m  File \u001b[1;32m/opt/conda/lib/python3.8/site-packages/qiskit/algorithms/minimum_eigen_solvers/vqe.py:424\u001b[1;36m in \u001b[1;35mconstruct_expectation\u001b[1;36m\u001b[0m\n",
      "\u001b[1;33m    observable_meas = expectation.convert(StateFn(operator, is_measurement=True))\u001b[0m\n",
      "\u001b[1;31mAttributeError\u001b[0m\u001b[1;31m:\u001b[0m 'function' object has no attribute 'convert'\n",
      "\n",
      "Use %tb to get the full traceback.\n"
     ]
    },
    {
     "data": {
      "text/html": [
       "\n",
       "<style>\n",
       ".button {\n",
       "  border: none;\n",
       "  color: white;\n",
       "  padding: 4px 8px;\n",
       "  text-align: center;\n",
       "  text-decoration: none;\n",
       "  display: inline-block;\n",
       "  font-size: 12px;\n",
       "  margin: 4px 2px;\n",
       "  transition-duration: 0.2s;\n",
       "  cursor: pointer;\n",
       "}\n",
       ".iqx-button {\n",
       "  background-color: #0f62fe; \n",
       "  color: white; \n",
       "}\n",
       ".iqx-button:hover {\n",
       "  background-color: #0043ce;\n",
       "  color: white;\n",
       "}\n",
       "</style>\n",
       "<a href=\"https://stackoverflow.com/search?q=AttributeError: 'function' object has no attribute 'convert'\" target='_blank'><button class='button iqx-button'>Search for solution online</button></a>\n"
      ],
      "text/plain": [
       "<IPython.core.display.HTML object>"
      ]
     },
     "metadata": {},
     "output_type": "display_data"
    }
   ],
   "source": [
    "result = vqe.compute_minimum_eigenvalue(operator=H)\n",
    "print(result)"
   ]
  },
  {
   "cell_type": "code",
   "execution_count": null,
   "id": "11629ce5-ed48-429f-933f-cbc16fd4aad9",
   "metadata": {},
   "outputs": [],
   "source": []
  }
 ],
 "metadata": {
  "colab": {
   "collapsed_sections": [],
   "name": "Copie de F_VQE.ipynb",
   "provenance": []
  },
  "kernelspec": {
   "display_name": "Python 3 (ipykernel)",
   "language": "python",
   "name": "python3"
  },
  "language_info": {
   "codemirror_mode": {
    "name": "ipython",
    "version": 3
   },
   "file_extension": ".py",
   "mimetype": "text/x-python",
   "name": "python",
   "nbconvert_exporter": "python",
   "pygments_lexer": "ipython3",
   "version": "3.8.13"
  },
  "widgets": {
   "application/vnd.jupyter.widget-state+json": {
    "state": {},
    "version_major": 2,
    "version_minor": 0
   }
  }
 },
 "nbformat": 4,
 "nbformat_minor": 5
}
