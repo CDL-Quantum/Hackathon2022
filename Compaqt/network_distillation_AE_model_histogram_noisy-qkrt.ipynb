{
 "cells": [
  {
   "cell_type": "code",
   "execution_count": 10,
   "id": "daae30bb",
   "metadata": {},
   "outputs": [],
   "source": [
    "# General Imports\n",
    "import numpy as np\n",
    "\n",
    "# Visualisation Imports\n",
    "import matplotlib.pyplot as plt\n",
    "\n",
    "# Scikit Imports\n",
    "from sklearn import datasets\n",
    "from sklearn.model_selection import train_test_split\n",
    "from sklearn.svm import SVC\n",
    "from sklearn.decomposition import PCA\n",
    "from sklearn.preprocessing import StandardScaler, MinMaxScaler\n",
    "\n",
    "# Qiskit Imports\n",
    "from qiskit import Aer, execute\n",
    "from qiskit.tools import *\n",
    "from qiskit.visualization import *\n",
    "from ibm_quantum_widgets import *\n",
    "from qiskit.circuit import QuantumCircuit, Parameter, ParameterVector\n",
    "from qiskit.circuit.library import PauliFeatureMap, ZFeatureMap, ZZFeatureMap\n",
    "from qiskit.circuit.library import TwoLocal, NLocal, RealAmplitudes, EfficientSU2\n",
    "from qiskit.circuit.library import HGate, RXGate, RYGate, RZGate, CXGate, CRXGate, CRZGate\n",
    "from qiskit.opflow import StateFn, PauliSumOp, AerPauliExpectation, ListOp, Gradient\n",
    "from qiskit_machine_learning.kernels import QuantumKernel\n",
    "\n",
    "from qiskit.utils import QuantumInstance, algorithm_globals\n",
    "from qiskit_machine_learning.neural_networks import CircuitQNN"
   ]
  },
  {
   "cell_type": "code",
   "execution_count": 3,
   "id": "10f3cd91",
   "metadata": {},
   "outputs": [
    {
     "name": "stdout",
     "output_type": "stream",
     "text": [
      "     ┌──────────┐ ░            ░ ┌──────────┐ ░            ░ ┌──────────┐\n",
      "q_0: ┤ Ry(θ[0]) ├─░───■────────░─┤ Ry(θ[3]) ├─░───■────────░─┤ Ry(θ[6]) ├\n",
      "     ├──────────┤ ░ ┌─┴─┐      ░ ├──────────┤ ░ ┌─┴─┐      ░ ├──────────┤\n",
      "q_1: ┤ Ry(θ[1]) ├─░─┤ X ├──■───░─┤ Ry(θ[4]) ├─░─┤ X ├──■───░─┤ Ry(θ[7]) ├\n",
      "     ├──────────┤ ░ └───┘┌─┴─┐ ░ ├──────────┤ ░ └───┘┌─┴─┐ ░ ├──────────┤\n",
      "q_2: ┤ Ry(θ[2]) ├─░──────┤ X ├─░─┤ Ry(θ[5]) ├─░──────┤ X ├─░─┤ Ry(θ[8]) ├\n",
      "     └──────────┘ ░      └───┘ ░ └──────────┘ ░      └───┘ ░ └──────────┘\n"
     ]
    }
   ],
   "source": [
    "# Construct teacher and student networks\n",
    "\n",
    "from qiskit.circuit.library import RealAmplitudes\n",
    "\n",
    "def student_network_builder(num_qubits):\n",
    "    circuit = TwoLocal(num_qubits=num_qubits, reps=2, entanglement_blocks='cx', entanglement='linear', rotation_blocks=['ry'], insert_barriers=True).decompose()\n",
    "    \n",
    "    return circuit\n",
    "\n",
    "student_network = student_network_builder(3)\n",
    "print(student_network)"
   ]
  },
  {
   "cell_type": "markdown",
   "id": "af756cd4",
   "metadata": {},
   "source": [
    "# Student Circuit validate"
   ]
  },
  {
   "cell_type": "code",
   "execution_count": 4,
   "id": "b9c63873",
   "metadata": {},
   "outputs": [],
   "source": [
    "weights = [ 2.8131, -0.6038, -1.5985,  0.1035, -3.0277, -0.0254, -0.0591, -1.3483,\n",
    "         1.5391]"
   ]
  },
  {
   "cell_type": "markdown",
   "id": "201540f7",
   "metadata": {},
   "source": [
    "# Test histogram"
   ]
  },
  {
   "cell_type": "code",
   "execution_count": 5,
   "id": "dd54f992",
   "metadata": {},
   "outputs": [
    {
     "data": {
      "image/png": "[encoded data removed]",
      "text/plain": [
       "<Figure size 1200.48x264.88 with 1 Axes>"
      ]
     },
     "execution_count": 5,
     "metadata": {},
     "output_type": "execute_result"
    }
   ],
   "source": [
    "qc3 = QuantumCircuit(3)\n",
    "qc=qc3.compose(student_network)\n",
    "qc.assign_parameters(weights, inplace=True)\n",
    "\n",
    "qc.measure_all()\n",
    "qc.decompose().draw(output='mpl')"
   ]
  },
  {
   "cell_type": "code",
   "execution_count": 5,
   "id": "c9f00715",
   "metadata": {},
   "outputs": [],
   "source": [
    "# #choosing the qasm simulator backend\n",
    "\n",
    "# from qiskit.visualization import plot_histogram\n",
    "\n",
    "# backend = Aer.get_backend('qasm_simulator')\n",
    "\n",
    "# # running the job and getting results (counts)\n",
    "# job = execute(qc, backend, shots=1024) # shots = no. of times you want to run the experiment\n",
    "# result = job.result()\n",
    "# counts = result.get_counts(qc)\n",
    "\n",
    "# #printing and visualizing results (histogram data of experiment)\n",
    "# print(counts)\n",
    "# plot_histogram(counts)"
   ]
  },
  {
   "cell_type": "code",
   "execution_count": 7,
   "id": "4078e87c",
   "metadata": {},
   "outputs": [],
   "source": [
    "from qiskit import QuantumCircuit, transpile, IBMQ\n",
    "provider = IBMQ.load_account()"
   ]
  },
  {
   "cell_type": "code",
   "execution_count": 22,
   "id": "4d820c42-ba9a-4173-935b-b95cbf528410",
   "metadata": {},
   "outputs": [
    {
     "name": "stdout",
     "output_type": "stream",
     "text": [
      "ibm_oslo                     ibm_nairobi                  ibmq_manila\n",
      "--------                     -----------                  -----------\n",
      "Num. Qubits:  7              Num. Qubits:  7              Num. Qubits:  5\n",
      "Pending Jobs: 8              Pending Jobs: 13             Pending Jobs: 4\n",
      "Least busy:   False          Least busy:   False          Least busy:   False\n",
      "Operational:  True           Operational:  True           Operational:  True\n",
      "Avg. T1:      140.8          Avg. T1:      121.9          Avg. T1:      152.5\n",
      "Avg. T2:      98.7           Avg. T2:      53.3           Avg. T2:      58.2\n",
      "\n",
      "\n",
      "\n",
      "ibmq_quito                   ibmq_belem                   ibmq_lima\n",
      "----------                   ----------                   ---------\n",
      "Num. Qubits:  5              Num. Qubits:  5              Num. Qubits:  5\n",
      "Pending Jobs: 1              Pending Jobs: 0              Pending Jobs: 3\n",
      "Least busy:   False          Least busy:   True           Least busy:   False\n",
      "Operational:  True           Operational:  True           Operational:  True\n",
      "Avg. T1:      92.1           Avg. T1:      89.2           Avg. T1:      92.4\n",
      "Avg. T2:      98.3           Avg. T2:      107.7          Avg. T2:      115.9\n",
      "\n",
      "\n",
      "\n"
     ]
    }
   ],
   "source": [
    "backend_overview()"
   ]
  },
  {
   "cell_type": "code",
   "execution_count": 11,
   "id": "6e7b9a93-2d83-4224-93d9-7bb44dd918e8",
   "metadata": {},
   "outputs": [],
   "source": [
    "backend=provider.get_backend('ibmq_belem')"
   ]
  },
  {
   "cell_type": "code",
   "execution_count": 12,
   "id": "2d6e1c95-e68a-477a-b049-d6acc3aa9daa",
   "metadata": {},
   "outputs": [],
   "source": [
    "#Execute the circuit on the backend\n",
    "job=execute(qc,backend,shots=1024)"
   ]
  },
  {
   "cell_type": "code",
   "execution_count": 14,
   "id": "15d543fd-11ab-4bfb-8028-211357f6f6e8",
   "metadata": {},
   "outputs": [
    {
     "data": {
      "text/plain": [
       "<JobStatus.DONE: 'job has successfully run'>"
      ]
     },
     "execution_count": 14,
     "metadata": {},
     "output_type": "execute_result"
    }
   ],
   "source": [
    "job.status()"
   ]
  },
  {
   "cell_type": "code",
   "execution_count": 7,
   "id": "764d4399-fcd6-4cb1-b8f3-a5b0aa8d10b5",
   "metadata": {},
   "outputs": [],
   "source": [
    "belem = provider.get_backend('ibmq_belem')"
   ]
  },
  {
   "cell_type": "code",
   "execution_count": 8,
   "id": "8b556338-de6e-4a78-b176-4cb2be32b73d",
   "metadata": {},
   "outputs": [
    {
     "data": {
      "text/plain": [
       "[<qiskit.providers.ibmq.job.ibmqjob.IBMQJob at 0x7ff9e480a5b0>,\n",
       " <qiskit.providers.ibmq.job.ibmqjob.IBMQJob at 0x7ff9e2f843d0>,\n",
       " <qiskit.providers.ibmq.job.ibmqjob.IBMQJob at 0x7ff9e2f844c0>]"
      ]
     },
     "execution_count": 8,
     "metadata": {},
     "output_type": "execute_result"
    }
   ],
   "source": [
    "belem.jobs()"
   ]
  },
  {
   "cell_type": "code",
   "execution_count": 16,
   "id": "3bf75b5e-21b1-4676-ac97-04904e52e2cc",
   "metadata": {},
   "outputs": [],
   "source": [
    "job = belem.retrieve_job('62e04f0d1813982a9ec6d48a')\n",
    "result=job.result()\n",
    "counts=result.get_counts()\n",
    "histogram = plot_histogram(counts,title=\"Quantum Neural Network on IBMQ_Belem\")\n",
    "histogram.savefig('qnn_belem.pdf')"
   ]
  },
  {
   "cell_type": "markdown",
   "id": "803073b5-249b-4de1-9e50-312106a578ba",
   "metadata": {},
   "source": [
    "## Qiskit Runtime"
   ]
  },
  {
   "cell_type": "code",
   "execution_count": 13,
   "id": "4ebf9064-d10c-4b04-9500-18325ea1f178",
   "metadata": {},
   "outputs": [],
   "source": [
    "from qiskit_ibm_runtime import QiskitRuntimeService\n",
    "\n",
    "service = QiskitRuntimeService()\n",
    "backend = service.backend('ibmq_belem')"
   ]
  },
  {
   "cell_type": "code",
   "execution_count": 23,
   "id": "7febbca0-0a57-417f-827e-ea103505bb0e",
   "metadata": {},
   "outputs": [
    {
     "data": {
      "text/plain": [
       "<IBMBackend('ibmq_belem')>"
      ]
     },
     "execution_count": 23,
     "metadata": {},
     "output_type": "execute_result"
    }
   ],
   "source": [
    "backend"
   ]
  },
  {
   "cell_type": "code",
   "execution_count": 33,
   "id": "b67ed381-859a-415b-88d0-11e1c4a92c87",
   "metadata": {},
   "outputs": [
    {
     "name": "stdout",
     "output_type": "stream",
     "text": [
      "SamplerResult(quasi_dists=[{'101': 0.000244140625, '001': 0.5968017578125, '011': 0.3533935546875, '010': 0.005859375, '000': 0.043701171875}], metadata=[{'header_metadata': {}, 'shots': 8192}])\n"
     ]
    }
   ],
   "source": [
    "from qiskit_ibm_runtime import Sampler\n",
    "\n",
    "with Sampler(circuits=qc, service=service,\n",
    "             #options={'backend': backend},\n",
    "             options={\"backend\": \"ibmq_qasm_simulator\"},\n",
    "             #options={\"backend\": \"ibmq_belem\"},\n",
    "             #skip_transpilation=True\n",
    "            ) as sampler:\n",
    "    result = sampler(circuits=[0], shots=8192)\n",
    "    print(result)"
   ]
  },
  {
   "cell_type": "code",
   "execution_count": 34,
   "id": "53c2c571-c27d-49fd-94bb-257e37eee8fd",
   "metadata": {},
   "outputs": [
    {
     "data": {
      "image/png": "[encoded data removed]",
      "text/plain": [
       "<Figure size 504x360 with 1 Axes>"
      ]
     },
     "execution_count": 34,
     "metadata": {},
     "output_type": "execute_result"
    }
   ],
   "source": [
    "plot_histogram(result.quasi_dists)"
   ]
  },
  {
   "cell_type": "code",
   "execution_count": 21,
   "id": "da4f866e-898d-4c17-beb1-22c4aa18b1a7",
   "metadata": {},
   "outputs": [],
   "source": [
    "histogram=plot_histogram(result.quasi_dists, title=\"QNN on Simulator, shots = 1024\")\n",
    "histogram.savefig('qnn_sim-1024.pdf')"
   ]
  },
  {
   "cell_type": "code",
   "execution_count": 32,
   "id": "da087fcb-9185-477d-967b-09735389184d",
   "metadata": {},
   "outputs": [],
   "source": [
    "histogram=plot_histogram(result.quasi_dists, title=\"QNN on IBMQ_Belem, shots = 8192\")\n",
    "histogram.savefig('qnn_belem-8192.pdf')"
   ]
  },
  {
   "cell_type": "code",
   "execution_count": null,
   "id": "3ab11ac2-fc4c-416d-a356-6b079da57143",
   "metadata": {},
   "outputs": [],
   "source": []
  }
 ],
 "metadata": {
  "kernelspec": {
   "display_name": "Python 3 (ipykernel)",
   "language": "python",
   "name": "python3"
  },
  "language_info": {
   "codemirror_mode": {
    "name": "ipython",
    "version": 3
   },
   "file_extension": ".py",
   "mimetype": "text/x-python",
   "name": "python",
   "nbconvert_exporter": "python",
   "pygments_lexer": "ipython3",
   "version": "3.8.13"
  },
  "widgets": {
   "application/vnd.jupyter.widget-state+json": {
    "state": {
     "0734dd7735794bafa43e6e8909c9dc69": {
      "model_module": "@jupyter-widgets/controls",
      "model_module_version": "1.5.0",
      "model_name": "ButtonModel",
      "state": {
       "button_style": "primary",
       "description": "Clear",
       "layout": "IPY_MODEL_3c2d52ad9bdf4b3b80f60b46ab2974c8",
       "style": "IPY_MODEL_9b38d69b6fca4ed39b0f0f6e2612548d"
      }
     },
     "1093aed2cc124459a4b7830e9aae3fb7": {
      "model_module": "@jupyter-widgets/controls",
      "model_module_version": "1.5.0",
      "model_name": "DescriptionStyleModel",
      "state": {
       "description_width": ""
      }
     },
     "11c13c80bb1e4d55a1c75725070d96cb": {
      "model_module": "@jupyter-widgets/base",
      "model_module_version": "1.2.0",
      "model_name": "LayoutModel",
      "state": {
       "width": "145px"
      }
     },
     "22e458d660544aca9b82e7f42daff2fa": {
      "model_module": "@jupyter-widgets/base",
      "model_module_version": "1.2.0",
      "model_name": "LayoutModel",
      "state": {
       "width": "70px"
      }
     },
     "370aa9316e7a46f499fabfc4e3210425": {
      "model_module": "@jupyter-widgets/base",
      "model_module_version": "1.2.0",
      "model_name": "LayoutModel",
      "state": {
       "margin": "0px 0px 10px 0px"
      }
     },
     "3c2d52ad9bdf4b3b80f60b46ab2974c8": {
      "model_module": "@jupyter-widgets/base",
      "model_module_version": "1.2.0",
      "model_name": "LayoutModel",
      "state": {
       "grid_area": "right",
       "padding": "0px 0px 0px 0px",
       "width": "70px"
      }
     },
     "401d14a29a4c4e49a4c41bca58df9c7e": {
      "model_module": "@jupyter-widgets/base",
      "model_module_version": "1.2.0",
      "model_name": "LayoutModel",
      "state": {
       "margin": "0px 0px 0px 37px",
       "width": "600px"
      }
     },
     "482746fc12b94f2cbbac2e1fc2bd540b": {
      "model_module": "@jupyter-widgets/base",
      "model_module_version": "1.2.0",
      "model_name": "LayoutModel",
      "state": {
       "grid_template_areas": "\n                                       \". . . . right \"\n                                        ",
       "grid_template_columns": "20% 20% 20% 20% 20%",
       "width": "100%"
      }
     },
     "49e9f07085864ea98810d04d92ce59b1": {
      "model_module": "@jupyter-widgets/controls",
      "model_module_version": "1.5.0",
      "model_name": "GridBoxModel",
      "state": {
       "children": [
        "IPY_MODEL_0734dd7735794bafa43e6e8909c9dc69"
       ],
       "layout": "IPY_MODEL_482746fc12b94f2cbbac2e1fc2bd540b"
      }
     },
     "5315110fd5fb4e43895f934b9dcc58bf": {
      "model_module": "@jupyter-widgets/controls",
      "model_module_version": "1.5.0",
      "model_name": "DescriptionStyleModel",
      "state": {
       "description_width": ""
      }
     },
     "5803810a017d49708b213c65da2b548e": {
      "model_module": "@jupyter-widgets/controls",
      "model_module_version": "1.5.0",
      "model_name": "HTMLModel",
      "state": {
       "layout": "IPY_MODEL_e74cbb48291d45b893b8dcf4f9e3d83a",
       "style": "IPY_MODEL_8cdc368486cb41e19e8477ab04c45409",
       "value": "<h5>Message</h5>"
      }
     },
     "6f2efd7bbe764932a3ae5f0a4cfc2c7b": {
      "model_module": "@jupyter-widgets/controls",
      "model_module_version": "1.5.0",
      "model_name": "HTMLModel",
      "state": {
       "layout": "IPY_MODEL_370aa9316e7a46f499fabfc4e3210425",
       "style": "IPY_MODEL_fc3230a5e9f74fac85fe05ff81414590",
       "value": "<p style='font-family: IBM Plex Sans, Arial, Helvetica, sans-serif; font-size: 20px; font-weight: medium;'>Circuit Properties</p>"
      }
     },
     "736baa3bc66143888b0aaf973d48d753": {
      "model_module": "@jupyter-widgets/controls",
      "model_module_version": "1.5.0",
      "model_name": "HBoxModel",
      "state": {
       "children": [
        "IPY_MODEL_c446804445904255852074c05122f358",
        "IPY_MODEL_7f97fcc3a54a4e3588491420026d7b2b",
        "IPY_MODEL_84812c4e54d14ad8bf5742e70c04df9a",
        "IPY_MODEL_e635b45b46dc4e40be00679127ac720a",
        "IPY_MODEL_5803810a017d49708b213c65da2b548e"
       ],
       "layout": "IPY_MODEL_401d14a29a4c4e49a4c41bca58df9c7e"
      }
     },
     "7f97fcc3a54a4e3588491420026d7b2b": {
      "model_module": "@jupyter-widgets/controls",
      "model_module_version": "1.5.0",
      "model_name": "HTMLModel",
      "state": {
       "layout": "IPY_MODEL_11c13c80bb1e4d55a1c75725070d96cb",
       "style": "IPY_MODEL_5315110fd5fb4e43895f934b9dcc58bf",
       "value": "<h5>Backend</h5>"
      }
     },
     "84812c4e54d14ad8bf5742e70c04df9a": {
      "model_module": "@jupyter-widgets/controls",
      "model_module_version": "1.5.0",
      "model_name": "HTMLModel",
      "state": {
       "layout": "IPY_MODEL_d0fce2296d7e4a5fb332550e9446b6c6",
       "style": "IPY_MODEL_d85883f0a81042df9d4b25f66cd905cc",
       "value": "<h5>Status</h5>"
      }
     },
     "8cdc368486cb41e19e8477ab04c45409": {
      "model_module": "@jupyter-widgets/controls",
      "model_module_version": "1.5.0",
      "model_name": "DescriptionStyleModel",
      "state": {
       "description_width": ""
      }
     },
     "94abf8b0d69d4924b196cad5f98c5aff": {
      "model_module": "@jupyter-widgets/base",
      "model_module_version": "1.2.0",
      "model_name": "LayoutModel",
      "state": {
       "width": "190px"
      }
     },
     "9b38d69b6fca4ed39b0f0f6e2612548d": {
      "model_module": "@jupyter-widgets/controls",
      "model_module_version": "1.5.0",
      "model_name": "ButtonStyleModel",
      "state": {}
     },
     "ac2c8cb7125c4bffb9adb4762614f41b": {
      "model_module": "@jupyter-widgets/controls",
      "model_module_version": "1.5.0",
      "model_name": "DescriptionStyleModel",
      "state": {
       "description_width": ""
      }
     },
     "c446804445904255852074c05122f358": {
      "model_module": "@jupyter-widgets/controls",
      "model_module_version": "1.5.0",
      "model_name": "HTMLModel",
      "state": {
       "layout": "IPY_MODEL_94abf8b0d69d4924b196cad5f98c5aff",
       "style": "IPY_MODEL_1093aed2cc124459a4b7830e9aae3fb7",
       "value": "<h5>Job ID</h5>"
      }
     },
     "d0fce2296d7e4a5fb332550e9446b6c6": {
      "model_module": "@jupyter-widgets/base",
      "model_module_version": "1.2.0",
      "model_name": "LayoutModel",
      "state": {
       "width": "95px"
      }
     },
     "d85883f0a81042df9d4b25f66cd905cc": {
      "model_module": "@jupyter-widgets/controls",
      "model_module_version": "1.5.0",
      "model_name": "DescriptionStyleModel",
      "state": {
       "description_width": ""
      }
     },
     "e635b45b46dc4e40be00679127ac720a": {
      "model_module": "@jupyter-widgets/controls",
      "model_module_version": "1.5.0",
      "model_name": "HTMLModel",
      "state": {
       "layout": "IPY_MODEL_22e458d660544aca9b82e7f42daff2fa",
       "style": "IPY_MODEL_ac2c8cb7125c4bffb9adb4762614f41b",
       "value": "<h5>Queue</h5>"
      }
     },
     "e74cbb48291d45b893b8dcf4f9e3d83a": {
      "model_module": "@jupyter-widgets/base",
      "model_module_version": "1.2.0",
      "model_name": "LayoutModel",
      "state": {}
     },
     "fc3230a5e9f74fac85fe05ff81414590": {
      "model_module": "@jupyter-widgets/controls",
      "model_module_version": "1.5.0",
      "model_name": "DescriptionStyleModel",
      "state": {
       "description_width": ""
      }
     }
    },
    "version_major": 2,
    "version_minor": 0
   }
  }
 },
 "nbformat": 4,
 "nbformat_minor": 5
}
