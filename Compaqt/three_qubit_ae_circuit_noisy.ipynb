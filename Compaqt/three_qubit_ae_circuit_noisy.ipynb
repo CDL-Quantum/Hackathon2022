{
 "cells": [
  {
   "cell_type": "code",
   "execution_count": 11,
   "id": "5f99be15-a9b3-402e-8b2f-b0a142e6f795",
   "metadata": {},
   "outputs": [
    {
     "name": "stderr",
     "output_type": "stream",
     "text": [
      "ibmqfactory.load_account:WARNING:2022-07-26 21:38:19,487: Credentials are already in use. The existing account in the session will be replaced.\n"
     ]
    }
   ],
   "source": [
    "import numpy as np\n",
    "\n",
    "# Importing standard Qiskit libraries\n",
    "from qiskit import QuantumCircuit, transpile, Aer, IBMQ, execute\n",
    "from qiskit.tools.jupyter import *\n",
    "from qiskit.visualization import *\n",
    "from ibm_quantum_widgets import *\n",
    "from qiskit.providers.aer import QasmSimulator\n",
    "\n",
    "# Loading your IBM Quantum account(s)\n",
    "provider = IBMQ.load_account()"
   ]
  },
  {
   "cell_type": "code",
   "execution_count": 12,
   "id": "9fa501bd-67b9-4276-a95d-59c45c52f897",
   "metadata": {},
   "outputs": [],
   "source": [
    "import matplotlib.pyplot as plt\n",
    "\n",
    "%matplotlib inline\n",
    "import numpy as np\n",
    "\n",
    "from qiskit import Aer, QuantumCircuit\n",
    "from qiskit.utils import QuantumInstance\n",
    "from qiskit.algorithms import IterativeAmplitudeEstimation, EstimationProblem\n",
    "from qiskit.circuit.library import LinearAmplitudeFunction\n",
    "from qiskit_finance.circuit.library import LogNormalDistribution"
   ]
  },
  {
   "cell_type": "code",
   "execution_count": 13,
   "id": "a7e4e5cd-cf99-46b7-a680-413eb1226cf2",
   "metadata": {},
   "outputs": [],
   "source": [
    "#number of qubits to represent the uncertainty\n",
    "num_uncertainty_qubits = 1\n",
    "\n",
    "# parameters for considered random distribution\n",
    "S = 2.0  # initial spot price\n",
    "vol = 0.4  # volatility of 40%\n",
    "r = 0.05  # annual interest rate of 4%\n",
    "T = 40 / 365  # 40 days to maturity\n",
    "\n",
    "# resulting parameters for log-normal distribution\n",
    "mu = (r - 0.5 * vol**2) * T + np.log(S)\n",
    "sigma = vol * np.sqrt(T)\n",
    "mean = np.exp(mu + sigma**2 / 2)\n",
    "variance = (np.exp(sigma**2) - 1) * np.exp(2 * mu + sigma**2)\n",
    "stddev = np.sqrt(variance)\n",
    "\n",
    "# lowest and highest value considered for the spot price; in between, an equidistant discretization is considered.\n",
    "low = np.maximum(0, mean - 3 * stddev)\n",
    "high = mean + 3 * stddev\n",
    "\n",
    "# construct A operator for QAE for the payoff function by\n",
    "# composing the uncertainty model and the objective\n",
    "uncertainty_model = LogNormalDistribution(\n",
    "    num_uncertainty_qubits, mu=mu, sigma=sigma**2, bounds=(low, high)\n",
    ")"
   ]
  },
  {
   "cell_type": "code",
   "execution_count": 14,
   "id": "84420bb7-a07e-44e3-a508-2fc9d334ea83",
   "metadata": {},
   "outputs": [
    {
     "data": {
      "image/png": "[encoded data removed]",
      "text/plain": [
       "<Figure size 206.997x204.68 with 1 Axes>"
      ]
     },
     "execution_count": 14,
     "metadata": {},
     "output_type": "execute_result"
    }
   ],
   "source": [
    "# set the strike price (should be within the low and the high value of the uncertainty)\n",
    "strike_price = 1.896\n",
    "\n",
    "# set the approximation scaling for the payoff function\n",
    "c_approx = 0.25\n",
    "\n",
    "# setup piecewise linear objective fcuntion\n",
    "breakpoints = [low, strike_price]\n",
    "slopes = [0, 1]\n",
    "offsets = [0, 0]\n",
    "f_min = 0\n",
    "f_max = high - strike_price\n",
    "european_call_objective = LinearAmplitudeFunction(\n",
    "    num_uncertainty_qubits,\n",
    "    slopes,\n",
    "    offsets,\n",
    "    domain=(low, high),\n",
    "    image=(f_min, f_max),\n",
    "    breakpoints=breakpoints,\n",
    "    rescaling_factor=c_approx,\n",
    ")\n",
    "\n",
    "# construct A operator for QAE for the payoff function by\n",
    "# composing the uncertainty model and the objective\n",
    "num_qubits = european_call_objective.num_qubits\n",
    "european_call = QuantumCircuit(num_qubits)\n",
    "european_call.append(uncertainty_model, range(num_uncertainty_qubits))\n",
    "european_call.append(european_call_objective, range(num_qubits))\n",
    "\n",
    "# draw the circuit\n",
    "european_call.draw()"
   ]
  },
  {
   "cell_type": "code",
   "execution_count": 15,
   "id": "27857bab-30de-4add-9d47-bbaeadf5eec8",
   "metadata": {},
   "outputs": [],
   "source": [
    "# set target precision and confidence level\n",
    "epsilon = 0.01\n",
    "alpha = 0.05\n",
    "\n",
    "qi = QuantumInstance(Aer.get_backend(\"aer_simulator\"), shots=100)\n",
    "problem = EstimationProblem(\n",
    "    state_preparation=european_call,\n",
    "    objective_qubits=[1],\n",
    "    post_processing=european_call_objective.post_processing,\n",
    ")\n",
    "# construct amplitude estimation\n",
    "ae = IterativeAmplitudeEstimation(epsilon, alpha=alpha, quantum_instance=qi)"
   ]
  },
  {
   "cell_type": "code",
   "execution_count": 16,
   "id": "cb0b453a-3d66-4bfe-9120-8906e2510e15",
   "metadata": {},
   "outputs": [],
   "source": [
    "ae_circuit = ae.construct_circuit(problem)\n"
   ]
  },
  {
   "cell_type": "code",
   "execution_count": 17,
   "id": "1f32a00d-1e7c-4e2c-a387-efc9a5078f3e",
   "metadata": {},
   "outputs": [
    {
     "data": {
      "image/png": "[encoded data removed]",
      "text/plain": [
       "<Figure size 206.997x204.68 with 1 Axes>"
      ]
     },
     "execution_count": 17,
     "metadata": {},
     "output_type": "execute_result"
    }
   ],
   "source": [
    "ae_circuit.decompose().draw(\n",
    "    \"mpl\", style=\"iqx\"\n",
    ")  # decompose 1 level: exposes the Phase estimation circuit!"
   ]
  },
  {
   "cell_type": "code",
   "execution_count": 18,
   "id": "81a4c3ae-9e09-4e7e-98a3-19d9d8a2c2e1",
   "metadata": {},
   "outputs": [
    {
     "data": {
      "image/png": "[encoded data removed]",
      "text/plain": [
       "<Figure size 478.079x264.88 with 1 Axes>"
      ]
     },
     "execution_count": 18,
     "metadata": {},
     "output_type": "execute_result"
    }
   ],
   "source": [
    "qc2 = QuantumCircuit(3)\n",
    "qc=qc2.compose(ae_circuit)\n",
    "qc.measure_all()\n",
    "qc.draw()#.savefig('qae_circuit.pdf')"
   ]
  },
  {
   "cell_type": "code",
   "execution_count": 1,
   "id": "e7a8aaf5-5bf8-4492-9499-dae99af0b149",
   "metadata": {},
   "outputs": [],
   "source": [
    "# #choosing the qasm simulator backend\n",
    "\n",
    "# backend = Aer.get_backend('qasm_simulator')\n",
    "\n",
    "# # running the job and getting results (counts)\n",
    "# job = execute(qc, backend, shots=1024) # shots = no. of times you want to run the experiment\n",
    "# result = job.result()\n",
    "# counts = result.get_counts(qc)\n",
    "\n",
    "# #printing and visualizing results (histogram data of experiment)\n",
    "# print(counts)\n",
    "# plot_histogram(counts)"
   ]
  },
  {
   "cell_type": "code",
   "execution_count": 19,
   "id": "87dc200a-ffab-4d52-ab9b-a4917b5fa235",
   "metadata": {},
   "outputs": [
    {
     "data": {
      "text/plain": [
       "[<IBMQSimulator('ibmq_qasm_simulator') from IBMQ(hub='ibm-q', group='open', project='main')>,\n",
       " <IBMQBackend('ibmq_lima') from IBMQ(hub='ibm-q', group='open', project='main')>,\n",
       " <IBMQBackend('ibmq_belem') from IBMQ(hub='ibm-q', group='open', project='main')>,\n",
       " <IBMQBackend('ibmq_quito') from IBMQ(hub='ibm-q', group='open', project='main')>,\n",
       " <IBMQSimulator('simulator_statevector') from IBMQ(hub='ibm-q', group='open', project='main')>,\n",
       " <IBMQSimulator('simulator_mps') from IBMQ(hub='ibm-q', group='open', project='main')>,\n",
       " <IBMQSimulator('simulator_extended_stabilizer') from IBMQ(hub='ibm-q', group='open', project='main')>,\n",
       " <IBMQSimulator('simulator_stabilizer') from IBMQ(hub='ibm-q', group='open', project='main')>,\n",
       " <IBMQBackend('ibmq_manila') from IBMQ(hub='ibm-q', group='open', project='main')>,\n",
       " <IBMQBackend('ibm_nairobi') from IBMQ(hub='ibm-q', group='open', project='main')>,\n",
       " <IBMQBackend('ibm_oslo') from IBMQ(hub='ibm-q', group='open', project='main')>]"
      ]
     },
     "execution_count": 19,
     "metadata": {},
     "output_type": "execute_result"
    }
   ],
   "source": [
    "provider.backends()"
   ]
  },
  {
   "cell_type": "code",
   "execution_count": 20,
   "id": "2be7dab5-4dd9-41b7-94d5-93279a9b215d",
   "metadata": {},
   "outputs": [
    {
     "name": "stdout",
     "output_type": "stream",
     "text": [
      "ibm_oslo                     ibm_nairobi                  ibmq_manila\n",
      "--------                     -----------                  -----------\n",
      "Num. Qubits:  7              Num. Qubits:  7              Num. Qubits:  5\n",
      "Pending Jobs: 58             Pending Jobs: 24             Pending Jobs: 16\n",
      "Least busy:   False          Least busy:   False          Least busy:   True\n",
      "Operational:  True           Operational:  True           Operational:  True\n",
      "Avg. T1:      127.5          Avg. T1:      118.1          Avg. T1:      135.7\n",
      "Avg. T2:      98.7           Avg. T2:      53.3           Avg. T2:      58.2\n",
      "\n",
      "\n",
      "\n",
      "ibmq_quito                   ibmq_belem                   ibmq_lima\n",
      "----------                   ----------                   ---------\n",
      "Num. Qubits:  5              Num. Qubits:  5              Num. Qubits:  5\n",
      "Pending Jobs: 23             Pending Jobs: 17             Pending Jobs: 35\n",
      "Least busy:   False          Least busy:   False          Least busy:   False\n",
      "Operational:  True           Operational:  True           Operational:  True\n",
      "Avg. T1:      92.1           Avg. T1:      89.2           Avg. T1:      92.4\n",
      "Avg. T2:      98.3           Avg. T2:      107.7          Avg. T2:      115.9\n",
      "\n",
      "\n",
      "\n"
     ]
    }
   ],
   "source": [
    "from qiskit.tools import *\n",
    "backend_overview()"
   ]
  },
  {
   "cell_type": "code",
   "execution_count": 23,
   "id": "1773a7f2-6f13-4174-a637-d7f1147a4f24",
   "metadata": {},
   "outputs": [],
   "source": [
    "backend=provider.get_backend('ibmq_manila')"
   ]
  },
  {
   "cell_type": "code",
   "execution_count": 24,
   "id": "28e12cbe-5258-4eeb-8a1a-035ea6daf04c",
   "metadata": {},
   "outputs": [],
   "source": [
    "#Execute the circuit on the backend\n",
    "job=execute(qc,backend,shots=1024)"
   ]
  },
  {
   "cell_type": "code",
   "execution_count": 28,
   "id": "dac27a5c-52f3-453d-a39e-9d005b17d9fc",
   "metadata": {},
   "outputs": [
    {
     "data": {
      "text/plain": [
       "<JobStatus.QUEUED: 'job is queued'>"
      ]
     },
     "execution_count": 28,
     "metadata": {},
     "output_type": "execute_result"
    }
   ],
   "source": [
    "job.status()"
   ]
  },
  {
   "cell_type": "code",
   "execution_count": 30,
   "id": "2453d1a9-18cc-478e-9781-7542255dd9ff",
   "metadata": {},
   "outputs": [],
   "source": [
    "result=job.result()\n",
    "counts=result.get_counts()\n",
    "histogram = plot_histogram(counts,title=\"QAE on IBMQ_Manila\")\n",
    "histogram.savefig('qae_manila.pdf')\n"
   ]
  },
  {
   "cell_type": "code",
   "execution_count": null,
   "id": "c63f852a-4484-4bbc-8bcf-fc93f3b305e3",
   "metadata": {},
   "outputs": [],
   "source": []
  }
 ],
 "metadata": {
  "kernelspec": {
   "display_name": "Python 3 (ipykernel)",
   "language": "python",
   "name": "python3"
  },
  "language_info": {
   "codemirror_mode": {
    "name": "ipython",
    "version": 3
   },
   "file_extension": ".py",
   "mimetype": "text/x-python",
   "name": "python",
   "nbconvert_exporter": "python",
   "pygments_lexer": "ipython3",
   "version": "3.8.13"
  },
  "widgets": {
   "application/vnd.jupyter.widget-state+json": {
    "state": {
     "053f5e61a7ea4738b0066acd610cfef8": {
      "model_module": "@jupyter-widgets/controls",
      "model_module_version": "1.5.0",
      "model_name": "HTMLModel",
      "state": {
       "layout": "IPY_MODEL_1acef339631d4237b14d6e0a3ec93c5b",
       "style": "IPY_MODEL_11d743b1f1b5495b9d60688da3b520d2",
       "value": "job has successfully run"
      }
     },
     "07beff27633d48da9f0b0359c6fd55de": {
      "model_module": "@jupyter-widgets/controls",
      "model_module_version": "1.5.0",
      "model_name": "DescriptionStyleModel",
      "state": {
       "description_width": ""
      }
     },
     "0b3476e202dd403a94fd0df296093c40": {
      "model_module": "@jupyter-widgets/controls",
      "model_module_version": "1.5.0",
      "model_name": "DescriptionStyleModel",
      "state": {
       "description_width": ""
      }
     },
     "0c8daf2eb2f241b7969d45c25a7c6e90": {
      "model_module": "@jupyter-widgets/controls",
      "model_module_version": "1.5.0",
      "model_name": "DescriptionStyleModel",
      "state": {
       "description_width": ""
      }
     },
     "1086392d9a1e4888b5cfe9ae92eef8f5": {
      "model_module": "@jupyter-widgets/base",
      "model_module_version": "1.2.0",
      "model_name": "LayoutModel",
      "state": {
       "width": "95px"
      }
     },
     "109d6eab719b4e84aee86acd77543aff": {
      "model_module": "@jupyter-widgets/base",
      "model_module_version": "1.2.0",
      "model_name": "LayoutModel",
      "state": {
       "width": "190px"
      }
     },
     "11d743b1f1b5495b9d60688da3b520d2": {
      "model_module": "@jupyter-widgets/controls",
      "model_module_version": "1.5.0",
      "model_name": "DescriptionStyleModel",
      "state": {
       "description_width": ""
      }
     },
     "1614eaa9fdb44b22a481bb26d83d32e2": {
      "model_module": "@jupyter-widgets/base",
      "model_module_version": "1.2.0",
      "model_name": "LayoutModel",
      "state": {
       "width": "190px"
      }
     },
     "18567f3645914976aa1ae0aa5aaea1bf": {
      "model_module": "@jupyter-widgets/controls",
      "model_module_version": "1.5.0",
      "model_name": "DescriptionStyleModel",
      "state": {
       "description_width": ""
      }
     },
     "1a4091d2415543018a0d705fbb678bd5": {
      "model_module": "@jupyter-widgets/base",
      "model_module_version": "1.2.0",
      "model_name": "LayoutModel",
      "state": {
       "max_width": "700px",
       "min_width": "700px"
      }
     },
     "1acef339631d4237b14d6e0a3ec93c5b": {
      "model_module": "@jupyter-widgets/base",
      "model_module_version": "1.2.0",
      "model_name": "LayoutModel",
      "state": {
       "overflow_x": "scroll"
      }
     },
     "1f2ea46711f94fd2a611a185aa5a6f16": {
      "model_module": "@jupyter-widgets/controls",
      "model_module_version": "1.5.0",
      "model_name": "HTMLModel",
      "state": {
       "layout": "IPY_MODEL_1fb1d58ac7cd48c099f422a11db851fc",
       "style": "IPY_MODEL_42051dd4f8d24f2ab015505d9a4eb530",
       "value": "<h5>Status</h5>"
      }
     },
     "1fb1d58ac7cd48c099f422a11db851fc": {
      "model_module": "@jupyter-widgets/base",
      "model_module_version": "1.2.0",
      "model_name": "LayoutModel",
      "state": {
       "width": "95px"
      }
     },
     "237573a03ad14398ba366fe009a8a39a": {
      "model_module": "@jupyter-widgets/base",
      "model_module_version": "1.2.0",
      "model_name": "LayoutModel",
      "state": {
       "width": "145px"
      }
     },
     "2780ede453c046c1a21759837ba33dfe": {
      "model_module": "@jupyter-widgets/controls",
      "model_module_version": "1.5.0",
      "model_name": "HBoxModel",
      "state": {
       "children": [
        "IPY_MODEL_28a1167360d24d3794541bbd02beddba",
        "IPY_MODEL_2c0bfc085ffa4d44ae1d352062631364",
        "IPY_MODEL_d9e608b14ca44b96be51d751a6124dd1",
        "IPY_MODEL_4cd818da666441539cceb69715a2da81",
        "IPY_MODEL_78628a9f787b4b7c9039bb6942a2d9ff",
        "IPY_MODEL_053f5e61a7ea4738b0066acd610cfef8"
       ],
       "layout": "IPY_MODEL_1a4091d2415543018a0d705fbb678bd5"
      }
     },
     "28a1167360d24d3794541bbd02beddba": {
      "model_module": "@jupyter-widgets/controls",
      "model_module_version": "1.5.0",
      "model_name": "ButtonModel",
      "state": {
       "icon": "close",
       "layout": "IPY_MODEL_b22abcbc572e4004a82fd15dbcd21c08",
       "style": "IPY_MODEL_5c573c00830f4598852d43fc3920661d"
      }
     },
     "2c0bfc085ffa4d44ae1d352062631364": {
      "model_module": "@jupyter-widgets/controls",
      "model_module_version": "1.5.0",
      "model_name": "HTMLModel",
      "state": {
       "layout": "IPY_MODEL_109d6eab719b4e84aee86acd77543aff",
       "style": "IPY_MODEL_82c7d3b6603843579043d7ef4a403dfa",
       "value": "62e05f21181398da4ec6d4a6"
      }
     },
     "2e0a8d303904473c82e4c7d41af98bb4": {
      "model_module": "@jupyter-widgets/base",
      "model_module_version": "1.2.0",
      "model_name": "LayoutModel",
      "state": {
       "grid_template_areas": "\n                                       \". . . . right \"\n                                        ",
       "grid_template_columns": "20% 20% 20% 20% 20%",
       "width": "100%"
      }
     },
     "30e5845584d148bcbbc90a1d7c2ede05": {
      "model_module": "@jupyter-widgets/controls",
      "model_module_version": "1.5.0",
      "model_name": "HTMLModel",
      "state": {
       "layout": "IPY_MODEL_8649d97d59774c6f9a2e76e57dacb567",
       "style": "IPY_MODEL_07beff27633d48da9f0b0359c6fd55de",
       "value": "<h5>Message</h5>"
      }
     },
     "41df843ba2f146e0aa989592819df82c": {
      "model_module": "@jupyter-widgets/base",
      "model_module_version": "1.2.0",
      "model_name": "LayoutModel",
      "state": {
       "grid_area": "right",
       "padding": "0px 0px 0px 0px",
       "width": "70px"
      }
     },
     "42051dd4f8d24f2ab015505d9a4eb530": {
      "model_module": "@jupyter-widgets/controls",
      "model_module_version": "1.5.0",
      "model_name": "DescriptionStyleModel",
      "state": {
       "description_width": ""
      }
     },
     "4cd818da666441539cceb69715a2da81": {
      "model_module": "@jupyter-widgets/controls",
      "model_module_version": "1.5.0",
      "model_name": "HTMLModel",
      "state": {
       "layout": "IPY_MODEL_1086392d9a1e4888b5cfe9ae92eef8f5",
       "style": "IPY_MODEL_52dd5de59a9b49a9bc85230f357fc237",
       "value": "<font style='color:#34BC6E'>DONE</font>"
      }
     },
     "52dd5de59a9b49a9bc85230f357fc237": {
      "model_module": "@jupyter-widgets/controls",
      "model_module_version": "1.5.0",
      "model_name": "DescriptionStyleModel",
      "state": {
       "description_width": ""
      }
     },
     "5c573c00830f4598852d43fc3920661d": {
      "model_module": "@jupyter-widgets/controls",
      "model_module_version": "1.5.0",
      "model_name": "ButtonStyleModel",
      "state": {
       "button_color": "white"
      }
     },
     "5fe4dd0f0d5f464fa9489c2e64e7f189": {
      "model_module": "@jupyter-widgets/controls",
      "model_module_version": "1.5.0",
      "model_name": "ButtonStyleModel",
      "state": {}
     },
     "68be72052bea46a8a13dc421bc02fc40": {
      "model_module": "@jupyter-widgets/controls",
      "model_module_version": "1.5.0",
      "model_name": "GridBoxModel",
      "state": {
       "children": [
        "IPY_MODEL_8e0e1b8590f145ca9a2efd9450b99458"
       ],
       "layout": "IPY_MODEL_2e0a8d303904473c82e4c7d41af98bb4"
      }
     },
     "68ebb442b82e42e09866923de8ae4d07": {
      "model_module": "@jupyter-widgets/controls",
      "model_module_version": "1.5.0",
      "model_name": "HTMLModel",
      "state": {
       "layout": "IPY_MODEL_dc9d5ac197c144b68f8997c81fc744cf",
       "style": "IPY_MODEL_0c8daf2eb2f241b7969d45c25a7c6e90",
       "value": "<p style='font-family: IBM Plex Sans, Arial, Helvetica, sans-serif; font-size: 20px; font-weight: medium;'>Circuit Properties</p>"
      }
     },
     "78628a9f787b4b7c9039bb6942a2d9ff": {
      "model_module": "@jupyter-widgets/controls",
      "model_module_version": "1.5.0",
      "model_name": "HTMLModel",
      "state": {
       "layout": "IPY_MODEL_96f5aff7df1b4871807732d61eb4dc29",
       "style": "IPY_MODEL_961108f947dd402ca433fe81c7f91214",
       "value": "-"
      }
     },
     "82c7d3b6603843579043d7ef4a403dfa": {
      "model_module": "@jupyter-widgets/controls",
      "model_module_version": "1.5.0",
      "model_name": "DescriptionStyleModel",
      "state": {
       "description_width": ""
      }
     },
     "8649d97d59774c6f9a2e76e57dacb567": {
      "model_module": "@jupyter-widgets/base",
      "model_module_version": "1.2.0",
      "model_name": "LayoutModel",
      "state": {}
     },
     "8e0e1b8590f145ca9a2efd9450b99458": {
      "model_module": "@jupyter-widgets/controls",
      "model_module_version": "1.5.0",
      "model_name": "ButtonModel",
      "state": {
       "button_style": "primary",
       "description": "Clear",
       "layout": "IPY_MODEL_41df843ba2f146e0aa989592819df82c",
       "style": "IPY_MODEL_5fe4dd0f0d5f464fa9489c2e64e7f189"
      }
     },
     "961108f947dd402ca433fe81c7f91214": {
      "model_module": "@jupyter-widgets/controls",
      "model_module_version": "1.5.0",
      "model_name": "DescriptionStyleModel",
      "state": {
       "description_width": ""
      }
     },
     "96f5aff7df1b4871807732d61eb4dc29": {
      "model_module": "@jupyter-widgets/base",
      "model_module_version": "1.2.0",
      "model_name": "LayoutModel",
      "state": {
       "width": "70px"
      }
     },
     "9a348309fb524a708f9269acd87f0791": {
      "model_module": "@jupyter-widgets/controls",
      "model_module_version": "1.5.0",
      "model_name": "HBoxModel",
      "state": {
       "children": [
        "IPY_MODEL_f7c88c90e59b4e858b6dddc66713bb39",
        "IPY_MODEL_e9af3d1e2ee14019bf4742dc44d7005d",
        "IPY_MODEL_1f2ea46711f94fd2a611a185aa5a6f16",
        "IPY_MODEL_c668dfdb5cd949d58336b25395af85fc",
        "IPY_MODEL_30e5845584d148bcbbc90a1d7c2ede05"
       ],
       "layout": "IPY_MODEL_a8b0540237a643978dc716ab22a2219d"
      }
     },
     "a8b0540237a643978dc716ab22a2219d": {
      "model_module": "@jupyter-widgets/base",
      "model_module_version": "1.2.0",
      "model_name": "LayoutModel",
      "state": {
       "margin": "0px 0px 0px 37px",
       "width": "600px"
      }
     },
     "b22abcbc572e4004a82fd15dbcd21c08": {
      "model_module": "@jupyter-widgets/base",
      "model_module_version": "1.2.0",
      "model_name": "LayoutModel",
      "state": {
       "margin": "0px 5px 0px 0px",
       "width": "32px"
      }
     },
     "c668dfdb5cd949d58336b25395af85fc": {
      "model_module": "@jupyter-widgets/controls",
      "model_module_version": "1.5.0",
      "model_name": "HTMLModel",
      "state": {
       "layout": "IPY_MODEL_f36d9dc034d34e73b5fcb0ea70379591",
       "style": "IPY_MODEL_c927cc69b772492b9036065e96802858",
       "value": "<h5>Queue</h5>"
      }
     },
     "c927cc69b772492b9036065e96802858": {
      "model_module": "@jupyter-widgets/controls",
      "model_module_version": "1.5.0",
      "model_name": "DescriptionStyleModel",
      "state": {
       "description_width": ""
      }
     },
     "d9e608b14ca44b96be51d751a6124dd1": {
      "model_module": "@jupyter-widgets/controls",
      "model_module_version": "1.5.0",
      "model_name": "HTMLModel",
      "state": {
       "layout": "IPY_MODEL_237573a03ad14398ba366fe009a8a39a",
       "style": "IPY_MODEL_18567f3645914976aa1ae0aa5aaea1bf",
       "value": "ibmq_manila"
      }
     },
     "dc9d5ac197c144b68f8997c81fc744cf": {
      "model_module": "@jupyter-widgets/base",
      "model_module_version": "1.2.0",
      "model_name": "LayoutModel",
      "state": {
       "margin": "0px 0px 10px 0px"
      }
     },
     "e9af3d1e2ee14019bf4742dc44d7005d": {
      "model_module": "@jupyter-widgets/controls",
      "model_module_version": "1.5.0",
      "model_name": "HTMLModel",
      "state": {
       "layout": "IPY_MODEL_fe7cb80a75c7432bba941a8e2c2a31aa",
       "style": "IPY_MODEL_f2332936c6c24ade86f8fc64f6d2e080",
       "value": "<h5>Backend</h5>"
      }
     },
     "f2332936c6c24ade86f8fc64f6d2e080": {
      "model_module": "@jupyter-widgets/controls",
      "model_module_version": "1.5.0",
      "model_name": "DescriptionStyleModel",
      "state": {
       "description_width": ""
      }
     },
     "f36d9dc034d34e73b5fcb0ea70379591": {
      "model_module": "@jupyter-widgets/base",
      "model_module_version": "1.2.0",
      "model_name": "LayoutModel",
      "state": {
       "width": "70px"
      }
     },
     "f7c88c90e59b4e858b6dddc66713bb39": {
      "model_module": "@jupyter-widgets/controls",
      "model_module_version": "1.5.0",
      "model_name": "HTMLModel",
      "state": {
       "layout": "IPY_MODEL_1614eaa9fdb44b22a481bb26d83d32e2",
       "style": "IPY_MODEL_0b3476e202dd403a94fd0df296093c40",
       "value": "<h5>Job ID</h5>"
      }
     },
     "fe7cb80a75c7432bba941a8e2c2a31aa": {
      "model_module": "@jupyter-widgets/base",
      "model_module_version": "1.2.0",
      "model_name": "LayoutModel",
      "state": {
       "width": "145px"
      }
     }
    },
    "version_major": 2,
    "version_minor": 0
   }
  }
 },
 "nbformat": 4,
 "nbformat_minor": 5
}
