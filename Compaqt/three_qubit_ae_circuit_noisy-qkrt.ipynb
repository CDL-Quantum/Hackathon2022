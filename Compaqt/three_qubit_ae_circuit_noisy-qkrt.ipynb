{
 "cells": [
  {
   "cell_type": "code",
   "execution_count": 3,
   "id": "5f99be15-a9b3-402e-8b2f-b0a142e6f795",
   "metadata": {},
   "outputs": [],
   "source": [
    "import numpy as np\n",
    "\n",
    "# Importing standard Qiskit libraries\n",
    "from qiskit import QuantumCircuit, transpile, Aer, IBMQ, execute\n",
    "from qiskit.tools import *\n",
    "from qiskit.visualization import *\n",
    "from ibm_quantum_widgets import *\n",
    "from qiskit.providers.aer import QasmSimulator\n",
    "\n",
    "# Loading your IBM Quantum account(s)\n",
    "provider = IBMQ.load_account()"
   ]
  },
  {
   "cell_type": "code",
   "execution_count": 1,
   "id": "9fa501bd-67b9-4276-a95d-59c45c52f897",
   "metadata": {},
   "outputs": [
    {
     "name": "stderr",
     "output_type": "stream",
     "text": [
      "<frozen importlib._bootstrap>:219: RuntimeWarning: scipy._lib.messagestream.MessageStream size changed, may indicate binary incompatibility. Expected 56 from C header, got 64 from PyObject\n"
     ]
    }
   ],
   "source": [
    "import matplotlib.pyplot as plt\n",
    "\n",
    "%matplotlib inline\n",
    "import numpy as np\n",
    "\n",
    "from qiskit import Aer, QuantumCircuit\n",
    "from qiskit.utils import QuantumInstance\n",
    "from qiskit.algorithms import IterativeAmplitudeEstimation, EstimationProblem\n",
    "from qiskit.circuit.library import LinearAmplitudeFunction\n",
    "from qiskit_finance.circuit.library import LogNormalDistribution"
   ]
  },
  {
   "cell_type": "code",
   "execution_count": 2,
   "id": "a7e4e5cd-cf99-46b7-a680-413eb1226cf2",
   "metadata": {},
   "outputs": [],
   "source": [
    "#number of qubits to represent the uncertainty\n",
    "num_uncertainty_qubits = 1\n",
    "\n",
    "# parameters for considered random distribution\n",
    "S = 2.0  # initial spot price\n",
    "vol = 0.4  # volatility of 40%\n",
    "r = 0.05  # annual interest rate of 4%\n",
    "T = 40 / 365  # 40 days to maturity\n",
    "\n",
    "# resulting parameters for log-normal distribution\n",
    "mu = (r - 0.5 * vol**2) * T + np.log(S)\n",
    "sigma = vol * np.sqrt(T)\n",
    "mean = np.exp(mu + sigma**2 / 2)\n",
    "variance = (np.exp(sigma**2) - 1) * np.exp(2 * mu + sigma**2)\n",
    "stddev = np.sqrt(variance)\n",
    "\n",
    "# lowest and highest value considered for the spot price; in between, an equidistant discretization is considered.\n",
    "low = np.maximum(0, mean - 3 * stddev)\n",
    "high = mean + 3 * stddev\n",
    "\n",
    "# construct A operator for QAE for the payoff function by\n",
    "# composing the uncertainty model and the objective\n",
    "uncertainty_model = LogNormalDistribution(\n",
    "    num_uncertainty_qubits, mu=mu, sigma=sigma**2, bounds=(low, high)\n",
    ")"
   ]
  },
  {
   "cell_type": "code",
   "execution_count": 5,
   "id": "84420bb7-a07e-44e3-a508-2fc9d334ea83",
   "metadata": {},
   "outputs": [
    {
     "data": {
      "image/png": "[encoded data removed]",
      "text/plain": [
       "<Figure size 206.997x204.68 with 1 Axes>"
      ]
     },
     "execution_count": 5,
     "metadata": {},
     "output_type": "execute_result"
    }
   ],
   "source": [
    "# set the strike price (should be within the low and the high value of the uncertainty)\n",
    "strike_price = 1.896\n",
    "\n",
    "# set the approximation scaling for the payoff function\n",
    "c_approx = 0.25\n",
    "\n",
    "# setup piecewise linear objective fcuntion\n",
    "breakpoints = [low, strike_price]\n",
    "slopes = [0, 1]\n",
    "offsets = [0, 0]\n",
    "f_min = 0\n",
    "f_max = high - strike_price\n",
    "european_call_objective = LinearAmplitudeFunction(\n",
    "    num_uncertainty_qubits,\n",
    "    slopes,\n",
    "    offsets,\n",
    "    domain=(low, high),\n",
    "    image=(f_min, f_max),\n",
    "    breakpoints=breakpoints,\n",
    "    rescaling_factor=c_approx,\n",
    ")\n",
    "\n",
    "# construct A operator for QAE for the payoff function by\n",
    "# composing the uncertainty model and the objective\n",
    "num_qubits = european_call_objective.num_qubits\n",
    "european_call = QuantumCircuit(num_qubits)\n",
    "european_call.append(uncertainty_model, range(num_uncertainty_qubits))\n",
    "european_call.append(european_call_objective, range(num_qubits))\n",
    "\n",
    "# draw the circuit\n",
    "european_call.draw(output='mpl')"
   ]
  },
  {
   "cell_type": "code",
   "execution_count": 6,
   "id": "27857bab-30de-4add-9d47-bbaeadf5eec8",
   "metadata": {},
   "outputs": [],
   "source": [
    "# set target precision and confidence level\n",
    "epsilon = 0.01\n",
    "alpha = 0.05\n",
    "\n",
    "qi = QuantumInstance(Aer.get_backend(\"aer_simulator\"), shots=100)\n",
    "problem = EstimationProblem(\n",
    "    state_preparation=european_call,\n",
    "    objective_qubits=[1],\n",
    "    post_processing=european_call_objective.post_processing,\n",
    ")\n",
    "# construct amplitude estimation\n",
    "ae = IterativeAmplitudeEstimation(epsilon, alpha=alpha, quantum_instance=qi)"
   ]
  },
  {
   "cell_type": "code",
   "execution_count": 7,
   "id": "cb0b453a-3d66-4bfe-9120-8906e2510e15",
   "metadata": {},
   "outputs": [],
   "source": [
    "ae_circuit = ae.construct_circuit(problem)"
   ]
  },
  {
   "cell_type": "code",
   "execution_count": 8,
   "id": "1f32a00d-1e7c-4e2c-a387-efc9a5078f3e",
   "metadata": {},
   "outputs": [
    {
     "data": {
      "image/png": "[encoded data removed]",
      "text/plain": [
       "<Figure size 206.997x204.68 with 1 Axes>"
      ]
     },
     "execution_count": 8,
     "metadata": {},
     "output_type": "execute_result"
    }
   ],
   "source": [
    "ae_circuit.decompose().draw(\n",
    "    \"mpl\", style=\"iqx\"\n",
    ")  # decompose 1 level: exposes the Phase estimation circuit!"
   ]
  },
  {
   "cell_type": "code",
   "execution_count": 9,
   "id": "81a4c3ae-9e09-4e7e-98a3-19d9d8a2c2e1",
   "metadata": {},
   "outputs": [
    {
     "data": {
      "image/png": "[encoded data removed]",
      "text/plain": [
       "<Figure size 478.079x264.88 with 1 Axes>"
      ]
     },
     "execution_count": 9,
     "metadata": {},
     "output_type": "execute_result"
    }
   ],
   "source": [
    "qc2 = QuantumCircuit(3)\n",
    "qc=qc2.compose(ae_circuit)\n",
    "qc.measure_all()\n",
    "qc.draw()#.savefig('qae_circuit.pdf')"
   ]
  },
  {
   "cell_type": "code",
   "execution_count": 1,
   "id": "e7a8aaf5-5bf8-4492-9499-dae99af0b149",
   "metadata": {},
   "outputs": [],
   "source": [
    "# #choosing the qasm simulator backend\n",
    "\n",
    "# backend = Aer.get_backend('qasm_simulator')\n",
    "\n",
    "# # running the job and getting results (counts)\n",
    "# job = execute(qc, backend, shots=1024) # shots = no. of times you want to run the experiment\n",
    "# result = job.result()\n",
    "# counts = result.get_counts(qc)\n",
    "\n",
    "# #printing and visualizing results (histogram data of experiment)\n",
    "# print(counts)\n",
    "# plot_histogram(counts)"
   ]
  },
  {
   "cell_type": "code",
   "execution_count": 19,
   "id": "87dc200a-ffab-4d52-ab9b-a4917b5fa235",
   "metadata": {},
   "outputs": [
    {
     "data": {
      "text/plain": [
       "[<IBMQSimulator('ibmq_qasm_simulator') from IBMQ(hub='ibm-q', group='open', project='main')>,\n",
       " <IBMQBackend('ibmq_lima') from IBMQ(hub='ibm-q', group='open', project='main')>,\n",
       " <IBMQBackend('ibmq_belem') from IBMQ(hub='ibm-q', group='open', project='main')>,\n",
       " <IBMQBackend('ibmq_quito') from IBMQ(hub='ibm-q', group='open', project='main')>,\n",
       " <IBMQSimulator('simulator_statevector') from IBMQ(hub='ibm-q', group='open', project='main')>,\n",
       " <IBMQSimulator('simulator_mps') from IBMQ(hub='ibm-q', group='open', project='main')>,\n",
       " <IBMQSimulator('simulator_extended_stabilizer') from IBMQ(hub='ibm-q', group='open', project='main')>,\n",
       " <IBMQSimulator('simulator_stabilizer') from IBMQ(hub='ibm-q', group='open', project='main')>,\n",
       " <IBMQBackend('ibmq_manila') from IBMQ(hub='ibm-q', group='open', project='main')>,\n",
       " <IBMQBackend('ibm_nairobi') from IBMQ(hub='ibm-q', group='open', project='main')>,\n",
       " <IBMQBackend('ibm_oslo') from IBMQ(hub='ibm-q', group='open', project='main')>]"
      ]
     },
     "execution_count": 19,
     "metadata": {},
     "output_type": "execute_result"
    }
   ],
   "source": [
    "provider.backends()"
   ]
  },
  {
   "cell_type": "code",
   "execution_count": 10,
   "id": "2be7dab5-4dd9-41b7-94d5-93279a9b215d",
   "metadata": {},
   "outputs": [
    {
     "name": "stdout",
     "output_type": "stream",
     "text": [
      "ibm_oslo                     ibm_nairobi                  ibmq_manila\n",
      "--------                     -----------                  -----------\n",
      "Num. Qubits:  7              Num. Qubits:  7              Num. Qubits:  5\n",
      "Pending Jobs: 6              Pending Jobs: 23             Pending Jobs: 7\n",
      "Least busy:   False          Least busy:   False          Least busy:   False\n",
      "Operational:  True           Operational:  True           Operational:  True\n",
      "Avg. T1:      123.3          Avg. T1:      121.9          Avg. T1:      152.5\n",
      "Avg. T2:      98.7           Avg. T2:      53.3           Avg. T2:      58.2\n",
      "\n",
      "\n",
      "\n",
      "ibmq_quito                   ibmq_belem                   ibmq_lima\n",
      "----------                   ----------                   ---------\n",
      "Num. Qubits:  5              Num. Qubits:  5              Num. Qubits:  5\n",
      "Pending Jobs: 1              Pending Jobs: 0              Pending Jobs: 0\n",
      "Least busy:   False          Least busy:   True           Least busy:   False\n",
      "Operational:  True           Operational:  True           Operational:  True\n",
      "Avg. T1:      92.1           Avg. T1:      89.2           Avg. T1:      92.4\n",
      "Avg. T2:      98.3           Avg. T2:      107.7          Avg. T2:      115.9\n",
      "\n",
      "\n",
      "\n"
     ]
    }
   ],
   "source": [
    "backend_overview()"
   ]
  },
  {
   "cell_type": "code",
   "execution_count": 23,
   "id": "1773a7f2-6f13-4174-a637-d7f1147a4f24",
   "metadata": {},
   "outputs": [],
   "source": [
    "backend=provider.get_backend('ibmq_manila')"
   ]
  },
  {
   "cell_type": "code",
   "execution_count": 24,
   "id": "28e12cbe-5258-4eeb-8a1a-035ea6daf04c",
   "metadata": {},
   "outputs": [],
   "source": [
    "#Execute the circuit on the backend\n",
    "job=execute(qc,backend,shots=1024)"
   ]
  },
  {
   "cell_type": "code",
   "execution_count": 28,
   "id": "dac27a5c-52f3-453d-a39e-9d005b17d9fc",
   "metadata": {},
   "outputs": [
    {
     "data": {
      "text/plain": [
       "<JobStatus.QUEUED: 'job is queued'>"
      ]
     },
     "execution_count": 28,
     "metadata": {},
     "output_type": "execute_result"
    }
   ],
   "source": [
    "job.status()"
   ]
  },
  {
   "cell_type": "code",
   "execution_count": 30,
   "id": "2453d1a9-18cc-478e-9781-7542255dd9ff",
   "metadata": {},
   "outputs": [],
   "source": [
    "result=job.result()\n",
    "counts=result.get_counts()\n",
    "histogram = plot_histogram(counts,title=\"QAE on IBMQ_Manila\")\n",
    "histogram.savefig('qae_manila.pdf')\n"
   ]
  },
  {
   "cell_type": "markdown",
   "id": "74cb07a4-9925-4ee4-bded-eb7e57c65d3d",
   "metadata": {},
   "source": [
    "## Qiskit Runtime"
   ]
  },
  {
   "cell_type": "code",
   "execution_count": 16,
   "id": "955bd769-1e9a-4090-836e-b14725191933",
   "metadata": {},
   "outputs": [
    {
     "name": "stdout",
     "output_type": "stream",
     "text": [
      "SamplerResult(quasi_dists=[{'010': 0.0146484375, '000': 0.0367431640625, '011': 0.658447265625, '001': 0.2901611328125}], metadata=[{'header_metadata': {}, 'shots': 8192}])\n"
     ]
    },
    {
     "data": {
      "image/png": "[encoded data removed]",
      "text/plain": [
       "<Figure size 504x360 with 1 Axes>"
      ]
     },
     "execution_count": 16,
     "metadata": {},
     "output_type": "execute_result"
    }
   ],
   "source": [
    "from qiskit_ibm_runtime import QiskitRuntimeService, Sampler\n",
    "\n",
    "service = QiskitRuntimeService()\n",
    "\n",
    "with Sampler(circuits=qc, service=service,\n",
    "             #options={'backend': backend},\n",
    "             options={\"backend\": \"ibmq_qasm_simulator\"},\n",
    "             #options={\"backend\": \"ibmq_belem\"},\n",
    "             #skip_transpilation=True\n",
    "            ) as sampler:\n",
    "    result = sampler(circuits=[0], shots=8192)\n",
    "    print(result)\n",
    "    \n",
    "plot_histogram(result.quasi_dists)"
   ]
  },
  {
   "cell_type": "code",
   "execution_count": 15,
   "id": "30cf768e-4346-4935-b06b-df004bfe1625",
   "metadata": {},
   "outputs": [],
   "source": [
    "histogram=plot_histogram(result.quasi_dists, title=\"QAE on IBMQ_Belem, shots = 8192\")\n",
    "histogram.savefig('qae_belem-8192.pdf')"
   ]
  },
  {
   "cell_type": "code",
   "execution_count": 17,
   "id": "86b48874-7acc-4937-9596-f087ddcf8289",
   "metadata": {},
   "outputs": [],
   "source": [
    "histogram=plot_histogram(result.quasi_dists, title=\"QAE on Simulator, shots = 8192\")\n",
    "histogram.savefig('qae_sim-8192.pdf')"
   ]
  },
  {
   "cell_type": "code",
   "execution_count": null,
   "id": "4e7b0289-6de4-45ec-926b-6671fc9bb402",
   "metadata": {},
   "outputs": [],
   "source": []
  }
 ],
 "metadata": {
  "kernelspec": {
   "display_name": "Python 3 (ipykernel)",
   "language": "python",
   "name": "python3"
  },
  "language_info": {
   "codemirror_mode": {
    "name": "ipython",
    "version": 3
   },
   "file_extension": ".py",
   "mimetype": "text/x-python",
   "name": "python",
   "nbconvert_exporter": "python",
   "pygments_lexer": "ipython3",
   "version": "3.8.13"
  },
  "widgets": {
   "application/vnd.jupyter.widget-state+json": {
    "state": {},
    "version_major": 2,
    "version_minor": 0
   }
  }
 },
 "nbformat": 4,
 "nbformat_minor": 5
}
