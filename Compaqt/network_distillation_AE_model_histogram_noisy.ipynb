{
 "cells": [
  {
   "cell_type": "code",
   "execution_count": 12,
   "id": "daae30bb",
   "metadata": {},
   "outputs": [],
   "source": [
    "# General Imports\n",
    "import numpy as np\n",
    "\n",
    "# Visualisation Imports\n",
    "import matplotlib.pyplot as plt\n",
    "\n",
    "# Scikit Imports\n",
    "from sklearn import datasets\n",
    "from sklearn.model_selection import train_test_split\n",
    "from sklearn.svm import SVC\n",
    "from sklearn.decomposition import PCA\n",
    "from sklearn.preprocessing import StandardScaler, MinMaxScaler\n",
    "\n",
    "# Qiskit Imports\n",
    "from qiskit import Aer, execute\n",
    "from qiskit.visualization import *\n",
    "from qiskit.circuit import QuantumCircuit, Parameter, ParameterVector\n",
    "from qiskit.circuit.library import PauliFeatureMap, ZFeatureMap, ZZFeatureMap\n",
    "from qiskit.circuit.library import TwoLocal, NLocal, RealAmplitudes, EfficientSU2\n",
    "from qiskit.circuit.library import HGate, RXGate, RYGate, RZGate, CXGate, CRXGate, CRZGate\n",
    "from qiskit.opflow import StateFn, PauliSumOp, AerPauliExpectation, ListOp, Gradient\n",
    "from qiskit_machine_learning.kernels import QuantumKernel\n",
    "\n",
    "from qiskit.utils import QuantumInstance, algorithm_globals\n",
    "from qiskit_machine_learning.neural_networks import CircuitQNN"
   ]
  },
  {
   "cell_type": "code",
   "execution_count": 3,
   "id": "10f3cd91",
   "metadata": {},
   "outputs": [
    {
     "name": "stdout",
     "output_type": "stream",
     "text": [
      "     ┌──────────┐ ░            ░ ┌──────────┐ ░            ░ ┌──────────┐\n",
      "q_0: ┤ Ry(θ[0]) ├─░───■────────░─┤ Ry(θ[3]) ├─░───■────────░─┤ Ry(θ[6]) ├\n",
      "     ├──────────┤ ░ ┌─┴─┐      ░ ├──────────┤ ░ ┌─┴─┐      ░ ├──────────┤\n",
      "q_1: ┤ Ry(θ[1]) ├─░─┤ X ├──■───░─┤ Ry(θ[4]) ├─░─┤ X ├──■───░─┤ Ry(θ[7]) ├\n",
      "     ├──────────┤ ░ └───┘┌─┴─┐ ░ ├──────────┤ ░ └───┘┌─┴─┐ ░ ├──────────┤\n",
      "q_2: ┤ Ry(θ[2]) ├─░──────┤ X ├─░─┤ Ry(θ[5]) ├─░──────┤ X ├─░─┤ Ry(θ[8]) ├\n",
      "     └──────────┘ ░      └───┘ ░ └──────────┘ ░      └───┘ ░ └──────────┘\n"
     ]
    }
   ],
   "source": [
    "# Construct teacher and student networks\n",
    "\n",
    "from qiskit.circuit.library import RealAmplitudes\n",
    "\n",
    "def student_network_builder(num_qubits):\n",
    "    circuit = TwoLocal(num_qubits=num_qubits, reps=2, entanglement_blocks='cx', entanglement='linear', rotation_blocks=['ry'], insert_barriers=True).decompose()\n",
    "    \n",
    "    return circuit\n",
    "\n",
    "student_network = student_network_builder(3)\n",
    "print(student_network)\n",
    "\n"
   ]
  },
  {
   "cell_type": "markdown",
   "id": "af756cd4",
   "metadata": {},
   "source": [
    "# Student Circuit validate"
   ]
  },
  {
   "cell_type": "code",
   "execution_count": 4,
   "id": "b9c63873",
   "metadata": {},
   "outputs": [],
   "source": [
    "weights = [ 2.8131, -0.6038, -1.5985,  0.1035, -3.0277, -0.0254, -0.0591, -1.3483,\n",
    "         1.5391]"
   ]
  },
  {
   "cell_type": "markdown",
   "id": "201540f7",
   "metadata": {},
   "source": [
    "# Test histogram"
   ]
  },
  {
   "cell_type": "code",
   "execution_count": 5,
   "id": "dd54f992",
   "metadata": {},
   "outputs": [
    {
     "data": {
      "image/png": "[encoded data removed]",
      "text/plain": [
       "<Figure size 1200.48x264.88 with 1 Axes>"
      ]
     },
     "execution_count": 5,
     "metadata": {},
     "output_type": "execute_result"
    }
   ],
   "source": [
    "qc3 = QuantumCircuit(3)\n",
    "qc=qc3.compose(student_network)\n",
    "qc.assign_parameters(weights, inplace=True)\n",
    "\n",
    "qc.measure_all()\n",
    "qc.decompose().draw(output='mpl')"
   ]
  },
  {
   "cell_type": "code",
   "execution_count": 5,
   "id": "c9f00715",
   "metadata": {},
   "outputs": [],
   "source": [
    "# #choosing the qasm simulator backend\n",
    "\n",
    "# from qiskit.visualization import plot_histogram\n",
    "\n",
    "# backend = Aer.get_backend('qasm_simulator')\n",
    "\n",
    "# # running the job and getting results (counts)\n",
    "# job = execute(qc, backend, shots=1024) # shots = no. of times you want to run the experiment\n",
    "# result = job.result()\n",
    "# counts = result.get_counts(qc)\n",
    "\n",
    "# #printing and visualizing results (histogram data of experiment)\n",
    "# print(counts)\n",
    "# plot_histogram(counts)"
   ]
  },
  {
   "cell_type": "code",
   "execution_count": 6,
   "id": "4078e87c",
   "metadata": {},
   "outputs": [],
   "source": [
    "from qiskit import QuantumCircuit, transpile, Aer, IBMQ, execute\n",
    "provider = IBMQ.load_account()\n"
   ]
  },
  {
   "cell_type": "code",
   "execution_count": 10,
   "id": "4d820c42-ba9a-4173-935b-b95cbf528410",
   "metadata": {},
   "outputs": [
    {
     "name": "stdout",
     "output_type": "stream",
     "text": [
      "ibm_oslo                     ibm_nairobi                  ibmq_manila\n",
      "--------                     -----------                  -----------\n",
      "Num. Qubits:  7              Num. Qubits:  7              Num. Qubits:  5\n",
      "Pending Jobs: 127            Pending Jobs: 22             Pending Jobs: 34\n",
      "Least busy:   False          Least busy:   False          Least busy:   False\n",
      "Operational:  True           Operational:  True           Operational:  True\n",
      "Avg. T1:      127.5          Avg. T1:      118.1          Avg. T1:      163.9\n",
      "Avg. T2:      98.7           Avg. T2:      53.3           Avg. T2:      58.2\n",
      "\n",
      "\n",
      "\n",
      "ibmq_quito                   ibmq_belem                   ibmq_lima\n",
      "----------                   ----------                   ---------\n",
      "Num. Qubits:  5              Num. Qubits:  5              Num. Qubits:  5\n",
      "Pending Jobs: 29             Pending Jobs: 20             Pending Jobs: 39\n",
      "Least busy:   False          Least busy:   True           Least busy:   False\n",
      "Operational:  True           Operational:  True           Operational:  True\n",
      "Avg. T1:      92.1           Avg. T1:      89.2           Avg. T1:      92.4\n",
      "Avg. T2:      98.3           Avg. T2:      107.7          Avg. T2:      115.9\n",
      "\n",
      "\n",
      "\n"
     ]
    }
   ],
   "source": [
    "from qiskit.tools import *\n",
    "backend_overview()"
   ]
  },
  {
   "cell_type": "code",
   "execution_count": 11,
   "id": "6e7b9a93-2d83-4224-93d9-7bb44dd918e8",
   "metadata": {},
   "outputs": [],
   "source": [
    "backend=provider.get_backend('ibmq_belem')"
   ]
  },
  {
   "cell_type": "code",
   "execution_count": 12,
   "id": "2d6e1c95-e68a-477a-b049-d6acc3aa9daa",
   "metadata": {},
   "outputs": [],
   "source": [
    "#Execute the circuit on the backend\n",
    "job=execute(qc,backend,shots=1024)"
   ]
  },
  {
   "cell_type": "code",
   "execution_count": 14,
   "id": "15d543fd-11ab-4bfb-8028-211357f6f6e8",
   "metadata": {},
   "outputs": [
    {
     "data": {
      "text/plain": [
       "<JobStatus.DONE: 'job has successfully run'>"
      ]
     },
     "execution_count": 14,
     "metadata": {},
     "output_type": "execute_result"
    }
   ],
   "source": [
    "job.status()"
   ]
  },
  {
   "cell_type": "code",
   "execution_count": 7,
   "id": "764d4399-fcd6-4cb1-b8f3-a5b0aa8d10b5",
   "metadata": {},
   "outputs": [],
   "source": [
    "belem = provider.get_backend('ibmq_belem')"
   ]
  },
  {
   "cell_type": "code",
   "execution_count": 8,
   "id": "8b556338-de6e-4a78-b176-4cb2be32b73d",
   "metadata": {},
   "outputs": [
    {
     "data": {
      "text/plain": [
       "[<qiskit.providers.ibmq.job.ibmqjob.IBMQJob at 0x7ff9e480a5b0>,\n",
       " <qiskit.providers.ibmq.job.ibmqjob.IBMQJob at 0x7ff9e2f843d0>,\n",
       " <qiskit.providers.ibmq.job.ibmqjob.IBMQJob at 0x7ff9e2f844c0>]"
      ]
     },
     "execution_count": 8,
     "metadata": {},
     "output_type": "execute_result"
    }
   ],
   "source": [
    "belem.jobs()"
   ]
  },
  {
   "cell_type": "code",
   "execution_count": 16,
   "id": "3bf75b5e-21b1-4676-ac97-04904e52e2cc",
   "metadata": {},
   "outputs": [],
   "source": [
    "job = belem.retrieve_job('62e04f0d1813982a9ec6d48a')\n",
    "result=job.result()\n",
    "counts=result.get_counts()\n",
    "histogram = plot_histogram(counts,title=\"Quantum Neural Network on IBMQ_Belem\")\n",
    "histogram.savefig('qnn_belem.pdf')"
   ]
  },
  {
   "cell_type": "code",
   "execution_count": null,
   "id": "d70ed788-4dfa-43a8-a83b-d5ca30e35cd6",
   "metadata": {},
   "outputs": [],
   "source": []
  }
 ],
 "metadata": {
  "kernelspec": {
   "display_name": "Python 3 (ipykernel)",
   "language": "python",
   "name": "python3"
  },
  "language_info": {
   "codemirror_mode": {
    "name": "ipython",
    "version": 3
   },
   "file_extension": ".py",
   "mimetype": "text/x-python",
   "name": "python",
   "nbconvert_exporter": "python",
   "pygments_lexer": "ipython3",
   "version": "3.8.13"
  },
  "widgets": {
   "application/vnd.jupyter.widget-state+json": {
    "state": {},
    "version_major": 2,
    "version_minor": 0
   }
  }
 },
 "nbformat": 4,
 "nbformat_minor": 5
}
