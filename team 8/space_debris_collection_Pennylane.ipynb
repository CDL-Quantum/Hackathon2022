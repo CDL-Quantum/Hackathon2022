{
  "nbformat": 4,
  "nbformat_minor": 0,
  "metadata": {
    "colab": {
      "name": "space_debris_collection_Pennylane.ipynb",
      "provenance": [],
      "collapsed_sections": []
    },
    "kernelspec": {
      "name": "python3",
      "display_name": "Python 3"
    },
    "language_info": {
      "name": "python"
    }
  },
  "cells": [
    {
      "cell_type": "code",
      "execution_count": 1,
      "metadata": {
        "colab": {
          "base_uri": "https://localhost:8080/"
        },
        "id": "iEYhchm4dvze",
        "outputId": "3df98194-d82b-419d-f467-9e09b432bc9e"
      },
      "outputs": [
        {
          "output_type": "stream",
          "name": "stdout",
          "text": [
            "Looking in indexes: https://pypi.org/simple, https://us-python.pkg.dev/colab-wheels/public/simple/\n",
            "Collecting pennylane\n",
            "  Downloading PennyLane-0.24.0-py3-none-any.whl (957 kB)\n",
            "\u001b[K     |████████████████████████████████| 957 kB 5.3 MB/s \n",
            "\u001b[?25hCollecting pennylane-lightning>=0.24\n",
            "  Downloading PennyLane_Lightning-0.24.0-cp37-cp37m-manylinux_2_17_x86_64.manylinux2014_x86_64.whl (9.3 MB)\n",
            "\u001b[K     |████████████████████████████████| 9.3 MB 14.0 MB/s \n",
            "\u001b[?25hRequirement already satisfied: appdirs in /usr/local/lib/python3.7/dist-packages (from pennylane) (1.4.4)\n",
            "Collecting toml\n",
            "  Downloading toml-0.10.2-py2.py3-none-any.whl (16 kB)\n",
            "Requirement already satisfied: networkx in /usr/local/lib/python3.7/dist-packages (from pennylane) (2.6.3)\n",
            "Collecting semantic-version==2.6\n",
            "  Downloading semantic_version-2.6.0-py3-none-any.whl (14 kB)\n",
            "Collecting retworkx\n",
            "  Downloading retworkx-0.11.0-cp37-cp37m-manylinux_2_5_x86_64.manylinux1_x86_64.manylinux_2_12_x86_64.manylinux2010_x86_64.whl (1.6 MB)\n",
            "\u001b[K     |████████████████████████████████| 1.6 MB 36.5 MB/s \n",
            "\u001b[?25hRequirement already satisfied: scipy in /usr/local/lib/python3.7/dist-packages (from pennylane) (1.7.3)\n",
            "Requirement already satisfied: cachetools in /usr/local/lib/python3.7/dist-packages (from pennylane) (4.2.4)\n",
            "Collecting autoray>=0.3.1\n",
            "  Downloading autoray-0.3.2-py3-none-any.whl (36 kB)\n",
            "Requirement already satisfied: numpy in /usr/local/lib/python3.7/dist-packages (from pennylane) (1.21.6)\n",
            "Requirement already satisfied: autograd in /usr/local/lib/python3.7/dist-packages (from pennylane) (1.4)\n",
            "Collecting ninja\n",
            "  Downloading ninja-1.10.2.3-py2.py3-none-manylinux_2_5_x86_64.manylinux1_x86_64.whl (108 kB)\n",
            "\u001b[K     |████████████████████████████████| 108 kB 53.9 MB/s \n",
            "\u001b[?25hRequirement already satisfied: future>=0.15.2 in /usr/local/lib/python3.7/dist-packages (from autograd->pennylane) (0.16.0)\n",
            "Installing collected packages: ninja, toml, semantic-version, retworkx, pennylane-lightning, autoray, pennylane\n",
            "Successfully installed autoray-0.3.2 ninja-1.10.2.3 pennylane-0.24.0 pennylane-lightning-0.24.0 retworkx-0.11.0 semantic-version-2.6.0 toml-0.10.2\n",
            "Looking in indexes: https://pypi.org/simple, https://us-python.pkg.dev/colab-wheels/public/simple/\n",
            "Requirement already satisfied: networkx in /usr/local/lib/python3.7/dist-packages (2.6.3)\n"
          ]
        }
      ],
      "source": [
        "import sys\n",
        "!{sys.executable} -m pip install pennylane\n",
        "!{sys.executable} -m pip install networkx"
      ]
    },
    {
      "cell_type": "code",
      "source": [
        "import networkx as nx\n",
        "import pennylane as qml\n",
        "from pennylane import numpy as np \n",
        "import matplotlib.pyplot as plt"
      ],
      "metadata": {
        "id": "vTd6PsprHhIm"
      },
      "execution_count": 2,
      "outputs": []
    },
    {
      "cell_type": "markdown",
      "source": [
        "# Space debris optimization"
      ],
      "metadata": {
        "id": "wr3gMLPUepdb"
      }
    },
    {
      "cell_type": "markdown",
      "source": [
        "In this work, we solve the combinatorial optimization problem of space debris collection. A challenge for space agencies, satellite producers and any actor involved in space travel is to avoid space debris. In spite of possibly small sizes, their speeds on orbits make any collision with satellite or spacecraft threaten the success of space expeditions with major damage. Therefore, a major concern is to collect these debris and destroy them at the entrance of the atmosphere."
      ],
      "metadata": {
        "id": "FdAx9nEVeytw"
      }
    },
    {
      "cell_type": "markdown",
      "source": [
        "The problem is the following. Debris collection journeys are expensive, since the quantity of fuels used to propel the engins is massive, and the capacity of each space craft limits the amount of space garbage that can be collected. To optimize each trip to space, we must therefore seek debris located at particular locations, such that they minimize the distance and hence the fuel consumption, and they maximize the quantity of trash collected. We solve the latter problem first, and add further constraints to the problem progressively."
      ],
      "metadata": {
        "id": "sMUPN0CCfzsU"
      }
    },
    {
      "cell_type": "markdown",
      "source": [
        "### Formulation of the cost function "
      ],
      "metadata": {
        "id": "wKXwHlEhP2_-"
      }
    },
    {
      "cell_type": "markdown",
      "source": [
        "Let us first consider the problem of maximization of the volume of trash that is collected. This task is related to the knapsack problem. \n",
        "\n",
        "We start with a set of N debris. We encode the information about the debris to collect in a bitstring:\n",
        "\\begin{equation}\n",
        "z = z_1 z_2 \\cdots z_N, \\text{where } z_i = \\begin{cases}\n",
        "1, & \\text{if debris i is collected} \\\\\n",
        "0, & \\text{if otherwise.}\n",
        "\\end{cases}\n",
        "\\end{equation}\n",
        "\n",
        "To solve the problem with brute force method, we must inspect all possible bitstrings $z$ and pick the one that maximizes the volume of the debris collected. Therefore, it is a combinatorial optimization problem. To formulate it, we pair each debris $i$ with its weight/size $w_i$. The debris locations can be reported on a graph with edge set $E$ and vertex set $V$ such that $G = \\{E,V\\}$. Each vertex is associated with a weight, and each edge $i -j$ with a distance $d_{ij}$. With these notations, we encode the problem into the cost function:\n",
        "\\begin{equation}\n",
        "C(z) = (V-\\sum_{i=1}^{N} w_i z_i)^2 + \\sum_{i, j=1}^{N} d_{ij} z_i z_j\n",
        "\\end{equation}\n",
        "where the first term corresponds to the knapsack problem and the second aims at minimizing the travelled distance. To simplify the implementation, the constant term can be removed:\n",
        "\\begin{align}\n",
        "C(z) &=  (-2V\\sum_{i=1}^{N} w_i z_i + 2\\sum_{i<j = 1}^N w_i w_j z_i z_j) + \\sum_{i<j=1}^{N} d_{ij} z_i z_j \\\\\n",
        " & = -2V \\sum_{i=1}^{N} w_i z_i + \\sum_{i<j = 1}^N (2 w_i w_j + d_{ij})\\, z_i z_j\n",
        "\\end{align}"
      ],
      "metadata": {
        "id": "vQaudcVog9tn"
      }
    },
    {
      "cell_type": "markdown",
      "source": [
        "### Mapping to a Hamiltonian"
      ],
      "metadata": {
        "id": "1rMYjbViP8R0"
      }
    },
    {
      "cell_type": "markdown",
      "source": [
        "The next step is to transform the bits $z_i$ into quantum operators. To preserve the mapping to 0 and 1, one can perform the following mapping:\n",
        "\\begin{equation}\n",
        "z_i \\longrightarrow \\frac{1}{2}(\\mathbb{1}_i - Z_i)\n",
        "\\end{equation}\n",
        "where Z_i is the Pauli Z operator acting on qubit $i$. By simply inserting this ansatz into the cost function, we can construct the problem Hamiltonian:\n",
        "\\begin{align}\n",
        "\\hat{H}_P &=  -2V \\sum_{i=1}^{N} w_i \\frac{1}{2}(\\mathbb{1}_i - Z_i) + \\sum_{i<j}^N (2 w_i w_j + d_{ij})\\, \\frac{1}{4}(\\mathbb{1}_i - Z_i) (\\mathbb{1}_i - Z_j) \\\\\n",
        "&= -2V \\sum_{i=1}^{N} w_i \\frac{1}{2}(\\mathbb{1}_i - Z_i) + \\sum_{i<j}^N (2 w_i w_j + d_{ij})\\, \\frac{1}{4}(\\mathbb{1}_i \\mathbb{1}_j - Z_i - Z_j + Z_iZ_j). \n",
        "\\end{align}\n",
        "Since the terms acting with the identity only shift all energy levels irrespective of the states, we can omit them in the formulation. The final Hamiltonian is therefore:\n",
        "\\begin{align}\n",
        "\\hat{H}_P &= \\sum_{i=1}^{N} Vw_i Z_i + \\sum_{i<j} (2 w_i w_j + d_{ij})\\, \\frac{1}{4}( - Z_i - Z_j + Z_iZ_j)\\\\\n",
        "&= \\sum_{i=1}^{N} h_i Z_i + \\sum_{i<j}^N g_{ij} ( - Z_i - Z_j + Z_iZ_j)\\\\\n",
        "&= \\sum_{i=1}^{N} (h_i - \\sum_{j>i} g_{ij} -\\sum_{j<i} g_{ij})\\, Z_i + \\sum_{i<j} g_{ij} Z_iZ_j\\\\\n",
        "&= \\sum_{i=1}^{N} (h_i - \\sum_{j \\not= i} g_{ij}) \\, Z_i + \\sum_{i<j} g_{ij} Z_iZ_j,\n",
        "\\end{align}\n",
        "where we have defined $h_i = Vw_i$ and $g_{ij} = \\frac{1}{4} (2w_i w_j+d_{ij}) "
      ],
      "metadata": {
        "id": "lMeZrSQhQddb"
      }
    },
    {
      "cell_type": "markdown",
      "source": [
        "### Potentially wrong Hamiltonian WARNING"
      ],
      "metadata": {
        "id": "G9JYbEBzQNKq"
      }
    },
    {
      "cell_type": "markdown",
      "source": [
        "The second step is to convert this cost function into a Hamiltonian with $\\hat{Z}$ operators acting on one and two qubits (Ising Hamiltonian). We realize the following mapping:\n",
        "\\begin{equation}\n",
        "z_i \\longrightarrow \\hat{Z_i} \n",
        "\\end{equation}\n",
        "where the quantum operator acts as:\n",
        "\\begin{equation}\n",
        "\\hat{Z_i} |z_i\\rangle = \n",
        "\\begin{cases}\n",
        "-1, & \\text{if } |z_i\\rangle = |1\\rangle \\\\\n",
        "1, & \\text{if } |z_i\\rangle = |0\\rangle.\n",
        "\\end{cases}\n",
        "\\end{equation}\n",
        "\n",
        "The resulting problem Hamiltonian is:\n",
        "\\begin{equation}\n",
        "\\hat{H}_P = -2V \\sum_{i=1}^{N} w_i \\hat{Z_i} + \\sum_{i<j = 1}^N (2 w_i w_j + d_{ij})\\, \\hat{Z_i} \\hat{Z_j}.\n",
        "\\end{equation}\n"
      ],
      "metadata": {
        "id": "IwvcaD1q80YK"
      }
    },
    {
      "cell_type": "markdown",
      "source": [
        "\n",
        "$C(z) = \\sum_{i, j=1}^{N} d_{ij} z_i z_j + \\gamma (V-\\sum_{i=1}^{N} w_i z_i)^2$\n",
        "\n",
        "Further possible optimization terms in the cost function:\n",
        "- Check in the solution whether $\\sum_{i,j} d_{ij} z_i z_j c_f \\leq R_f$\n",
        "- Take into account whether propel space ship with fuel, or use gravity to go from one point to another (distinguish trajectories along orbitals and perpendicular)"
      ],
      "metadata": {
        "id": "rj4R4eJsjYbA"
      }
    },
    {
      "cell_type": "markdown",
      "source": [
        "### Code with Pennylane"
      ],
      "metadata": {
        "id": "p7VGeg3GQVWp"
      }
    },
    {
      "cell_type": "markdown",
      "source": [
        "We start with a dummy data set with 5 debris."
      ],
      "metadata": {
        "id": "Cz7Uv9nhFlgu"
      }
    },
    {
      "cell_type": "code",
      "source": [
        "# Define the graph\n",
        "N_vertices = 5\n",
        "G = nx.Graph()\n",
        "\n",
        "for i in range(0,N_vertices):\n",
        "  for j in range(i+1,N_vertices):\n",
        "    if (j-i)%3 == 1:\n",
        "      G.add_edge(str(i), str(j), weight=1)\n",
        "    else:\n",
        "      G.add_edge(str(i), str(j), weight=2)\n",
        "\n",
        "heavy_edges = [(u, v) for (u, v, d) in G.edges(data=True) if d[\"weight\"] > 1]\n",
        "light_edges = [(u, v) for (u, v, d) in G.edges(data=True) if d[\"weight\"] <= 1]\n",
        "pos = nx.spring_layout(G, seed=11) \n",
        "nx.draw_networkx_nodes(G, pos, node_size=700, node_color=\"r\")\n",
        "nx.draw_networkx_edges(G, pos, edgelist=heavy_edges, width=6)\n",
        "nx.draw_networkx_edges(G, pos, edgelist=light_edges, width=6, edge_color=\"b\", style=\"dashed\")\n",
        "nx.draw_networkx_labels(G, pos, font_size=20, font_family=\"sans-serif\")\n",
        "edge_labels = nx.get_edge_attributes(G, \"weight\")\n",
        "nx.draw_networkx_edge_labels(G, pos, edge_labels)\n",
        "      \n",
        "#nx.draw(G, with_labels=True, alpha=0.8, node_size=300)\n",
        "\n",
        "N_vertices = 3\n",
        "G = nx.Graph()\n",
        "G.add_edge('0', '1', weight = 1)\n",
        "G.add_edge('1', '2', weight = 10)\n",
        "G.add_edge('2', '0', weight = 10)\n"
      ],
      "metadata": {
        "colab": {
          "base_uri": "https://localhost:8080/",
          "height": 248
        },
        "id": "987QfIbfgt6D",
        "outputId": "58c32d84-d971-4483-9a0c-a6ef1e78600c"
      },
      "execution_count": 172,
      "outputs": [
        {
          "output_type": "display_data",
          "data": {
            "text/plain": [
              "<Figure size 432x288 with 1 Axes>"
            ],
            "image/png": "[encoded data removed]"
          },
          "metadata": {}
        }
      ]
    },
    {
      "cell_type": "markdown",
      "source": [
        "We implement the QAOA algorithm on this data set. We choose:\n",
        "- Mixer Hamiltonian: $\\hat{H}_M = \\sum_{i=0}^{N-1} X_i$\n",
        "- Problem Hamiltonin as defined above\n",
        "\n",
        "For an approximate Trotterization with p steps, the evolution yields the following state:\n",
        "\\begin{equation}\n",
        "|\\overrightarrow{\\gamma}, \\overrightarrow{\\beta}\\rangle = e^{i\\beta_p H_M} e^{i\\gamma_p H_P} \\cdots e^{i\\beta_1 H_M} e^{i\\gamma_1 H_P}|+\\rangle^{\\otimes{N}}\n",
        "\\end{equation}\n",
        "where $|+\\rangle^{\\otimes{N}} = \\frac{1}{\\sqrt{2^N}} \\sum_{z\\in \\{0,1\\}^N} |z\\rangle $ is an equal superposition of all bitstrings."
      ],
      "metadata": {
        "id": "QiItM9uZKZoU"
      }
    },
    {
      "cell_type": "code",
      "source": [
        "dev = qml.device(\"default.qubit\", wires=len(G.nodes()), shots= 1024)\n",
        "\n",
        "@qml.qnode(dev)\n",
        "def QAOA_Circuit(G, weights, V, p, angles):\n",
        "  N_vertices = len(G.nodes())\n",
        "  wires = range(N_vertices)\n",
        "  distances = nx.get_edge_attributes(G, \"weight\")\n",
        "\n",
        "  # Initialize the states\n",
        "  for i in range(N_vertices):\n",
        "    qml.Hadamard(wires=wires[i])\n",
        "\n",
        "  # Apply QAOA\n",
        "  gammas = angles[:p]\n",
        "  beta = angles[p:]\n",
        "\n",
        "  problem_coef = []\n",
        "  problem_operators = []\n",
        "\n",
        "  for step in range(0, p):\n",
        "      \n",
        "  # Apply the problem Hamiltonian\n",
        "    \n",
        "    for i in range(0, N_vertices):\n",
        "       coef_single = V*weights[i] - sum([v for k,v in distances.items() if str(i) in k])\n",
        "       qml.RZ(coef_single*gammas[step], wires=wires[i])\n",
        "       if step == 1:\n",
        "         problem_coef += [coef_single]\n",
        "         problem_operators += [qml.PauliZ(wires=wires[i])]\n",
        "\n",
        "       for j in range(i+1, N_vertices):\n",
        "         coef_double = (1/2*weights[i]*weights[j] + 1/4*nx.get_edge_attributes(G, \"weight\")[(str(i), str(j))])\n",
        "         qml.MultiRZ(gammas[step]*coef_double, wires=[wires[i]]+[wires[j]])\n",
        "         if step == 1:\n",
        "           problem_coef += [coef_double]\n",
        "           problem_operators += [qml.PauliZ(wires[i]) @ qml.PauliZ(wires[j])]\n",
        "\n",
        "\n",
        "  # Apply the mixer Hamiltonian\n",
        "    for i in range(0, N_vertices):\n",
        "       qml.RX(beta[step], wires=wires[i])\n",
        "\n",
        "    # Compute the expectation value of the problem Hamiltonian\n",
        "    # problem_H = qml.Hamiltonian(problem_coef, problem_operators)\n",
        "\n",
        "  return qml.expval(qml.Hamiltonian(problem_coef, problem_operators))\n"
      ],
      "metadata": {
        "id": "zc9MhBK3MJqV"
      },
      "execution_count": 154,
      "outputs": []
    },
    {
      "cell_type": "code",
      "source": [
        "@qml.qnode(dev)\n",
        "def QAOA_Circuit_optimized_probas(G, weights, V, p, angles):\n",
        "  N_vertices = len(G.nodes())\n",
        "  wires = range(N_vertices)\n",
        "  distances = nx.get_edge_attributes(G, \"weight\")\n",
        "\n",
        "  # Initialize the states\n",
        "  for i in range(N_vertices):\n",
        "    qml.Hadamard(wires=wires[i])\n",
        "\n",
        "  # Apply QAOA\n",
        "  gammas = angles[:p]\n",
        "  beta = angles[p:]\n",
        "\n",
        "  for step in range(0, p):\n",
        "      \n",
        "  # Apply the problem Hamiltonian\n",
        "    \n",
        "    for i in range(0, N_vertices):\n",
        "       coef_single = V*weights[i] - sum([v for k,v in distances.items() if str(i) in k])\n",
        "       qml.RZ(coef_single*gammas[step], wires=wires[i])\n",
        "\n",
        "       for j in range(i+1, N_vertices):\n",
        "         coef_double = (1/2*weights[i]*weights[j] + 1/4*nx.get_edge_attributes(G, \"weight\")[(str(i), str(j))])\n",
        "         qml.MultiRZ(gammas[step]*coef_double, wires=[wires[i]]+[wires[j]])\n",
        "\n",
        "  # Apply the mixer Hamiltonian\n",
        "    for i in range(0, N_vertices):\n",
        "       qml.RX(beta[step], wires=wires[i])\n",
        "\n",
        "  return qml.probs(wires)"
      ],
      "metadata": {
        "id": "ZKp_UBGi23J6"
      },
      "execution_count": 155,
      "outputs": []
    },
    {
      "cell_type": "code",
      "source": [
        "# Optimize the angles\n",
        "def cost_function(G, weights, V, p, angles):\n",
        "  def optimizable_object(angles):\n",
        "    cost_exp_val = QAOA_Circuit(G, weights, V, p, angles)\n",
        "    return cost_exp_val\n",
        "  return optimizable_object"
      ],
      "metadata": {
        "id": "i3CKY8f0mdV1"
      },
      "execution_count": 156,
      "outputs": []
    },
    {
      "cell_type": "code",
      "source": [
        "# Parameters\n",
        "V = 10\n",
        "# weights = np.array([1,2,7,4,5], requires_grad=False)\n",
        "weights = np.array([5,5,100], requires_grad=False)\n",
        "p=2\n",
        "\n",
        "#angles = np.array(2*p*[np.pi/4], requires_grad=True)\n",
        "angles = np.array(2*p*[1])\n",
        "shots=1024\n",
        "\n",
        "dev = qml.device(\"default.qubit\", wires=len(G.nodes()), shots=shots)"
      ],
      "metadata": {
        "id": "7hZXeG4dOj1w"
      },
      "execution_count": 173,
      "outputs": []
    },
    {
      "cell_type": "code",
      "source": [
        "circuit = QAOA_Circuit(G, weights, V, p, angles)"
      ],
      "metadata": {
        "id": "c2H1BfBmu6Ma"
      },
      "execution_count": 174,
      "outputs": []
    },
    {
      "cell_type": "code",
      "source": [
        "from scipy.optimize import minimize\n",
        "cost = cost_function(G, weights, V, p, angles)\n",
        "optimized_params = minimize(cost, angles, method='COBYLA')\n",
        "optimized_angles = optimized_params.x\n",
        "\n",
        "#optimizer = qml.GradientDescentOptimizer(stepsize=0.8)\n",
        "#cost = cost_function(G, weights, V, p, angles)\n",
        "#for k in range(100):\n",
        "#    if k % 5 == 0:\n",
        "#        print(f\"Step {k}, cost: {cost(angles)}\")\n",
        "#    angles = optimizer.step(cost, angles)\n",
        "#optimized_angles = angles"
      ],
      "metadata": {
        "id": "t-XpCGgc1edP"
      },
      "execution_count": 175,
      "outputs": []
    },
    {
      "cell_type": "code",
      "source": [
        "proba_opt = QAOA_Circuit_optimized_probas(G, weights, V, p, optimized_angles)\n",
        "exp_val_opt = QAOA_Circuit(G, weights, V, p, optimized_angles)\n",
        "#probas_opt = result(0)\n",
        "#exp_val = result(1)\n",
        "print(exp_val_opt)"
      ],
      "metadata": {
        "colab": {
          "base_uri": "https://localhost:8080/"
        },
        "id": "jvZnSGY8BgR8",
        "outputId": "a277e098-05d4-40c0-c2cb-6aee20d453c2"
      },
      "execution_count": 176,
      "outputs": [
        {
          "output_type": "stream",
          "name": "stdout",
          "text": [
            "-925.29443359375\n"
          ]
        }
      ]
    },
    {
      "cell_type": "code",
      "source": [
        "xlabels = [str(bin(i)[2:]) for i in range(len(proba_opt))]\n",
        "for x in range(len(xlabels)):\n",
        "  while len(xlabels[x])<len(xlabels[-1]):\n",
        "    xlabels[x] = '0' + xlabels[x]\n",
        "plt.grid()\n",
        "plt.bar(xlabels, proba_opt)\n",
        "plt.xticks(rotation=90)\n"
      ],
      "metadata": {
        "colab": {
          "base_uri": "https://localhost:8080/",
          "height": 291
        },
        "id": "L7fO-fuXBm5c",
        "outputId": "6e028bde-61ae-43ac-bb11-1f1dd3909f95"
      },
      "execution_count": 177,
      "outputs": [
        {
          "output_type": "execute_result",
          "data": {
            "text/plain": [
              "([0, 1, 2, 3, 4, 5, 6, 7], <a list of 8 Text major ticklabel objects>)"
            ]
          },
          "metadata": {},
          "execution_count": 177
        },
        {
          "output_type": "display_data",
          "data": {
            "text/plain": [
              "<Figure size 432x288 with 1 Axes>"
            ],
            "image/png": "[encoded data removed]"
          },
          "metadata": {
            "needs_background": "light"
          }
        }
      ]
    },
    {
      "cell_type": "code",
      "source": [
        "print(np.max(proba_opt))"
      ],
      "metadata": {
        "colab": {
          "base_uri": "https://localhost:8080/"
        },
        "id": "yYn1_QjXbPaX",
        "outputId": "41f618b2-3bcf-428d-c3a5-fae180e0ddcc"
      },
      "execution_count": 162,
      "outputs": [
        {
          "output_type": "stream",
          "name": "stdout",
          "text": [
            "0.1328125\n"
          ]
        }
      ]
    },
    {
      "cell_type": "markdown",
      "source": [
        "## Classical algorithm"
      ],
      "metadata": {
        "id": "3biD-ZFOZB5U"
      }
    },
    {
      "cell_type": "code",
      "source": [
        "# Brute force\n",
        "def classical_cost_calculator(z, G, weights, V):\n",
        "  weights = np.array(weights)\n",
        "  distances = nx.get_edge_attributes(G, \"weight\")\n",
        "  cost = []\n",
        "  for number in range(len(z)):\n",
        "    z_vector = [int(z[number][-1])]\n",
        "    for i in reversed(range(0,len(weights)-1)):\n",
        "      z_vector = z_vector + [int(z[number][i])]\n",
        "    z_vector = np.array(z_vector, requires_grad=False)\n",
        "\n",
        "    cost_n = (V-np.dot(weights,z_vector))**2 # - np.dot(weights,z_vector)\n",
        "    for i in range(len(G.nodes())):\n",
        "      for j in range(i+1, len(G.nodes())):\n",
        "        cost_n += distances[(str(i), str(j))] * z_vector[i] * z_vector[j]\n",
        "    cost = cost + [cost_n]\n",
        "  return cost\n",
        "\n",
        "def int_to_binary(G):\n",
        "  N = len(G.nodes())\n",
        "  n_list = list(range(2**N))\n",
        "\n",
        "  def binary_filler(z,N):\n",
        "    while len(z)<N:\n",
        "      z = '0'+ z\n",
        "    return z      \n",
        "    \n",
        "  z_list = [binary_filler(bin(n_list[i])[2:], N) for i in range(len(n_list))]\n",
        "  return z_list\n",
        "\n"
      ],
      "metadata": {
        "id": "4ngBq0Z0ZEhO"
      },
      "execution_count": 178,
      "outputs": []
    },
    {
      "cell_type": "markdown",
      "source": [
        "$C(z) = -\\sum w_i z_i + (v-\\sum w_i z_i)^2 + \\sum d_{ij}z_iz_j$"
      ],
      "metadata": {
        "id": "hqrHAoCQ13fE"
      }
    },
    {
      "cell_type": "code",
      "source": [
        "#int_to_binary(G)\n",
        "#weights = [5,5,100]\n",
        "classical_cost = classical_cost_calculator(int_to_binary(G), G, weights, V)\n",
        "xlabels = [str(bin(i)[2:]) for i in range(len(classical_cost))]\n",
        "for x in range(len(xlabels)):\n",
        "  while len(xlabels[x])<len(xlabels[-1]):\n",
        "    xlabels[x] = '0' + xlabels[x]\n",
        "plt.bar(xlabels, classical_cost)\n",
        "plt.xticks(rotation=90)\n"
      ],
      "metadata": {
        "colab": {
          "base_uri": "https://localhost:8080/",
          "height": 291
        },
        "id": "VaOZyX-kdT0T",
        "outputId": "85e4d793-b0d3-47d7-880c-598656091f8a"
      },
      "execution_count": 179,
      "outputs": [
        {
          "output_type": "execute_result",
          "data": {
            "text/plain": [
              "([0, 1, 2, 3, 4, 5, 6, 7], <a list of 8 Text major ticklabel objects>)"
            ]
          },
          "metadata": {},
          "execution_count": 179
        },
        {
          "output_type": "display_data",
          "data": {
            "text/plain": [
              "<Figure size 432x288 with 1 Axes>"
            ],
            "image/png": "[encoded data removed]"
          },
          "metadata": {
            "needs_background": "light"
          }
        }
      ]
    },
    {
      "cell_type": "code",
      "source": [
        "print(np.min(classical_cost))"
      ],
      "metadata": {
        "colab": {
          "base_uri": "https://localhost:8080/"
        },
        "id": "1ISZliobdc2N",
        "outputId": "e41383c8-b6fc-42e2-c2b5-2181f3205470"
      },
      "execution_count": 110,
      "outputs": [
        {
          "output_type": "stream",
          "name": "stdout",
          "text": [
            "-9\n"
          ]
        }
      ]
    },
    {
      "cell_type": "code",
      "source": [
        "classical_cost"
      ],
      "metadata": {
        "colab": {
          "base_uri": "https://localhost:8080/"
        },
        "id": "yl52JAZOeCU1",
        "outputId": "d9b30313-f964-4ab6-afcc-68d920e2d2f6"
      },
      "execution_count": 143,
      "outputs": [
        {
          "output_type": "execute_result",
          "data": {
            "text/plain": [
              "[[100,\n",
              "  81,\n",
              "  64,\n",
              "  50,\n",
              "  9,\n",
              "  6,\n",
              "  2,\n",
              "  4,\n",
              "  36,\n",
              "  27,\n",
              "  18,\n",
              "  14,\n",
              "  2,\n",
              "  9,\n",
              "  13,\n",
              "  25,\n",
              "  25,\n",
              "  17,\n",
              "  11,\n",
              "  8,\n",
              "  6,\n",
              "  14,\n",
              "  21,\n",
              "  34,\n",
              "  2,\n",
              "  4,\n",
              "  6,\n",
              "  13,\n",
              "  40,\n",
              "  58,\n",
              "  73,\n",
              "  96]]"
            ]
          },
          "metadata": {},
          "execution_count": 143
        }
      ]
    },
    {
      "cell_type": "code",
      "source": [
        "bin(6)"
      ],
      "metadata": {
        "colab": {
          "base_uri": "https://localhost:8080/",
          "height": 37
        },
        "id": "cgoBw-pIkiN2",
        "outputId": "e8058a4d-2c83-44ea-ec17-275e83e61e57"
      },
      "execution_count": 125,
      "outputs": [
        {
          "output_type": "execute_result",
          "data": {
            "text/plain": [
              "'0b110'"
            ],
            "application/vnd.google.colaboratory.intrinsic+json": {
              "type": "string"
            }
          },
          "metadata": {},
          "execution_count": 125
        }
      ]
    },
    {
      "cell_type": "code",
      "source": [
        ""
      ],
      "metadata": {
        "id": "KKEpG2iLwPm7"
      },
      "execution_count": null,
      "outputs": []
    }
  ]
}