{
  "nbformat": 4,
  "nbformat_minor": 0,
  "metadata": {
    "colab": {
      "name": "space_debris_collection_QA_Dwave.ipynb",
      "provenance": []
    },
    "kernelspec": {
      "name": "python3",
      "display_name": "Python 3"
    },
    "language_info": {
      "name": "python"
    }
  },
  "cells": [
    {
      "cell_type": "code",
      "execution_count": 117,
      "metadata": {
        "colab": {
          "base_uri": "https://localhost:8080/"
        },
        "id": "iEYhchm4dvze",
        "outputId": "90f67db7-edf5-4af7-ddcb-bf7187df8779"
      },
      "outputs": [
        {
          "output_type": "stream",
          "name": "stdout",
          "text": [
            "Looking in indexes: https://pypi.org/simple, https://us-python.pkg.dev/colab-wheels/public/simple/\n",
            "Requirement already satisfied: pennylane in /usr/local/lib/python3.7/dist-packages (0.24.0)\n",
            "Requirement already satisfied: autoray>=0.3.1 in /usr/local/lib/python3.7/dist-packages (from pennylane) (0.3.2)\n",
            "Requirement already satisfied: networkx in /usr/local/lib/python3.7/dist-packages (from pennylane) (2.6.3)\n",
            "Requirement already satisfied: numpy in /usr/local/lib/python3.7/dist-packages (from pennylane) (1.21.6)\n",
            "Requirement already satisfied: appdirs in /usr/local/lib/python3.7/dist-packages (from pennylane) (1.4.4)\n",
            "Requirement already satisfied: cachetools in /usr/local/lib/python3.7/dist-packages (from pennylane) (4.2.4)\n",
            "Requirement already satisfied: semantic-version==2.6 in /usr/local/lib/python3.7/dist-packages (from pennylane) (2.6.0)\n",
            "Requirement already satisfied: autograd in /usr/local/lib/python3.7/dist-packages (from pennylane) (1.4)\n",
            "Requirement already satisfied: retworkx in /usr/local/lib/python3.7/dist-packages (from pennylane) (0.11.0)\n",
            "Requirement already satisfied: scipy in /usr/local/lib/python3.7/dist-packages (from pennylane) (1.7.3)\n",
            "Requirement already satisfied: pennylane-lightning>=0.24 in /usr/local/lib/python3.7/dist-packages (from pennylane) (0.24.0)\n",
            "Requirement already satisfied: toml in /usr/local/lib/python3.7/dist-packages (from pennylane) (0.10.2)\n",
            "Requirement already satisfied: ninja in /usr/local/lib/python3.7/dist-packages (from pennylane-lightning>=0.24->pennylane) (1.10.2.3)\n",
            "Requirement already satisfied: future>=0.15.2 in /usr/local/lib/python3.7/dist-packages (from autograd->pennylane) (0.16.0)\n",
            "Looking in indexes: https://pypi.org/simple, https://us-python.pkg.dev/colab-wheels/public/simple/\n",
            "Requirement already satisfied: networkx in /usr/local/lib/python3.7/dist-packages (2.6.3)\n"
          ]
        }
      ],
      "source": [
        "import sys\n",
        "!{sys.executable} -m pip install pennylane\n",
        "!{sys.executable} -m pip install networkx"
      ]
    },
    {
      "cell_type": "markdown",
      "source": [
        "# Space debris optimization"
      ],
      "metadata": {
        "id": "wr3gMLPUepdb"
      }
    },
    {
      "cell_type": "markdown",
      "source": [
        "In this work, we solve the combinatorial optimization problem of space debris collection. A challenge for space agencies, satellite producers and any actor involved in space travel is to avoid space debris. In spite of possibly small sizes, their speeds on orbits make any collision with satellite or spacecraft threaten the success of space expeditions with major damage. Therefore, a major concern is to collect these debris and destroy them at the entrance of the atmosphere."
      ],
      "metadata": {
        "id": "FdAx9nEVeytw"
      }
    },
    {
      "cell_type": "markdown",
      "source": [
        "The problem is the following. Debris collection journeys are expensive, since the quantity of fuels used to propel the engins is massive, and the capacity of each space craft limits the amount of space garbage that can be collected. To optimize each trip to space, we must therefore seek debris located at particular locations, such that they minimize the distance and hence the fuel consumption, and they maximize the quantity of trash collected. We solve the latter problem first, and add further constraints to the problem progressively."
      ],
      "metadata": {
        "id": "sMUPN0CCfzsU"
      }
    },
    {
      "cell_type": "markdown",
      "source": [
        "Let us first consider the problem of maximization of the volume of trash that is collected. This task is related to the knapsack problem. \n",
        "\n",
        "We start with a set of N debris. We encode the information about the debris to collect in a bitstring:\n",
        "\\begin{equation}\n",
        "z = z_1 z_2 \\cdots z_N, \\text{where } z_i = \\begin{cases}\n",
        "1, & \\text{if debris i is collected} \\\\\n",
        "0, & \\text{if otherwise.}\n",
        "\\end{cases}\n",
        "\\end{equation}\n",
        "\n",
        "To solve the problem with brute force method, we must inspect all possible bitstrings $z$ and pick the one that maximizes the volume of the debris collected. Therefore, it is a combinatorial optimization problem. To formulate it, we pair each debris $i$ with its weight/size $w_i$. The debris locations can be reported on a graph with edge set $E$ and vertex set $V$ such that $G = \\{E,V\\}$. Each vertex is associated with a weight, and each edge $i -j$ with a distance $d_{ij}$. With these notations, we encode the problem into the cost function:\n",
        "\\begin{equation}\n",
        "C(z) = (V-\\sum_{i=1}^{N} w_i z_i)^2 + \\sum_{i<j}^{N} d_{ij} z_i z_j\n",
        "\\end{equation}\n",
        "where the first term corresponds to the knapsack problem and the second aims at minimizing the travelled distance. To simplify the implementation, the constant term can be removed:\n",
        "\\begin{align}\n",
        "C(z) &=  \\sum_{i=1}^{N} w_i z_i + 2\\sum_{i<j}^N w_i w_j z_i z_j -  2V\\sum_{i=1}^{N} w_i z_i + V^2 + \\sum_{i<j}^{N} d_{ij} z_i z_j \\\\\n",
        " & = \\sum_{i=1}^{N} w_i z_i + 2\\sum_{i<j}^N w_i w_j z_i z_j -  2V\\sum_{i=1}^{N} w_i z_i + \\sum_{i<j}^{N} d_{ij} z_i z_j\n",
        "\\end{align}"
      ],
      "metadata": {
        "id": "vQaudcVog9tn"
      }
    },
    {
      "cell_type": "markdown",
      "source": [
        "\n",
        "$C(z) = \\sum_{i, j=1}^{N} d_{ij} z_i z_j + \\gamma (V-\\sum_{i=1}^{N} w_i z_i)^2$\n",
        "\n",
        "Further possible optimization terms in the cost function:\n",
        "- Check in the solution whether $\\sum_{i,j} d_{ij} z_i z_j c_f \\leq R_f$\n",
        "- Take into account whether propel space ship with fuel, or use gravity to go from one point to another (distinguish trajectories along orbitals and perpendicular)"
      ],
      "metadata": {
        "id": "rj4R4eJsjYbA"
      }
    },
    {
      "cell_type": "code",
      "source": [
        "import networkx as nx\n",
        "import matplotlib.pyplot as plt"
      ],
      "metadata": {
        "id": "v4ezv_G0Grbh"
      },
      "execution_count": 118,
      "outputs": []
    },
    {
      "cell_type": "markdown",
      "source": [
        "We start with a dummy data set with 5 debris."
      ],
      "metadata": {
        "id": "Cz7Uv9nhFlgu"
      }
    },
    {
      "cell_type": "code",
      "source": [
        "N_vertices = 5\n",
        "G = nx.Graph()\n",
        "\n",
        "for i in range(0,N_vertices):\n",
        "  for j in range(i+1,N_vertices):\n",
        "    if (j-i)%3 == 1:\n",
        "      G.add_edge(str(i), str(j), weight=1)\n",
        "    else:\n",
        "      G.add_edge(str(i), str(j), weight=2)\n",
        "\n",
        "heavy_edges = [(u, v) for (u, v, d) in G.edges(data=True) if d[\"weight\"] > 1]\n",
        "light_edges = [(u, v) for (u, v, d) in G.edges(data=True) if d[\"weight\"] <= 1]\n",
        "pos = nx.spring_layout(G, seed=11) \n",
        "nx.draw_networkx_nodes(G, pos, node_size=700, node_color=\"r\")\n",
        "nx.draw_networkx_edges(G, pos, edgelist=heavy_edges, width=6)\n",
        "nx.draw_networkx_edges(G, pos, edgelist=light_edges, width=6, edge_color=\"b\", style=\"dashed\")\n",
        "nx.draw_networkx_labels(G, pos, font_size=20, font_family=\"sans-serif\")\n",
        "edge_labels = nx.get_edge_attributes(G, \"weight\")\n",
        "nx.draw_networkx_edge_labels(G, pos, edge_labels)"
      ],
      "metadata": {
        "id": "987QfIbfgt6D",
        "colab": {
          "base_uri": "https://localhost:8080/",
          "height": 427
        },
        "outputId": "02129067-7847-4e2e-8d0c-374b26094829"
      },
      "execution_count": 119,
      "outputs": [
        {
          "output_type": "execute_result",
          "data": {
            "text/plain": [
              "{('0', '1'): Text(-0.31213490044069825, 0.0229285235823255, '1'),\n",
              " ('0', '2'): Text(0.18180059090333675, -0.7976561108038269, '2'),\n",
              " ('0', '3'): Text(-0.6981592185316541, -0.4262551763130149, '2'),\n",
              " ('0', '4'): Text(0.2340158724740534, -0.207744883060842, '1'),\n",
              " ('1', '2'): Text(0.26598412752594675, 0.16442417717540436, '1'),\n",
              " ('1', '3'): Text(-0.6139756819090442, 0.5358251116662163, '2'),\n",
              " ('1', '4'): Text(0.3181994090966634, 0.7543354049183892, '2'),\n",
              " ('2', '3'): Text(-0.12004019056500914, -0.28475952271993604, '1'),\n",
              " ('2', '4'): Text(0.8121349004406984, -0.06624922946776313, '2'),\n",
              " ('3', '4'): Text(-0.0678249089942925, 0.30515170502304884, '1')}"
            ]
          },
          "metadata": {},
          "execution_count": 119
        },
        {
          "output_type": "display_data",
          "data": {
            "text/plain": [
              "<Figure size 432x288 with 1 Axes>"
            ],
            "image/png": "[encoded data removed]"
          },
          "metadata": {}
        }
      ]
    },
    {
      "cell_type": "code",
      "source": [
        "!pip install dwave-ocean-sdk"
      ],
      "metadata": {
        "colab": {
          "base_uri": "https://localhost:8080/"
        },
        "id": "_zjw_nquuQYx",
        "outputId": "40039bad-3ab6-4931-b9c8-8c3e60db11a6"
      },
      "execution_count": 120,
      "outputs": [
        {
          "output_type": "stream",
          "name": "stdout",
          "text": [
            "Looking in indexes: https://pypi.org/simple, https://us-python.pkg.dev/colab-wheels/public/simple/\n",
            "Requirement already satisfied: dwave-ocean-sdk in /usr/local/lib/python3.7/dist-packages (5.3.0)\n",
            "Requirement already satisfied: dimod==0.11.3 in /usr/local/lib/python3.7/dist-packages (from dwave-ocean-sdk) (0.11.3)\n",
            "Requirement already satisfied: dwave-system==1.15.0 in /usr/local/lib/python3.7/dist-packages (from dwave-ocean-sdk) (1.15.0)\n",
            "Requirement already satisfied: dwave-tabu==0.4.5 in /usr/local/lib/python3.7/dist-packages (from dwave-ocean-sdk) (0.4.5)\n",
            "Requirement already satisfied: dwave-cloud-client==0.10.1 in /usr/local/lib/python3.7/dist-packages (from dwave-ocean-sdk) (0.10.1)\n",
            "Requirement already satisfied: penaltymodel==1.0.2 in /usr/local/lib/python3.7/dist-packages (from dwave-ocean-sdk) (1.0.2)\n",
            "Requirement already satisfied: dwave-inspector==0.3.0 in /usr/local/lib/python3.7/dist-packages (from dwave-ocean-sdk) (0.3.0)\n",
            "Requirement already satisfied: dwave-networkx==0.8.12 in /usr/local/lib/python3.7/dist-packages (from dwave-ocean-sdk) (0.8.12)\n",
            "Requirement already satisfied: dwave-greedy==0.2.5 in /usr/local/lib/python3.7/dist-packages (from dwave-ocean-sdk) (0.2.5)\n",
            "Requirement already satisfied: dwavebinarycsp==0.2.0 in /usr/local/lib/python3.7/dist-packages (from dwave-ocean-sdk) (0.2.0)\n",
            "Requirement already satisfied: dwave-neal==0.5.9 in /usr/local/lib/python3.7/dist-packages (from dwave-ocean-sdk) (0.5.9)\n",
            "Requirement already satisfied: dwave-preprocessing==0.4.0 in /usr/local/lib/python3.7/dist-packages (from dwave-ocean-sdk) (0.4.0)\n",
            "Requirement already satisfied: minorminer==0.2.9 in /usr/local/lib/python3.7/dist-packages (from dwave-ocean-sdk) (0.2.9)\n",
            "Requirement already satisfied: dwave-hybrid==0.6.8 in /usr/local/lib/python3.7/dist-packages (from dwave-ocean-sdk) (0.6.8)\n",
            "Requirement already satisfied: numpy<2.0.0,>=1.17.3 in /usr/local/lib/python3.7/dist-packages (from dimod==0.11.3->dwave-ocean-sdk) (1.21.6)\n",
            "Requirement already satisfied: plucky>=0.4.3 in /usr/local/lib/python3.7/dist-packages (from dwave-cloud-client==0.10.1->dwave-ocean-sdk) (0.4.3)\n",
            "Requirement already satisfied: diskcache>=5.2.1 in /usr/local/lib/python3.7/dist-packages (from dwave-cloud-client==0.10.1->dwave-ocean-sdk) (5.4.0)\n",
            "Requirement already satisfied: click>=7.0 in /usr/local/lib/python3.7/dist-packages (from dwave-cloud-client==0.10.1->dwave-ocean-sdk) (7.1.2)\n",
            "Requirement already satisfied: requests[socks]>=2.18 in /usr/local/lib/python3.7/dist-packages (from dwave-cloud-client==0.10.1->dwave-ocean-sdk) (2.23.0)\n",
            "Requirement already satisfied: pydantic>=1.7.3 in /usr/local/lib/python3.7/dist-packages (from dwave-cloud-client==0.10.1->dwave-ocean-sdk) (1.9.1)\n",
            "Requirement already satisfied: python-dateutil>=2.7 in /usr/local/lib/python3.7/dist-packages (from dwave-cloud-client==0.10.1->dwave-ocean-sdk) (2.8.2)\n",
            "Requirement already satisfied: homebase>=1.0 in /usr/local/lib/python3.7/dist-packages (from dwave-cloud-client==0.10.1->dwave-ocean-sdk) (1.0.1)\n",
            "Requirement already satisfied: importlib-metadata>=1.0 in /usr/local/lib/python3.7/dist-packages (from dwave-greedy==0.2.5->dwave-ocean-sdk) (4.12.0)\n",
            "Requirement already satisfied: networkx in /usr/local/lib/python3.7/dist-packages (from dwave-hybrid==0.6.8->dwave-ocean-sdk) (2.6.3)\n",
            "Requirement already satisfied: Flask>=1.1.1 in /usr/local/lib/python3.7/dist-packages (from dwave-inspector==0.3.0->dwave-ocean-sdk) (1.1.4)\n",
            "Requirement already satisfied: importlib-resources>=3.2.0 in /usr/local/lib/python3.7/dist-packages (from dwave-inspector==0.3.0->dwave-ocean-sdk) (5.8.0)\n",
            "Requirement already satisfied: fasteners in /usr/local/lib/python3.7/dist-packages (from minorminer==0.2.9->dwave-ocean-sdk) (0.17.3)\n",
            "Requirement already satisfied: rectangle-packer>=2.0.1 in /usr/local/lib/python3.7/dist-packages (from minorminer==0.2.9->dwave-ocean-sdk) (2.0.1)\n",
            "Requirement already satisfied: scipy in /usr/local/lib/python3.7/dist-packages (from minorminer==0.2.9->dwave-ocean-sdk) (1.7.3)\n",
            "Requirement already satisfied: Werkzeug<2.0,>=0.15 in /usr/local/lib/python3.7/dist-packages (from Flask>=1.1.1->dwave-inspector==0.3.0->dwave-ocean-sdk) (1.0.1)\n",
            "Requirement already satisfied: itsdangerous<2.0,>=0.24 in /usr/local/lib/python3.7/dist-packages (from Flask>=1.1.1->dwave-inspector==0.3.0->dwave-ocean-sdk) (1.1.0)\n",
            "Requirement already satisfied: Jinja2<3.0,>=2.10.1 in /usr/local/lib/python3.7/dist-packages (from Flask>=1.1.1->dwave-inspector==0.3.0->dwave-ocean-sdk) (2.11.3)\n",
            "Requirement already satisfied: zipp>=0.5 in /usr/local/lib/python3.7/dist-packages (from importlib-metadata>=1.0->dwave-greedy==0.2.5->dwave-ocean-sdk) (3.8.1)\n",
            "Requirement already satisfied: typing-extensions>=3.6.4 in /usr/local/lib/python3.7/dist-packages (from importlib-metadata>=1.0->dwave-greedy==0.2.5->dwave-ocean-sdk) (4.1.1)\n",
            "Requirement already satisfied: MarkupSafe>=0.23 in /usr/local/lib/python3.7/dist-packages (from Jinja2<3.0,>=2.10.1->Flask>=1.1.1->dwave-inspector==0.3.0->dwave-ocean-sdk) (2.0.1)\n",
            "Requirement already satisfied: six>=1.5 in /usr/local/lib/python3.7/dist-packages (from python-dateutil>=2.7->dwave-cloud-client==0.10.1->dwave-ocean-sdk) (1.15.0)\n",
            "Requirement already satisfied: urllib3!=1.25.0,!=1.25.1,<1.26,>=1.21.1 in /usr/local/lib/python3.7/dist-packages (from requests[socks]>=2.18->dwave-cloud-client==0.10.1->dwave-ocean-sdk) (1.24.3)\n",
            "Requirement already satisfied: certifi>=2017.4.17 in /usr/local/lib/python3.7/dist-packages (from requests[socks]>=2.18->dwave-cloud-client==0.10.1->dwave-ocean-sdk) (2022.6.15)\n",
            "Requirement already satisfied: chardet<4,>=3.0.2 in /usr/local/lib/python3.7/dist-packages (from requests[socks]>=2.18->dwave-cloud-client==0.10.1->dwave-ocean-sdk) (3.0.4)\n",
            "Requirement already satisfied: idna<3,>=2.5 in /usr/local/lib/python3.7/dist-packages (from requests[socks]>=2.18->dwave-cloud-client==0.10.1->dwave-ocean-sdk) (2.10)\n",
            "Requirement already satisfied: PySocks!=1.5.7,>=1.5.6 in /usr/local/lib/python3.7/dist-packages (from requests[socks]>=2.18->dwave-cloud-client==0.10.1->dwave-ocean-sdk) (1.7.1)\n"
          ]
        }
      ]
    },
    {
      "cell_type": "code",
      "source": [
        "\n",
        "from dwave.system.samplers import DWaveSampler\n",
        "from dwave.system.composites import EmbeddingComposite\n",
        "import numpy as np"
      ],
      "metadata": {
        "id": "U9UX8YnHg4DJ"
      },
      "execution_count": 121,
      "outputs": []
    },
    {
      "cell_type": "code",
      "source": [
        "from collections import defaultdict"
      ],
      "metadata": {
        "id": "D4bYyUHD92e0"
      },
      "execution_count": 122,
      "outputs": []
    },
    {
      "cell_type": "code",
      "source": [
        "Q = defaultdict(int)"
      ],
      "metadata": {
        "id": "rH9taLW50UtQ"
      },
      "execution_count": 123,
      "outputs": []
    },
    {
      "cell_type": "code",
      "source": [
        "w = [1,2,7,4,5]"
      ],
      "metadata": {
        "id": "6Vk1R4N0Do1s"
      },
      "execution_count": 124,
      "outputs": []
    },
    {
      "cell_type": "code",
      "source": [
        "# Constraint Knapsack enncoded\n",
        "for i in range(len(w)):\n",
        "  for j in range(i+1,len(w)):\n",
        "    # print(i,j)\n",
        "    # print()\n",
        "    # print(2*w[i]*w[j])\n",
        "    Q[(i,j)] = 2*w[i]*w[j]\n",
        "      \n",
        "    "
      ],
      "metadata": {
        "id": "eolHbTxjEHMf"
      },
      "execution_count": 125,
      "outputs": []
    },
    {
      "cell_type": "code",
      "source": [
        "Q"
      ],
      "metadata": {
        "colab": {
          "base_uri": "https://localhost:8080/"
        },
        "id": "YDO2DtLIHfz-",
        "outputId": "dacd6dd7-8e23-491b-acd3-b63e2a32ddd5"
      },
      "execution_count": 126,
      "outputs": [
        {
          "output_type": "execute_result",
          "data": {
            "text/plain": [
              "defaultdict(int,\n",
              "            {(0, 1): 4,\n",
              "             (0, 2): 14,\n",
              "             (0, 3): 8,\n",
              "             (0, 4): 10,\n",
              "             (1, 2): 28,\n",
              "             (1, 3): 16,\n",
              "             (1, 4): 20,\n",
              "             (2, 3): 56,\n",
              "             (2, 4): 70,\n",
              "             (3, 4): 40})"
            ]
          },
          "metadata": {},
          "execution_count": 126
        }
      ]
    },
    {
      "cell_type": "code",
      "source": [
        "for i in range(len(w)):\n",
        "  # print(i,i)\n",
        "  Q[(i,i)] = -19*w[i]+w[i]"
      ],
      "metadata": {
        "id": "ISBmL_SAOmmQ"
      },
      "execution_count": 127,
      "outputs": []
    },
    {
      "cell_type": "code",
      "source": [
        "Q"
      ],
      "metadata": {
        "colab": {
          "base_uri": "https://localhost:8080/"
        },
        "id": "e1IQe3nzPwa8",
        "outputId": "de330812-e036-481b-d78d-db1507a79c72"
      },
      "execution_count": 128,
      "outputs": [
        {
          "output_type": "execute_result",
          "data": {
            "text/plain": [
              "defaultdict(int,\n",
              "            {(0, 0): -18,\n",
              "             (0, 1): 4,\n",
              "             (0, 2): 14,\n",
              "             (0, 3): 8,\n",
              "             (0, 4): 10,\n",
              "             (1, 1): -36,\n",
              "             (1, 2): 28,\n",
              "             (1, 3): 16,\n",
              "             (1, 4): 20,\n",
              "             (2, 2): -126,\n",
              "             (2, 3): 56,\n",
              "             (2, 4): 70,\n",
              "             (3, 3): -72,\n",
              "             (3, 4): 40,\n",
              "             (4, 4): -90})"
            ]
          },
          "metadata": {},
          "execution_count": 128
        }
      ]
    },
    {
      "cell_type": "code",
      "source": [
        "distances = nx.get_edge_attributes(G, \"weight\")"
      ],
      "metadata": {
        "id": "Ue3pREmUhSry"
      },
      "execution_count": 129,
      "outputs": []
    },
    {
      "cell_type": "code",
      "source": [
        "#Objective TSP encoded\n",
        "for i in range(len(w)):\n",
        "  for j in range(i+1,len(w)):\n",
        "    # print(i,j)\n",
        "    # print(distances[(str(i),str(j))])\n",
        "    # print()\n",
        "    Q[(i,j)] += distances[(str(i),str(j))]"
      ],
      "metadata": {
        "id": "TRpjNAJOR6b2"
      },
      "execution_count": 130,
      "outputs": []
    },
    {
      "cell_type": "code",
      "source": [
        "Q"
      ],
      "metadata": {
        "colab": {
          "base_uri": "https://localhost:8080/"
        },
        "id": "etHe5AhTgorW",
        "outputId": "9be79d07-9824-4557-8d4f-43713aa1e6e3"
      },
      "execution_count": 131,
      "outputs": [
        {
          "output_type": "execute_result",
          "data": {
            "text/plain": [
              "defaultdict(int,\n",
              "            {(0, 0): -18,\n",
              "             (0, 1): 5,\n",
              "             (0, 2): 16,\n",
              "             (0, 3): 10,\n",
              "             (0, 4): 11,\n",
              "             (1, 1): -36,\n",
              "             (1, 2): 29,\n",
              "             (1, 3): 18,\n",
              "             (1, 4): 22,\n",
              "             (2, 2): -126,\n",
              "             (2, 3): 57,\n",
              "             (2, 4): 72,\n",
              "             (3, 3): -72,\n",
              "             (3, 4): 41,\n",
              "             (4, 4): -90})"
            ]
          },
          "metadata": {},
          "execution_count": 131
        }
      ]
    },
    {
      "cell_type": "code",
      "source": [
        "sampler = DWaveSampler(token = '##############')\n",
        "sampler = EmbeddingComposite(sampler)"
      ],
      "metadata": {
        "id": "C_f4fG7Yjsgt"
      },
      "execution_count": 132,
      "outputs": []
    },
    {
      "cell_type": "code",
      "source": [
        "response = sampler.sample_qubo(Q, num_reads = 1000)"
      ],
      "metadata": {
        "id": "NTtKZYCfhvdX"
      },
      "execution_count": 133,
      "outputs": []
    },
    {
      "cell_type": "code",
      "source": [
        "response"
      ],
      "metadata": {
        "colab": {
          "base_uri": "https://localhost:8080/"
        },
        "id": "HtyEp8vOiX9f",
        "outputId": "1e97780a-7ca5-490f-b6c8-2a3eea9a4ab5"
      },
      "execution_count": 134,
      "outputs": [
        {
          "output_type": "execute_result",
          "data": {
            "text/plain": [
              "SampleSet(rec.array([([0, 0, 1, 0, 1], -144., 395, 0. ),\n",
              "           ([0, 0, 1, 1, 0], -141., 294, 0. ),\n",
              "           ([1, 0, 1, 0, 1], -135.,  74, 0. ),\n",
              "           ([0, 1, 1, 0, 0], -133.,  71, 0. ),\n",
              "           ([1, 0, 1, 1, 0], -133.,  34, 0. ),\n",
              "           ([0, 1, 1, 1, 0], -130.,  29, 0. ),\n",
              "           ([1, 1, 1, 0, 0], -130.,  26, 0. ),\n",
              "           ([0, 1, 1, 0, 1], -129.,  25, 0. ),\n",
              "           ([1, 0, 1, 0, 0], -128.,  13, 0. ),\n",
              "           ([0, 0, 1, 0, 0], -126.,  15, 0. ),\n",
              "           ([0, 0, 0, 1, 1], -121.,   7, 0. ),\n",
              "           ([0, 0, 1, 1, 1], -118.,   1, 0. ),\n",
              "           ([1, 0, 0, 1, 1], -118.,   4, 0. ),\n",
              "           ([1, 1, 1, 1, 0], -117.,   3, 0. ),\n",
              "           ([0, 1, 0, 1, 1], -117.,   4, 0. ),\n",
              "           ([1, 1, 1, 0, 1], -115.,   1, 0. ),\n",
              "           ([1, 1, 0, 1, 1], -109.,   2, 0. ),\n",
              "           ([1, 1, 1, 1, 0], -117.,   2, 0.2)],\n",
              "          dtype=[('sample', 'i1', (5,)), ('energy', '<f8'), ('num_occurrences', '<i8'), ('chain_break_fraction', '<f8')]), Variables([0, 1, 2, 3, 4]), {'timing': {'qpu_sampling_time': 110440.0, 'qpu_anneal_time_per_sample': 20.0, 'qpu_readout_time_per_sample': 69.9, 'qpu_access_time': 125501.56, 'qpu_access_overhead_time': 3683.44, 'qpu_programming_time': 15061.56, 'qpu_delay_time_per_sample': 20.54, 'total_post_processing_time': 721.0, 'post_processing_overhead_time': 721.0}, 'problem_id': '30b0397f-9a02-47a6-8e26-0d35bf187ec5'}, 'BINARY')"
            ]
          },
          "metadata": {},
          "execution_count": 134
        }
      ]
    },
    {
      "cell_type": "markdown",
      "source": [
        "As you can see the best solution we have got is [0,0,1,0,1] where 1 denotes w2 and w4 i.e 7 and 5 which is a total 11 which shows it has maximized the weights of debris usually we should have got results less than 10 which was our max weight but we have all constant terms from cost function that's why didn't got our desired total weight less than 10. After post processing we can easily find the optimum solution by going through the rest of the probabilities which satisfy the constraint."
      ],
      "metadata": {
        "id": "CVXyNECPwgjE"
      }
    },
    {
      "cell_type": "code",
      "source": [
        ""
      ],
      "metadata": {
        "id": "jdHr9BDsialo"
      },
      "execution_count": 134,
      "outputs": []
    }
  ]
}