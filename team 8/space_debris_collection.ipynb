{
  "nbformat": 4,
  "nbformat_minor": 0,
  "metadata": {
    "colab": {
      "name": "space_debris_collection.ipynb",
      "provenance": []
    },
    "kernelspec": {
      "name": "python3",
      "display_name": "Python 3"
    },
    "language_info": {
      "name": "python"
    }
  },
  "cells": [
    {
      "cell_type": "code",
      "execution_count": 4,
      "metadata": {
        "colab": {
          "base_uri": "https://localhost:8080/"
        },
        "id": "iEYhchm4dvze",
        "outputId": "0647ac5d-3647-4be3-e094-0b88c3a6a1bd"
      },
      "outputs": [
        {
          "output_type": "stream",
          "name": "stdout",
          "text": [
            "Looking in indexes: https://pypi.org/simple, https://us-python.pkg.dev/colab-wheels/public/simple/\n",
            "Collecting pennylane\n",
            "  Downloading PennyLane-0.24.0-py3-none-any.whl (957 kB)\n",
            "\u001b[K     |████████████████████████████████| 957 kB 6.7 MB/s \n",
            "\u001b[?25hCollecting pennylane-lightning>=0.24\n",
            "  Downloading PennyLane_Lightning-0.24.0-cp37-cp37m-manylinux_2_17_x86_64.manylinux2014_x86_64.whl (9.3 MB)\n",
            "\u001b[K     |████████████████████████████████| 9.3 MB 27.1 MB/s \n",
            "\u001b[?25hRequirement already satisfied: appdirs in /usr/local/lib/python3.7/dist-packages (from pennylane) (1.4.4)\n",
            "Collecting semantic-version==2.6\n",
            "  Downloading semantic_version-2.6.0-py3-none-any.whl (14 kB)\n",
            "Requirement already satisfied: cachetools in /usr/local/lib/python3.7/dist-packages (from pennylane) (4.2.4)\n",
            "Collecting retworkx\n",
            "  Downloading retworkx-0.11.0-cp37-cp37m-manylinux_2_5_x86_64.manylinux1_x86_64.manylinux_2_12_x86_64.manylinux2010_x86_64.whl (1.6 MB)\n",
            "\u001b[K     |████████████████████████████████| 1.6 MB 47.5 MB/s \n",
            "\u001b[?25hRequirement already satisfied: autograd in /usr/local/lib/python3.7/dist-packages (from pennylane) (1.4)\n",
            "Requirement already satisfied: numpy in /usr/local/lib/python3.7/dist-packages (from pennylane) (1.21.6)\n",
            "Collecting toml\n",
            "  Downloading toml-0.10.2-py2.py3-none-any.whl (16 kB)\n",
            "Collecting autoray>=0.3.1\n",
            "  Downloading autoray-0.3.2-py3-none-any.whl (36 kB)\n",
            "Requirement already satisfied: networkx in /usr/local/lib/python3.7/dist-packages (from pennylane) (2.6.3)\n",
            "Requirement already satisfied: scipy in /usr/local/lib/python3.7/dist-packages (from pennylane) (1.7.3)\n",
            "Collecting ninja\n",
            "  Downloading ninja-1.10.2.3-py2.py3-none-manylinux_2_5_x86_64.manylinux1_x86_64.whl (108 kB)\n",
            "\u001b[K     |████████████████████████████████| 108 kB 48.6 MB/s \n",
            "\u001b[?25hRequirement already satisfied: future>=0.15.2 in /usr/local/lib/python3.7/dist-packages (from autograd->pennylane) (0.16.0)\n",
            "Installing collected packages: ninja, toml, semantic-version, retworkx, pennylane-lightning, autoray, pennylane\n",
            "Successfully installed autoray-0.3.2 ninja-1.10.2.3 pennylane-0.24.0 pennylane-lightning-0.24.0 retworkx-0.11.0 semantic-version-2.6.0 toml-0.10.2\n",
            "Looking in indexes: https://pypi.org/simple, https://us-python.pkg.dev/colab-wheels/public/simple/\n",
            "Requirement already satisfied: networkx in /usr/local/lib/python3.7/dist-packages (2.6.3)\n"
          ]
        }
      ],
      "source": [
        "import sys\n",
        "!{sys.executable} -m pip install pennylane\n",
        "!{sys.executable} -m pip install networkx"
      ]
    },
    {
      "cell_type": "code",
      "source": [
        "import networkx as nx\n",
        "import pennylane as qml\n",
        "from pennylane import numpy as np \n",
        "import matplotlib.pyplot as plt"
      ],
      "metadata": {
        "id": "vTd6PsprHhIm"
      },
      "execution_count": 5,
      "outputs": []
    },
    {
      "cell_type": "markdown",
      "source": [
        "# Space debris optimization"
      ],
      "metadata": {
        "id": "wr3gMLPUepdb"
      }
    },
    {
      "cell_type": "markdown",
      "source": [
        "In this work, we solve the combinatorial optimization problem of space debris collection. A challenge for space agencies, satellite producers and any actor involved in space travel is to avoid space debris. In spite of possibly small sizes, their speeds on orbits make any collision with satellite or spacecraft threaten the success of space expeditions with major damage. Therefore, a major concern is to collect these debris and destroy them at the entrance of the atmosphere."
      ],
      "metadata": {
        "id": "FdAx9nEVeytw"
      }
    },
    {
      "cell_type": "markdown",
      "source": [
        "The problem is the following. Debris collection journeys are expensive, since the quantity of fuels used to propel the engins is massive, and the capacity of each space craft limits the amount of space garbage that can be collected. To optimize each trip to space, we must therefore seek debris located at particular locations, such that they minimize the distance and hence the fuel consumption, and they maximize the quantity of trash collected. We solve the latter problem first, and add further constraints to the problem progressively."
      ],
      "metadata": {
        "id": "sMUPN0CCfzsU"
      }
    },
    {
      "cell_type": "markdown",
      "source": [
        "### Formulation of the cost function "
      ],
      "metadata": {
        "id": "wKXwHlEhP2_-"
      }
    },
    {
      "cell_type": "markdown",
      "source": [
        "Let us first consider the problem of maximization of the volume of trash that is collected. This task is related to the knapsack problem. \n",
        "\n",
        "We start with a set of N debris. We encode the information about the debris to collect in a bitstring:\n",
        "\\begin{equation}\n",
        "z = z_1 z_2 \\cdots z_N, \\text{where } z_i = \\begin{cases}\n",
        "1, & \\text{if debris i is collected} \\\\\n",
        "0, & \\text{if otherwise.}\n",
        "\\end{cases}\n",
        "\\end{equation}\n",
        "\n",
        "To solve the problem with brute force method, we must inspect all possible bitstrings $z$ and pick the one that maximizes the volume of the debris collected. Therefore, it is a combinatorial optimization problem. To formulate it, we pair each debris $i$ with its weight/size $w_i$. The debris locations can be reported on a graph with edge set $E$ and vertex set $V$ such that $G = \\{E,V\\}$. Each vertex is associated with a weight, and each edge $i -j$ with a distance $d_{ij}$. With these notations, we encode the problem into the cost function:\n",
        "\\begin{equation}\n",
        "C(z) = (V-\\sum_{i=1}^{N} w_i z_i)^2 + \\sum_{i, j=1}^{N} d_{ij} z_i z_j\n",
        "\\end{equation}\n",
        "where the first term corresponds to the knapsack problem and the second aims at minimizing the travelled distance. To simplify the implementation, the constant term can be removed:\n",
        "\\begin{align}\n",
        "C(z) &=  (-2V\\sum_{i=1}^{N} w_i z_i + 2\\sum_{i<j = 1}^N w_i w_j z_i z_j) + \\sum_{i<j=1}^{N} d_{ij} z_i z_j \\\\\n",
        " & = -2V \\sum_{i=1}^{N} w_i z_i + \\sum_{i<j = 1}^N (2 w_i w_j + d_{ij})\\, z_i z_j\n",
        "\\end{align}"
      ],
      "metadata": {
        "id": "vQaudcVog9tn"
      }
    },
    {
      "cell_type": "markdown",
      "source": [
        "### Mapping to a Hamiltonian"
      ],
      "metadata": {
        "id": "1rMYjbViP8R0"
      }
    },
    {
      "cell_type": "markdown",
      "source": [
        "The next step is to transform the bits $z_i$ into quantum operators. To preserve the mapping to 0 and 1, one can perform the following mapping:\n",
        "\\begin{equation}\n",
        "z_i \\longrightarrow \\frac{1}{2}(\\mathbb{1}_i - Z_i)\n",
        "\\end{equation}\n",
        "where Z_i is the Pauli Z operator acting on qubit $i$. By simply inserting this ansatz into the cost function, we can construct the problem Hamiltonian:\n",
        "\\begin{align}\n",
        "\\hat{H}_P &=  -2V \\sum_{i=1}^{N} w_i \\frac{1}{2}(\\mathbb{1}_i - Z_i) + \\sum_{i<j}^N (2 w_i w_j + d_{ij})\\, \\frac{1}{4}(\\mathbb{1}_i - Z_i) (\\mathbb{1}_i - Z_j) \\\\\n",
        "&= -2V \\sum_{i=1}^{N} w_i \\frac{1}{2}(\\mathbb{1}_i - Z_i) + \\sum_{i<j}^N (2 w_i w_j + d_{ij})\\, \\frac{1}{4}(\\mathbb{1}_i \\mathbb{1}_j - Z_i - Z_j + Z_iZ_j). \n",
        "\\end{align}\n",
        "Since the terms acting with the identity only shift all energy levels irrespective of the states, we can omit them in the formulation. The final Hamiltonian is therefore:\n",
        "\\begin{align}\n",
        "\\hat{H}_P &= \\sum_{i=1}^{N} Vw_i Z_i + \\sum_{i<j} (2 w_i w_j + d_{ij})\\, \\frac{1}{4}( - Z_i - Z_j + Z_iZ_j)\\\\\n",
        "&= \\sum_{i=1}^{N} h_i Z_i + \\sum_{i<j}^N g_{ij} ( - Z_i - Z_j + Z_iZ_j)\\\\\n",
        "&= \\sum_{i=1}^{N} (h_i - \\sum_{j>i} g_{ij} -\\sum_{j<i} g_{ij})\\, Z_i + \\sum_{i<j} g_{ij} Z_iZ_j\\\\\n",
        "&= \\sum_{i=1}^{N} (h_i - \\sum_{j \\not= i} g_{ij}) \\, Z_i + \\sum_{i<j} g_{ij} Z_iZ_j,\n",
        "\\end{align}\n",
        "where we have defined $h_i = Vw_i$ and $g_{ij} = \\frac{1}{4} (2w_i w_j+d_{ij}) "
      ],
      "metadata": {
        "id": "lMeZrSQhQddb"
      }
    },
    {
      "cell_type": "markdown",
      "source": [
        "### Potentially wrong Hamiltonian WARNING"
      ],
      "metadata": {
        "id": "G9JYbEBzQNKq"
      }
    },
    {
      "cell_type": "markdown",
      "source": [
        "The second step is to convert this cost function into a Hamiltonian with $\\hat{Z}$ operators acting on one and two qubits (Ising Hamiltonian). We realize the following mapping:\n",
        "\\begin{equation}\n",
        "z_i \\longrightarrow \\hat{Z_i} \n",
        "\\end{equation}\n",
        "where the quantum operator acts as:\n",
        "\\begin{equation}\n",
        "\\hat{Z_i} |z_i\\rangle = \n",
        "\\begin{cases}\n",
        "-1, & \\text{if } |z_i\\rangle = |1\\rangle \\\\\n",
        "1, & \\text{if } |z_i\\rangle = |0\\rangle.\n",
        "\\end{cases}\n",
        "\\end{equation}\n",
        "\n",
        "The resulting problem Hamiltonian is:\n",
        "\\begin{equation}\n",
        "\\hat{H}_P = -2V \\sum_{i=1}^{N} w_i \\hat{Z_i} + \\sum_{i<j = 1}^N (2 w_i w_j + d_{ij})\\, \\hat{Z_i} \\hat{Z_j}.\n",
        "\\end{equation}\n"
      ],
      "metadata": {
        "id": "IwvcaD1q80YK"
      }
    },
    {
      "cell_type": "markdown",
      "source": [
        "\n",
        "$C(z) = \\sum_{i, j=1}^{N} d_{ij} z_i z_j + \\gamma (V-\\sum_{i=1}^{N} w_i z_i)^2$\n",
        "\n",
        "Further possible optimization terms in the cost function:\n",
        "- Check in the solution whether $\\sum_{i,j} d_{ij} z_i z_j c_f \\leq R_f$\n",
        "- Take into account whether propel space ship with fuel, or use gravity to go from one point to another (distinguish trajectories along orbitals and perpendicular)"
      ],
      "metadata": {
        "id": "rj4R4eJsjYbA"
      }
    },
    {
      "cell_type": "markdown",
      "source": [
        "### Code with Pennylane"
      ],
      "metadata": {
        "id": "p7VGeg3GQVWp"
      }
    },
    {
      "cell_type": "markdown",
      "source": [
        "We start with a dummy data set with 5 debris."
      ],
      "metadata": {
        "id": "Cz7Uv9nhFlgu"
      }
    },
    {
      "cell_type": "code",
      "source": [
        "# Define the graph\n",
        "N_vertices = 5\n",
        "G = nx.Graph()\n",
        "\n",
        "for i in range(0,N_vertices):\n",
        "  for j in range(i+1,N_vertices):\n",
        "    if (j-i)%3 == 1:\n",
        "      G.add_edge(str(i), str(j), weight=1)\n",
        "    else:\n",
        "      G.add_edge(str(i), str(j), weight=2)\n",
        "\n",
        "heavy_edges = [(u, v) for (u, v, d) in G.edges(data=True) if d[\"weight\"] > 1]\n",
        "light_edges = [(u, v) for (u, v, d) in G.edges(data=True) if d[\"weight\"] <= 1]\n",
        "pos = nx.spring_layout(G, seed=11) \n",
        "nx.draw_networkx_nodes(G, pos, node_size=700, node_color=\"r\")\n",
        "nx.draw_networkx_edges(G, pos, edgelist=heavy_edges, width=6)\n",
        "nx.draw_networkx_edges(G, pos, edgelist=light_edges, width=6, edge_color=\"b\", style=\"dashed\")\n",
        "nx.draw_networkx_labels(G, pos, font_size=20, font_family=\"sans-serif\")\n",
        "edge_labels = nx.get_edge_attributes(G, \"weight\")\n",
        "nx.draw_networkx_edge_labels(G, pos, edge_labels)\n",
        "      \n",
        "#nx.draw(G, with_labels=True, alpha=0.8, node_size=300)\n",
        "\n"
      ],
      "metadata": {
        "colab": {
          "base_uri": "https://localhost:8080/",
          "height": 418
        },
        "id": "987QfIbfgt6D",
        "outputId": "329c4481-f867-409f-dc81-467fc2ec0d07"
      },
      "execution_count": 6,
      "outputs": [
        {
          "output_type": "execute_result",
          "data": {
            "text/plain": [
              "{('0', '1'): Text(-0.31213490044069825, 0.0229285235823255, '1'),\n",
              " ('0', '2'): Text(0.18180059090333675, -0.7976561108038269, '2'),\n",
              " ('0', '3'): Text(-0.6981592185316541, -0.4262551763130149, '2'),\n",
              " ('0', '4'): Text(0.2340158724740534, -0.207744883060842, '1'),\n",
              " ('1', '2'): Text(0.26598412752594675, 0.16442417717540436, '1'),\n",
              " ('1', '3'): Text(-0.6139756819090442, 0.5358251116662163, '2'),\n",
              " ('1', '4'): Text(0.3181994090966634, 0.7543354049183892, '2'),\n",
              " ('2', '3'): Text(-0.12004019056500914, -0.28475952271993604, '1'),\n",
              " ('2', '4'): Text(0.8121349004406984, -0.06624922946776313, '2'),\n",
              " ('3', '4'): Text(-0.0678249089942925, 0.30515170502304884, '1')}"
            ]
          },
          "metadata": {},
          "execution_count": 6
        },
        {
          "output_type": "display_data",
          "data": {
            "text/plain": [
              "<Figure size 432x288 with 1 Axes>"
            ],
            "image/png": "[encoded data removed]"
          },
          "metadata": {}
        }
      ]
    },
    {
      "cell_type": "markdown",
      "source": [
        "We implement the QAOA algorithm on this data set. We choose:\n",
        "- Mixer Hamiltonian: $\\hat{H}_M = \\sum_{i=0}^{N-1} X_i$\n",
        "- Problem Hamiltonin as defined above\n",
        "\n",
        "For an approximate Trotterization with p steps, the evolution yields the following state:\n",
        "\\begin{equation}\n",
        "|\\overrightarrow{\\gamma}, \\overrightarrow{\\beta}\\rangle = e^{i\\beta_p H_M} e^{i\\gamma_p H_P} \\cdots e^{i\\beta_1 H_M} e^{i\\gamma_1 H_P}|+\\rangle^{\\otimes{N}}\n",
        "\\end{equation}\n",
        "where $|+\\rangle^{\\otimes{N}} = \\frac{1}{\\sqrt{2^N}} \\sum_{z\\in \\{0,1\\}^N} |z\\rangle $ is an equal superposition of all bitstrings."
      ],
      "metadata": {
        "id": "QiItM9uZKZoU"
      }
    },
    {
      "cell_type": "code",
      "source": [
        "dev = qml.device(\"default.qubit\", wires=len(G.nodes()), shots= 1024)\n",
        "\n",
        "@qml.qnode(dev)\n",
        "def QAOA_Circuit(G, weights, V, p, angles):\n",
        "  N_vertices = len(G.nodes())\n",
        "  wires = range(N_vertices)\n",
        "  distances = nx.get_edge_attributes(G, \"weight\")\n",
        "\n",
        "  # Initialize the states\n",
        "  for i in range(N_vertices):\n",
        "    qml.Hadamard(wires=wires[i])\n",
        "\n",
        "  # Apply QAOA\n",
        "  gammas = angles[:p]\n",
        "  beta = angles[p:]\n",
        "\n",
        "  problem_coef = []\n",
        "  problem_operators = []\n",
        "\n",
        "  for step in range(0, p):\n",
        "      \n",
        "  # Apply the problem Hamiltonian\n",
        "    \n",
        "    for i in range(0, N_vertices):\n",
        "       coef_single = V*weights[i] - sum([v for k,v in distances.items() if str(i) in k])\n",
        "       qml.RZ(coef_single*gammas[step], wires=wires[i])\n",
        "       if step == 1:\n",
        "         problem_coef += [coef_single]\n",
        "         problem_operators += [qml.PauliZ(wires=wires[i])]\n",
        "\n",
        "       for j in range(i+1, N_vertices):\n",
        "         coef_double = (1/2*weights[i]*weights[j] + 1/4*nx.get_edge_attributes(G, \"weight\")[(str(i), str(j))])\n",
        "         qml.MultiRZ(gammas[step]*coef_double, wires=[wires[i]]+[wires[j]])\n",
        "         if step == 1:\n",
        "           problem_coef += [coef_double]\n",
        "           problem_operators += [qml.PauliZ(wires[i]) @ qml.PauliZ(wires[j])]\n",
        "\n",
        "\n",
        "  # Apply the mixer Hamiltonian\n",
        "    for i in range(0, N_vertices):\n",
        "       qml.RX(beta[step], wires=wires[i])\n",
        "\n",
        "    # Compute the expectation value of the problem Hamiltonian\n",
        "    # problem_H = qml.Hamiltonian(problem_coef, problem_operators)\n",
        "\n",
        "  return qml.expval(qml.Hamiltonian(problem_coef, problem_operators))\n"
      ],
      "metadata": {
        "id": "zc9MhBK3MJqV"
      },
      "execution_count": 7,
      "outputs": []
    },
    {
      "cell_type": "code",
      "source": [
        "@qml.qnode(dev)\n",
        "def QAOA_Circuit_optimized_probas(G, weights, V, p, angles):\n",
        "  N_vertices = len(G.nodes())\n",
        "  wires = range(N_vertices)\n",
        "  distances = nx.get_edge_attributes(G, \"weight\")\n",
        "\n",
        "  # Initialize the states\n",
        "  for i in range(N_vertices):\n",
        "    qml.Hadamard(wires=wires[i])\n",
        "\n",
        "  # Apply QAOA\n",
        "  gammas = angles[:p]\n",
        "  beta = angles[p:]\n",
        "\n",
        "  for step in range(0, p):\n",
        "      \n",
        "  # Apply the problem Hamiltonian\n",
        "    \n",
        "    for i in range(0, N_vertices):\n",
        "       coef_single = V*weights[i] - sum([v for k,v in distances.items() if str(i) in k])\n",
        "       qml.RZ(coef_single*gammas[step], wires=wires[i])\n",
        "\n",
        "       for j in range(i+1, N_vertices):\n",
        "         coef_double = (1/2*weights[i]*weights[j] + 1/4*nx.get_edge_attributes(G, \"weight\")[(str(i), str(j))])\n",
        "         qml.MultiRZ(gammas[step]*coef_double, wires=[wires[i]]+[wires[j]])\n",
        "\n",
        "  # Apply the mixer Hamiltonian\n",
        "    for i in range(0, N_vertices):\n",
        "       qml.RX(beta[step], wires=wires[i])\n",
        "\n",
        "  return qml.probs(wires)"
      ],
      "metadata": {
        "id": "ZKp_UBGi23J6"
      },
      "execution_count": 151,
      "outputs": []
    },
    {
      "cell_type": "code",
      "source": [
        "# Optimize the angles\n",
        "def cost_function(G, weights, V, p, angles):\n",
        "  def optimizable_object(angles):\n",
        "    cost_exp_val = QAOA_Circuit(G, weights, V, p, angles)\n",
        "    return cost_exp_val\n",
        "  return optimizable_object"
      ],
      "metadata": {
        "id": "i3CKY8f0mdV1"
      },
      "execution_count": 105,
      "outputs": []
    },
    {
      "cell_type": "code",
      "source": [
        "# Parameters\n",
        "V = 10\n",
        "weights = np.array([1,2,7,4,5], requires_grad=False)\n",
        "p=2\n",
        "\n",
        "angles = np.array(2*p*[np.pi/4], requires_grad=True)\n",
        "#angles = np.pi/p*np.array(2*p*[0])\n",
        "shots=1024\n",
        "\n",
        "dev = qml.device(\"default.qubit\", wires=len(G.nodes()), shots=shots)"
      ],
      "metadata": {
        "id": "7hZXeG4dOj1w"
      },
      "execution_count": 235,
      "outputs": []
    },
    {
      "cell_type": "code",
      "source": [
        "circuit = QAOA_Circuit(G, weights, V, p, angles)"
      ],
      "metadata": {
        "id": "c2H1BfBmu6Ma"
      },
      "execution_count": 236,
      "outputs": []
    },
    {
      "cell_type": "code",
      "source": [
        "from scipy.optimize import minimize\n",
        "cost = cost_function(G, weights, V, p, angles)\n",
        "optimized_params = minimize(cost, angles, method='COBYLA')\n",
        "optimized_angles = optimized_params.x\n",
        "\n",
        "#optimizer = qml.GradientDescentOptimizer(stepsize=0.8)\n",
        "#cost = cost_function(G, weights, V, p, angles)\n",
        "#for k in range(100):\n",
        "#    if k % 5 == 0:\n",
        "#        print(f\"Step {k}, cost: {cost(angles)}\")\n",
        "#    angles = optimizer.step(cost, angles)\n",
        "#optimized_angles = angles"
      ],
      "metadata": {
        "id": "t-XpCGgc1edP"
      },
      "execution_count": 237,
      "outputs": []
    },
    {
      "cell_type": "code",
      "source": [
        "proba_opt = QAOA_Circuit_optimized_probas(G, weights, V, p, optimized_angles)\n",
        "exp_val_opt = QAOA_Circuit(G, weights, V, p, optimized_angles)\n",
        "#probas_opt = result(0)\n",
        "#exp_val = result(1)\n",
        "print(exp_val_opt)"
      ],
      "metadata": {
        "colab": {
          "base_uri": "https://localhost:8080/"
        },
        "id": "jvZnSGY8BgR8",
        "outputId": "51e52b12-59d5-4db2-c805-352f2cab3af7"
      },
      "execution_count": 238,
      "outputs": [
        {
          "output_type": "stream",
          "name": "stdout",
          "text": [
            "-34.09912109375\n"
          ]
        }
      ]
    },
    {
      "cell_type": "code",
      "source": [
        "xlabels = [str(bin(i)[2:]) for i in range(len(proba_opt))]\n",
        "for x in range(len(xlabels)):\n",
        "  while len(xlabels[x])<len(xlabels[-1]):\n",
        "    xlabels[x] = '0' + xlabels[x]\n",
        "plt.grid()\n",
        "plt.bar(xlabels, proba_opt)\n",
        "plt.xticks(rotation=90)\n"
      ],
      "metadata": {
        "colab": {
          "base_uri": "https://localhost:8080/",
          "height": 848
        },
        "id": "L7fO-fuXBm5c",
        "outputId": "84cfb98a-fe71-4254-99c8-38215ef2631a"
      },
      "execution_count": 239,
      "outputs": [
        {
          "output_type": "execute_result",
          "data": {
            "text/plain": [
              "([0,\n",
              "  1,\n",
              "  2,\n",
              "  3,\n",
              "  4,\n",
              "  5,\n",
              "  6,\n",
              "  7,\n",
              "  8,\n",
              "  9,\n",
              "  10,\n",
              "  11,\n",
              "  12,\n",
              "  13,\n",
              "  14,\n",
              "  15,\n",
              "  16,\n",
              "  17,\n",
              "  18,\n",
              "  19,\n",
              "  20,\n",
              "  21,\n",
              "  22,\n",
              "  23,\n",
              "  24,\n",
              "  25,\n",
              "  26,\n",
              "  27,\n",
              "  28,\n",
              "  29,\n",
              "  30,\n",
              "  31],\n",
              " <a list of 32 Text major ticklabel objects>)"
            ]
          },
          "metadata": {},
          "execution_count": 239
        },
        {
          "output_type": "display_data",
          "data": {
            "text/plain": [
              "<Figure size 432x288 with 1 Axes>"
            ],
            "image/png": "[encoded data removed]"
          },
          "metadata": {
            "needs_background": "light"
          }
        }
      ]
    },
    {
      "cell_type": "code",
      "source": [
        "print(np.max(proba_opt))"
      ],
      "metadata": {
        "colab": {
          "base_uri": "https://localhost:8080/"
        },
        "id": "yYn1_QjXbPaX",
        "outputId": "cb8738fa-4e89-458e-9b11-aa1b9ecaa37f"
      },
      "execution_count": 240,
      "outputs": [
        {
          "output_type": "stream",
          "name": "stdout",
          "text": [
            "0.1015625\n"
          ]
        }
      ]
    },
    {
      "cell_type": "markdown",
      "source": [
        "## Classical algorithm"
      ],
      "metadata": {
        "id": "3biD-ZFOZB5U"
      }
    },
    {
      "cell_type": "code",
      "source": [
        "# Brute force\n",
        "def classical_cost_calculator(z, G, weights, V):\n",
        "   weights = np.array(weights)\n",
        "   z = np.array(list(int(z[i]) for i in range(len(z))), requires_grad=False)\n",
        "   distances = nx.get_edge_attributes(G, \"weight\")\n",
        "   cost = (V-np.dot(weights,z))**2\n",
        "   for i in range(len(G.nodes())):\n",
        "     for j in range(i+1, len(G.nodes())):\n",
        "       cost += distances[(str(i), str(j))] * z[i] * z[j]\n",
        "   return cost\n",
        "\n",
        "def int_to_binary(G):\n",
        "  N = len(G.nodes())\n",
        "  n_list = list(range(2^N))\n",
        "\n",
        "  def binary_filler(z,N):\n",
        "    while len(z)<N:\n",
        "      z = '0' + z\n",
        "      return z\n",
        "      \n",
        "  z_list = [binary_filler(bin(n_list[i])[2:], N) for i in range(len(n_list))]\n",
        "  return z_list"
      ],
      "metadata": {
        "id": "4ngBq0Z0ZEhO"
      },
      "execution_count": 230,
      "outputs": []
    },
    {
      "cell_type": "code",
      "source": [
        "z = '00' + bin(5)[2:]\n",
        "#classical_cost_calculator(z, G, weights, V)\n",
        "z = np.array(list(int(z[i]) for i in range(len(z))))\n",
        "weights = np.array(weights)\n",
        "cost = classical_cost_calculator(z, G, weights, V)\n",
        "cost = (V-np.dot(weights,z))**2\n",
        "cost\n",
        "z_list = int_to_binary(G)\n",
        "z_list"
      ],
      "metadata": {
        "colab": {
          "base_uri": "https://localhost:8080/",
          "height": 198
        },
        "id": "VaOZyX-kdT0T",
        "outputId": "4a53b76e-bcab-46c1-ffbb-33ced0368999"
      },
      "execution_count": 234,
      "outputs": [
        {
          "output_type": "error",
          "ename": "NameError",
          "evalue": "ignored",
          "traceback": [
            "\u001b[0;31m---------------------------------------------------------------------------\u001b[0m",
            "\u001b[0;31mNameError\u001b[0m                                 Traceback (most recent call last)",
            "\u001b[0;32m<ipython-input-234-7218df0f1373>\u001b[0m in \u001b[0;36m<module>\u001b[0;34m()\u001b[0m\n\u001b[1;32m      8\u001b[0m \u001b[0mz_list\u001b[0m \u001b[0;34m=\u001b[0m \u001b[0mint_to_binary\u001b[0m\u001b[0;34m(\u001b[0m\u001b[0mG\u001b[0m\u001b[0;34m)\u001b[0m\u001b[0;34m\u001b[0m\u001b[0;34m\u001b[0m\u001b[0m\n\u001b[1;32m      9\u001b[0m \u001b[0mz_list\u001b[0m\u001b[0;34m\u001b[0m\u001b[0;34m\u001b[0m\u001b[0m\n\u001b[0;32m---> 10\u001b[0;31m \u001b[0mbin\u001b[0m\u001b[0;34m(\u001b[0m\u001b[0mn_list\u001b[0m\u001b[0;34m[\u001b[0m\u001b[0;36m1\u001b[0m\u001b[0;34m]\u001b[0m\u001b[0;34m)\u001b[0m\u001b[0;34m[\u001b[0m\u001b[0;36m2\u001b[0m\u001b[0;34m:\u001b[0m\u001b[0;34m]\u001b[0m\u001b[0;34m\u001b[0m\u001b[0;34m\u001b[0m\u001b[0m\n\u001b[0m",
            "\u001b[0;31mNameError\u001b[0m: name 'n_list' is not defined"
          ]
        }
      ]
    },
    {
      "cell_type": "code",
      "source": [
        "distances = nx.get_edge_attributes(G, \"weight\")\n",
        "distances[('0', '1')]\n",
        "cost = (V-weights*z)**2\n",
        "cost"
      ],
      "metadata": {
        "colab": {
          "base_uri": "https://localhost:8080/"
        },
        "id": "1ISZliobdc2N",
        "outputId": "005b97e9-1cde-4895-b276-c1da049d145b"
      },
      "execution_count": 212,
      "outputs": [
        {
          "output_type": "execute_result",
          "data": {
            "text/plain": [
              "tensor([100, 100,   9, 100,  25], requires_grad=True)"
            ]
          },
          "metadata": {},
          "execution_count": 212
        }
      ]
    },
    {
      "cell_type": "code",
      "source": [
        "len(G.nodes())"
      ],
      "metadata": {
        "colab": {
          "base_uri": "https://localhost:8080/"
        },
        "id": "yl52JAZOeCU1",
        "outputId": "e0979ac3-32c2-427e-8043-aeda094ac383"
      },
      "execution_count": 225,
      "outputs": [
        {
          "output_type": "execute_result",
          "data": {
            "text/plain": [
              "5"
            ]
          },
          "metadata": {},
          "execution_count": 225
        }
      ]
    },
    {
      "cell_type": "code",
      "source": [
        ""
      ],
      "metadata": {
        "id": "Fe2uMEuXhDq3"
      },
      "execution_count": null,
      "outputs": []
    }
  ]
}